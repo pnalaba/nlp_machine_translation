{
 "cells": [
  {
   "cell_type": "markdown",
   "metadata": {
    "collapsed": true
   },
   "source": [
    "\n",
    "## Introduction\n",
    "In this notebook, you will build a deep neural network that functions as part of an end-to-end machine translation pipeline. Your completed pipeline will accept English text as input and return the French translation.\n",
    "\n",
    "- **Preprocess** - You'll convert text to sequence of integers.\n",
    "- **Models** Create models which accepts a sequence of integers as input and returns a probability distribution over possible translations. After learning about the basic types of neural networks that are often used for machine translation, you will engage in your own investigations, to design your own model!\n",
    "- **Prediction** Run the model on English text."
   ]
  },
  {
   "cell_type": "code",
   "execution_count": 1,
   "metadata": {},
   "outputs": [],
   "source": [
    "%load_ext autoreload\n",
    "%aimport helper, tests\n",
    "%autoreload 1"
   ]
  },
  {
   "cell_type": "code",
   "execution_count": 2,
   "metadata": {},
   "outputs": [],
   "source": [
    "import collections\n",
    "\n",
    "import helper\n",
    "import numpy as np\n",
    "import project_tests as tests\n",
    "\n",
    "from keras.preprocessing.text import Tokenizer\n",
    "from keras.preprocessing.sequence import pad_sequences\n",
    "from keras.models import Model\n",
    "from keras.layers import GRU, Input, Dense, TimeDistributed, Activation, RepeatVector, Bidirectional\n",
    "from keras.layers import ZeroPadding1D, Concatenate, Lambda\n",
    "from keras.layers.embeddings import Embedding\n",
    "from keras.optimizers import Adam\n",
    "from keras.losses import sparse_categorical_crossentropy\n",
    "from keras.models import Sequential\n",
    "import tensorflow as tf"
   ]
  },
  {
   "cell_type": "markdown",
   "metadata": {},
   "source": [
    "### Verify access to the GPU\n",
    "The following test applies only if you expect to be using a GPU, e.g., while running in a Udacity Workspace or using an AWS instance with GPU support. Run the next cell, and verify that the device_type is \"GPU\".\n",
    "- If the device is not GPU & you are running from a Udacity Workspace, then save your workspace with the icon at the top, then click \"enable\" at the bottom of the workspace.\n",
    "- If the device is not GPU & you are running from an AWS instance, then refer to the cloud computing instructions in the classroom to verify your setup steps."
   ]
  },
  {
   "cell_type": "code",
   "execution_count": 3,
   "metadata": {},
   "outputs": [
    {
     "name": "stdout",
     "output_type": "stream",
     "text": [
      "[name: \"/device:CPU:0\"\n",
      "device_type: \"CPU\"\n",
      "memory_limit: 268435456\n",
      "locality {\n",
      "}\n",
      "incarnation: 3212616006903183859\n",
      ", name: \"/device:XLA_CPU:0\"\n",
      "device_type: \"XLA_CPU\"\n",
      "memory_limit: 17179869184\n",
      "locality {\n",
      "}\n",
      "incarnation: 15845388781846458412\n",
      "physical_device_desc: \"device: XLA_CPU device\"\n",
      "]\n"
     ]
    }
   ],
   "source": [
    "from tensorflow.python.client import device_lib\n",
    "print(device_lib.list_local_devices())"
   ]
  },
  {
   "cell_type": "markdown",
   "metadata": {},
   "source": [
    "## Dataset\n",
    "We begin by investigating the dataset that will be used to train and evaluate your pipeline.  The most common datasets used for machine translation are from [WMT](http://www.statmt.org/).  However, that will take a long time to train a neural network on.  We'll be using a dataset we created for this project that contains a small vocabulary.  You'll be able to train your model in a reasonable time with this dataset.\n",
    "### Load Data\n",
    "The data is located in `data/small_vocab_en` and `data/small_vocab_fr`. The `small_vocab_en` file contains English sentences with their French translations in the `small_vocab_fr` file. Load the English and French data from these files from running the cell below."
   ]
  },
  {
   "cell_type": "code",
   "execution_count": 4,
   "metadata": {},
   "outputs": [
    {
     "name": "stdout",
     "output_type": "stream",
     "text": [
      "Dataset Loaded\n"
     ]
    }
   ],
   "source": [
    "# Load English data\n",
    "english_sentences = helper.load_data('data/small_vocab_en')\n",
    "# Load French data\n",
    "french_sentences = helper.load_data('data/small_vocab_fr')\n",
    "\n",
    "print('Dataset Loaded')"
   ]
  },
  {
   "cell_type": "markdown",
   "metadata": {},
   "source": [
    "### Files\n",
    "Each line in `small_vocab_en` contains an English sentence with the respective translation in each line of `small_vocab_fr`.  View the first two lines from each file."
   ]
  },
  {
   "cell_type": "code",
   "execution_count": 5,
   "metadata": {},
   "outputs": [
    {
     "name": "stdout",
     "output_type": "stream",
     "text": [
      "small_vocab_en Line 1:  new jersey is sometimes quiet during autumn , and it is snowy in april .\n",
      "small_vocab_fr Line 1:  new jersey est parfois calme pendant l' automne , et il est neigeux en avril .\n",
      "small_vocab_en Line 2:  the united states is usually chilly during july , and it is usually freezing in november .\n",
      "small_vocab_fr Line 2:  les états-unis est généralement froid en juillet , et il gèle habituellement en novembre .\n"
     ]
    }
   ],
   "source": [
    "for sample_i in range(2):\n",
    "    print('small_vocab_en Line {}:  {}'.format(sample_i + 1, english_sentences[sample_i]))\n",
    "    print('small_vocab_fr Line {}:  {}'.format(sample_i + 1, french_sentences[sample_i]))"
   ]
  },
  {
   "cell_type": "markdown",
   "metadata": {},
   "source": [
    "From looking at the sentences, you can see they have been preprocessed already.  The puncuations have been delimited using spaces. All the text have been converted to lowercase.  This should save you some time, but the text requires more preprocessing.\n",
    "### Vocabulary\n",
    "The complexity of the problem is determined by the complexity of the vocabulary.  A more complex vocabulary is a more complex problem.  Let's look at the complexity of the dataset we'll be working with."
   ]
  },
  {
   "cell_type": "code",
   "execution_count": 6,
   "metadata": {},
   "outputs": [
    {
     "name": "stdout",
     "output_type": "stream",
     "text": [
      "1823250 English words.\n",
      "227 unique English words.\n",
      "10 Most common words in the English dataset:\n",
      "\"is\" \",\" \".\" \"in\" \"it\" \"during\" \"the\" \"but\" \"and\" \"sometimes\"\n",
      "\n",
      "1961295 French words.\n",
      "355 unique French words.\n",
      "10 Most common words in the French dataset:\n",
      "\"est\" \".\" \",\" \"en\" \"il\" \"les\" \"mais\" \"et\" \"la\" \"parfois\"\n"
     ]
    }
   ],
   "source": [
    "english_words_counter = collections.Counter(\n",
    "    [word for sentence in english_sentences for word in sentence.split()])\n",
    "french_words_counter = collections.Counter(\n",
    "    [word for sentence in french_sentences for word in sentence.split()])\n",
    "\n",
    "print('{} English words.'.format(len([word for sentence in english_sentences for word in sentence.split()])))\n",
    "print('{} unique English words.'.format(len(english_words_counter)))\n",
    "print('10 Most common words in the English dataset:')\n",
    "print('\"' + '\" \"'.join(list(zip(*english_words_counter.most_common(10)))[0]) + '\"')\n",
    "print()\n",
    "print('{} French words.'.format(len([word for sentence in french_sentences for word in sentence.split()])))\n",
    "print('{} unique French words.'.format(len(french_words_counter)))\n",
    "print('10 Most common words in the French dataset:')\n",
    "print('\"' + '\" \"'.join(list(zip(*french_words_counter.most_common(10)))[0]) + '\"')"
   ]
  },
  {
   "cell_type": "markdown",
   "metadata": {},
   "source": [
    "For comparison, _Alice's Adventures in Wonderland_ contains 2,766 unique words of a total of 15,500 words.\n",
    "## Preprocess\n",
    "For this project, you won't use text data as input to your model. Instead, you'll convert the text into sequences of integers using the following preprocess methods:\n",
    "1. Tokenize the words into ids\n",
    "2. Add padding to make all the sequences the same length.\n",
    "\n",
    "Time to start preprocessing the data...\n",
    "### Tokenize (IMPLEMENTATION)\n",
    "For a neural network to predict on text data, it first has to be turned into data it can understand. Text data like \"dog\" is a sequence of ASCII character encodings.  Since a neural network is a series of multiplication and addition operations, the input data needs to be number(s).\n",
    "\n",
    "We can turn each character into a number or each word into a number.  These are called character and word ids, respectively.  Character ids are used for character level models that generate text predictions for each character.  A word level model uses word ids that generate text predictions for each word.  Word level models tend to learn better, since they are lower in complexity, so we'll use those.\n",
    "\n",
    "Turn each sentence into a sequence of words ids using Keras's [`Tokenizer`](https://keras.io/preprocessing/text/#tokenizer) function. Use this function to tokenize `english_sentences` and `french_sentences` in the cell below.\n",
    "\n",
    "Running the cell will run `tokenize` on sample data and show output for debugging."
   ]
  },
  {
   "cell_type": "code",
   "execution_count": 7,
   "metadata": {},
   "outputs": [
    {
     "name": "stdout",
     "output_type": "stream",
     "text": [
      "{'the': 1, 'quick': 2, 'a': 3, 'brown': 4, 'fox': 5, 'jumps': 6, 'over': 7, 'lazy': 8, 'dog': 9, 'by': 10, 'jove': 11, 'my': 12, 'study': 13, 'of': 14, 'lexicography': 15, 'won': 16, 'prize': 17, 'this': 18, 'is': 19, 'short': 20, 'sentence': 21}\n",
      "\n",
      "Sequence 1 in x\n",
      "  Input:  The quick brown fox jumps over the lazy dog .\n",
      "  Output: [1, 2, 4, 5, 6, 7, 1, 8, 9]\n",
      "Sequence 2 in x\n",
      "  Input:  By Jove , my quick study of lexicography won a prize .\n",
      "  Output: [10, 11, 12, 2, 13, 14, 15, 16, 3, 17]\n",
      "Sequence 3 in x\n",
      "  Input:  This is a short sentence .\n",
      "  Output: [18, 19, 3, 20, 21]\n"
     ]
    }
   ],
   "source": [
    "def tokenize(x):\n",
    "    \"\"\"\n",
    "    Tokenize x\n",
    "    :param x: List of sentences/strings to be tokenized\n",
    "    :return: Tuple of (tokenized x data, tokenizer used to tokenize x)\n",
    "    \"\"\"\n",
    "    # TODO: Implement\n",
    "    xt = Tokenizer()\n",
    "    xt.fit_on_texts(x)\n",
    "    return xt.texts_to_sequences(x), xt\n",
    "tests.test_tokenize(tokenize)\n",
    "\n",
    "# Tokenize Example output\n",
    "text_sentences = [\n",
    "    'The quick brown fox jumps over the lazy dog .',\n",
    "    'By Jove , my quick study of lexicography won a prize .',\n",
    "    'This is a short sentence .']\n",
    "text_tokenized, text_tokenizer = tokenize(text_sentences)\n",
    "print(text_tokenizer.word_index)\n",
    "print()\n",
    "for sample_i, (sent, token_sent) in enumerate(zip(text_sentences, text_tokenized)):\n",
    "    print('Sequence {} in x'.format(sample_i + 1))\n",
    "    print('  Input:  {}'.format(sent))\n",
    "    print('  Output: {}'.format(token_sent))"
   ]
  },
  {
   "cell_type": "markdown",
   "metadata": {},
   "source": [
    "### Padding (IMPLEMENTATION)\n",
    "When batching the sequence of word ids together, each sequence needs to be the same length.  Since sentences are dynamic in length, we can add padding to the end of the sequences to make them the same length.\n",
    "\n",
    "Make sure all the English sequences have the same length and all the French sequences have the same length by adding padding to the **end** of each sequence using Keras's [`pad_sequences`](https://keras.io/preprocessing/sequence/#pad_sequences) function."
   ]
  },
  {
   "cell_type": "code",
   "execution_count": 8,
   "metadata": {},
   "outputs": [
    {
     "name": "stdout",
     "output_type": "stream",
     "text": [
      "Sequence 1 in x\n",
      "  Input:  [1 2 4 5 6 7 1 8 9]\n",
      "  Output: [1 2 4 5 6 7 1 8 9 0]\n",
      "Sequence 2 in x\n",
      "  Input:  [10 11 12  2 13 14 15 16  3 17]\n",
      "  Output: [10 11 12  2 13 14 15 16  3 17]\n",
      "Sequence 3 in x\n",
      "  Input:  [18 19  3 20 21]\n",
      "  Output: [18 19  3 20 21  0  0  0  0  0]\n"
     ]
    }
   ],
   "source": [
    "def pad(x, length=None):\n",
    "    \"\"\"\n",
    "    Pad x\n",
    "    :param x: List of sequences.\n",
    "    :param length: Length to pad the sequence to.  If None, use length of longest sequence in x.\n",
    "    :return: Padded numpy array of sequences\n",
    "    \"\"\"\n",
    "    # TODO: Implement\n",
    "    if not length:\n",
    "        length = max((len(xs) for xs in x))\n",
    "    \n",
    "    return pad_sequences(x,maxlen=length, padding='post')\n",
    "tests.test_pad(pad)\n",
    "\n",
    "# Pad Tokenized output\n",
    "test_pad = pad(text_tokenized)\n",
    "for sample_i, (token_sent, pad_sent) in enumerate(zip(text_tokenized, test_pad)):\n",
    "    print('Sequence {} in x'.format(sample_i + 1))\n",
    "    print('  Input:  {}'.format(np.array(token_sent)))\n",
    "    print('  Output: {}'.format(pad_sent))"
   ]
  },
  {
   "cell_type": "markdown",
   "metadata": {},
   "source": [
    "### Preprocess Pipeline\n",
    "Your focus for this project is to build neural network architecture, so we won't ask you to create a preprocess pipeline.  Instead, we've provided you with the implementation of the `preprocess` function."
   ]
  },
  {
   "cell_type": "code",
   "execution_count": 10,
   "metadata": {},
   "outputs": [
    {
     "name": "stdout",
     "output_type": "stream",
     "text": [
      "Data Preprocessed\n",
      "Max English sentence length: 15\n",
      "Max French sentence length: 21\n",
      "English vocabulary size: 200\n",
      "French vocabulary size: 345\n"
     ]
    }
   ],
   "source": [
    "def preprocess(x, y):\n",
    "    \"\"\"\n",
    "    Preprocess x and y\n",
    "    :param x: Feature List of sentences\n",
    "    :param y: Label List of sentences\n",
    "    :return: Tuple of (Preprocessed x, Preprocessed y, x tokenizer, y tokenizer)\n",
    "    \"\"\"\n",
    "    preprocess_x, x_tk = tokenize(x)\n",
    "    preprocess_y, y_tk = tokenize(y)\n",
    "\n",
    "    preprocess_x = pad(preprocess_x)\n",
    "    preprocess_y = pad(preprocess_y)\n",
    "\n",
    "    # Keras's sparse_categorical_crossentropy function requires the labels to be in 3 dimensions\n",
    "    preprocess_y = preprocess_y.reshape(*preprocess_y.shape, 1)\n",
    "\n",
    "    return preprocess_x, preprocess_y, x_tk, y_tk\n",
    "\n",
    "preproc_english_sentences, preproc_french_sentences, english_tokenizer, french_tokenizer =\\\n",
    "    preprocess(english_sentences, french_sentences)\n",
    "    \n",
    "max_english_sequence_length = preproc_english_sentences.shape[1]\n",
    "max_french_sequence_length = preproc_french_sentences.shape[1]\n",
    "english_vocab_size = len(english_tokenizer.word_index)+1\n",
    "french_vocab_size = len(french_tokenizer.word_index)+1\n",
    "\n",
    "print('Data Preprocessed')\n",
    "print(\"Max English sentence length:\", max_english_sequence_length)\n",
    "print(\"Max French sentence length:\", max_french_sequence_length)\n",
    "print(\"English vocabulary size:\", english_vocab_size)\n",
    "print(\"French vocabulary size:\", french_vocab_size)"
   ]
  },
  {
   "cell_type": "markdown",
   "metadata": {},
   "source": [
    "## Models\n",
    "In this section, you will experiment with various neural network architectures.\n",
    "You will begin by training four relatively simple architectures.\n",
    "- Model 1 is a simple RNN\n",
    "- Model 2 is a RNN with Embedding\n",
    "- Model 3 is a Bidirectional RNN\n",
    "- Model 4 is an optional Encoder-Decoder RNN\n",
    "\n",
    "After experimenting with the four simple architectures, you will construct a deeper architecture that is designed to outperform all four models.\n",
    "### Ids Back to Text\n",
    "The neural network will be translating the input to words ids, which isn't the final form we want.  We want the French translation.  The function `logits_to_text` will bridge the gab between the logits from the neural network to the French translation.  You'll be using this function to better understand the output of the neural network."
   ]
  },
  {
   "cell_type": "code",
   "execution_count": 11,
   "metadata": {},
   "outputs": [
    {
     "name": "stdout",
     "output_type": "stream",
     "text": [
      "`logits_to_text` function loaded.\n"
     ]
    }
   ],
   "source": [
    "def logits_to_text(logits, tokenizer):\n",
    "    \"\"\"\n",
    "    Turn logits from a neural network into text using the tokenizer\n",
    "    :param logits: Logits from a neural network\n",
    "    :param tokenizer: Keras Tokenizer fit on the labels\n",
    "    :return: String that represents the text of the logits\n",
    "    \"\"\"\n",
    "    index_to_words = {id: word for word, id in tokenizer.word_index.items()}\n",
    "    index_to_words[0] = '<PAD>'\n",
    "\n",
    "    return ' '.join([index_to_words[prediction] for prediction in np.argmax(logits, 1)])\n",
    "\n",
    "print('`logits_to_text` function loaded.')"
   ]
  },
  {
   "cell_type": "markdown",
   "metadata": {},
   "source": [
    "### Model 1: RNN (IMPLEMENTATION)\n",
    "![RNN](images/rnn.png)\n",
    "A basic RNN model is a good baseline for sequence data.  In this model, you'll build a RNN that translates English to French."
   ]
  },
  {
   "cell_type": "code",
   "execution_count": 12,
   "metadata": {},
   "outputs": [],
   "source": [
    "# Reshaping the input to work with a basic RNN\n",
    "tmp_x = pad(preproc_english_sentences, max_french_sequence_length)\n",
    "tmp_x = tmp_x.reshape((-1, preproc_french_sentences.shape[-2], 1))"
   ]
  },
  {
   "cell_type": "code",
   "execution_count": 28,
   "metadata": {},
   "outputs": [
    {
     "name": "stdout",
     "output_type": "stream",
     "text": [
      "Epoch 1/30\n",
      "108/108 [==============================] - 30s 278ms/step - loss: 2.0447 - accuracy: 0.5365 - val_loss: 1.4770 - val_accuracy: 0.6078\n",
      "Epoch 2/30\n",
      "108/108 [==============================] - 31s 288ms/step - loss: 1.3277 - accuracy: 0.6321 - val_loss: 1.2206 - val_accuracy: 0.6471\n",
      "Epoch 3/30\n",
      "108/108 [==============================] - 31s 289ms/step - loss: 1.1654 - accuracy: 0.6556 - val_loss: 1.1189 - val_accuracy: 0.6640\n",
      "Epoch 4/30\n",
      "108/108 [==============================] - 32s 299ms/step - loss: 1.0972 - accuracy: 0.6645 - val_loss: 1.0680 - val_accuracy: 0.6742\n",
      "Epoch 5/30\n",
      "108/108 [==============================] - 72s 671ms/step - loss: 1.0520 - accuracy: 0.6733 - val_loss: 1.0326 - val_accuracy: 0.6770\n",
      "Epoch 6/30\n",
      "108/108 [==============================] - 30s 276ms/step - loss: 1.0270 - accuracy: 0.6778 - val_loss: 1.0110 - val_accuracy: 0.6897\n",
      "Epoch 7/30\n",
      "108/108 [==============================] - 30s 274ms/step - loss: 0.9915 - accuracy: 0.6902 - val_loss: 0.9815 - val_accuracy: 0.6968\n",
      "Epoch 8/30\n",
      "108/108 [==============================] - 71s 653ms/step - loss: 0.9585 - accuracy: 0.7022 - val_loss: 0.9738 - val_accuracy: 0.6988\n",
      "Epoch 9/30\n",
      "108/108 [==============================] - 30s 281ms/step - loss: 0.9305 - accuracy: 0.7109 - val_loss: 0.9168 - val_accuracy: 0.7134\n",
      "Epoch 10/30\n",
      "108/108 [==============================] - 30s 275ms/step - loss: 0.9100 - accuracy: 0.7174 - val_loss: 0.9076 - val_accuracy: 0.7226\n",
      "Epoch 11/30\n",
      "108/108 [==============================] - 70s 647ms/step - loss: 0.8945 - accuracy: 0.7248 - val_loss: 0.8830 - val_accuracy: 0.7274\n",
      "Epoch 12/30\n",
      "108/108 [==============================] - 29s 272ms/step - loss: 0.8572 - accuracy: 0.7351 - val_loss: 0.8407 - val_accuracy: 0.7404\n",
      "Epoch 13/30\n",
      "108/108 [==============================] - 29s 271ms/step - loss: 0.8346 - accuracy: 0.7416 - val_loss: 0.8207 - val_accuracy: 0.7465\n",
      "Epoch 14/30\n",
      "108/108 [==============================] - 65s 606ms/step - loss: 0.8258 - accuracy: 0.7427 - val_loss: 0.8206 - val_accuracy: 0.7433\n",
      "Epoch 15/30\n",
      "108/108 [==============================] - 32s 294ms/step - loss: 0.8120 - accuracy: 0.7460 - val_loss: 0.8073 - val_accuracy: 0.7491\n",
      "Epoch 16/30\n",
      "108/108 [==============================] - 31s 288ms/step - loss: 0.7975 - accuracy: 0.7503 - val_loss: 0.7862 - val_accuracy: 0.7556\n",
      "Epoch 17/30\n",
      "108/108 [==============================] - 73s 679ms/step - loss: 0.7765 - accuracy: 0.7582 - val_loss: 0.7674 - val_accuracy: 0.7624\n",
      "Epoch 18/30\n",
      "108/108 [==============================] - 31s 283ms/step - loss: 0.7923 - accuracy: 0.7523 - val_loss: 0.7862 - val_accuracy: 0.7535\n",
      "Epoch 19/30\n",
      "108/108 [==============================] - 31s 290ms/step - loss: 0.7747 - accuracy: 0.7588 - val_loss: 0.7668 - val_accuracy: 0.7595\n",
      "Epoch 20/30\n",
      "108/108 [==============================] - 74s 688ms/step - loss: 0.7635 - accuracy: 0.7624 - val_loss: 0.7647 - val_accuracy: 0.7613\n",
      "Epoch 21/30\n",
      "108/108 [==============================] - 31s 285ms/step - loss: 0.7536 - accuracy: 0.7644 - val_loss: 0.7520 - val_accuracy: 0.7649\n",
      "Epoch 22/30\n",
      "108/108 [==============================] - 31s 289ms/step - loss: 0.7499 - accuracy: 0.7643 - val_loss: 0.7348 - val_accuracy: 0.7692\n",
      "Epoch 23/30\n",
      "108/108 [==============================] - 71s 661ms/step - loss: 0.7507 - accuracy: 0.7645 - val_loss: 0.7532 - val_accuracy: 0.7618\n",
      "Epoch 24/30\n",
      "108/108 [==============================] - 31s 285ms/step - loss: 0.7347 - accuracy: 0.7691 - val_loss: 0.7216 - val_accuracy: 0.7748\n",
      "Epoch 25/30\n",
      "108/108 [==============================] - 75s 690ms/step - loss: 0.7337 - accuracy: 0.7687 - val_loss: 0.7235 - val_accuracy: 0.7736\n",
      "Epoch 26/30\n",
      "108/108 [==============================] - 31s 288ms/step - loss: 0.7238 - accuracy: 0.7715 - val_loss: 0.7228 - val_accuracy: 0.7699\n",
      "Epoch 27/30\n",
      "108/108 [==============================] - 31s 285ms/step - loss: 0.7449 - accuracy: 0.7660 - val_loss: 0.8036 - val_accuracy: 0.7521\n",
      "Epoch 28/30\n",
      "108/108 [==============================] - 77s 710ms/step - loss: 0.7527 - accuracy: 0.7620 - val_loss: 0.7663 - val_accuracy: 0.7559\n",
      "Epoch 29/30\n",
      "108/108 [==============================] - 35s 323ms/step - loss: 0.7357 - accuracy: 0.7700 - val_loss: 0.7206 - val_accuracy: 0.7748\n",
      "Epoch 30/30\n",
      "108/108 [==============================] - 75s 692ms/step - loss: 0.7160 - accuracy: 0.7770 - val_loss: 0.7251 - val_accuracy: 0.7704\n",
      "new jersey est parfois chaud en mois de il et il est en <PAD> <PAD> <PAD> <PAD> <PAD> <PAD> <PAD> <PAD>\n"
     ]
    }
   ],
   "source": [
    "\n",
    "def simple_model(input_shape, output_sequence_length, english_vocab_size, french_vocab_size):\n",
    "    \"\"\"\n",
    "    Build and train a basic RNN on x and y\n",
    "    :param input_shape: Tuple of input shape\n",
    "    :param output_sequence_length: Length of output sequence\n",
    "    :param english_vocab_size: Number of unique English words in the dataset\n",
    "    :param french_vocab_size: Number of unique French words in the dataset\n",
    "    :return: Keras model built, but not trained\n",
    "    \"\"\"\n",
    "    num_units=100\n",
    "    learning_rate=1e-2\n",
    "    # TODO: Build the layers\n",
    "    model = Sequential()\n",
    "    model.add(GRU(num_units, return_sequences=True, input_shape=input_shape[1:]))\n",
    "    model.add(Dense(french_vocab_size))\n",
    "    model.add(Activation('softmax'))\n",
    "    model.compile(loss=sparse_categorical_crossentropy,\n",
    "                  optimizer=Adam(learning_rate),\n",
    "                  metrics=['accuracy'])\n",
    "    return model\n",
    "tests.test_simple_model(simple_model)\n",
    "\n",
    "\n",
    "\n",
    "# Train the neural network\n",
    "simple_rnn_model = simple_model(\n",
    "    tmp_x.shape,\n",
    "    max_french_sequence_length,\n",
    "    english_vocab_size,\n",
    "    french_vocab_size)\n",
    "simple_rnn_model.fit(\n",
    "    tmp_x, preproc_french_sentences, batch_size=1024, \n",
    "    epochs=30, validation_split=0.2)\n",
    "\n",
    "# Print prediction(s)\n",
    "print(logits_to_text(\n",
    "    simple_rnn_model.predict(tmp_x[:1])[0], \n",
    "    french_tokenizer))"
   ]
  },
  {
   "cell_type": "markdown",
   "metadata": {},
   "source": [
    "### Model 2: Embedding (IMPLEMENTATION)\n",
    "![RNN](images/embedding.png)\n",
    "You've turned the words into ids, but there's a better representation of a word.  This is called word embeddings.  An embedding is a vector representation of the word that is close to similar words in n-dimensional space, where the n represents the size of the embedding vectors.\n",
    "\n",
    "In this model, you'll create a RNN model using embedding."
   ]
  },
  {
   "cell_type": "code",
   "execution_count": 29,
   "metadata": {},
   "outputs": [
    {
     "data": {
      "text/plain": [
       "(137861, 21, 1)"
      ]
     },
     "execution_count": 29,
     "metadata": {},
     "output_type": "execute_result"
    }
   ],
   "source": [
    "tmp_x.shape"
   ]
  },
  {
   "cell_type": "code",
   "execution_count": 30,
   "metadata": {},
   "outputs": [
    {
     "name": "stdout",
     "output_type": "stream",
     "text": [
      "(137861, 21)\n",
      "Epoch 1/15\n",
      "108/108 [==============================] - 25s 228ms/step - loss: 2.6035 - accuracy: 0.4801 - val_loss: 1.6046 - val_accuracy: 0.6151\n",
      "Epoch 2/15\n",
      "108/108 [==============================] - 26s 241ms/step - loss: 1.2094 - accuracy: 0.6929 - val_loss: 0.9163 - val_accuracy: 0.7567\n",
      "Epoch 3/15\n",
      "108/108 [==============================] - 26s 240ms/step - loss: 0.7646 - accuracy: 0.7883 - val_loss: 0.6450 - val_accuracy: 0.8152\n",
      "Epoch 4/15\n",
      "108/108 [==============================] - 26s 243ms/step - loss: 0.5816 - accuracy: 0.8295 - val_loss: 0.5237 - val_accuracy: 0.8459\n",
      "Epoch 5/15\n",
      "108/108 [==============================] - 66s 613ms/step - loss: 0.4891 - accuracy: 0.8545 - val_loss: 0.4550 - val_accuracy: 0.8639\n",
      "Epoch 6/15\n",
      "108/108 [==============================] - 23s 209ms/step - loss: 0.4318 - accuracy: 0.8700 - val_loss: 0.4077 - val_accuracy: 0.8778\n",
      "Epoch 7/15\n",
      "108/108 [==============================] - 23s 210ms/step - loss: 0.3927 - accuracy: 0.8814 - val_loss: 0.3801 - val_accuracy: 0.8848\n",
      "Epoch 8/15\n",
      "108/108 [==============================] - 68s 632ms/step - loss: 0.3641 - accuracy: 0.8893 - val_loss: 0.3601 - val_accuracy: 0.8897\n",
      "Epoch 9/15\n",
      "108/108 [==============================] - 23s 211ms/step - loss: 0.3436 - accuracy: 0.8948 - val_loss: 0.3416 - val_accuracy: 0.8952\n",
      "Epoch 10/15\n",
      "108/108 [==============================] - 23s 209ms/step - loss: 0.3294 - accuracy: 0.8989 - val_loss: 0.3265 - val_accuracy: 0.8994\n",
      "Epoch 11/15\n",
      "108/108 [==============================] - 72s 668ms/step - loss: 0.3156 - accuracy: 0.9027 - val_loss: 0.3324 - val_accuracy: 0.8975\n",
      "Epoch 12/15\n",
      "108/108 [==============================] - 23s 213ms/step - loss: 0.3066 - accuracy: 0.9052 - val_loss: 0.3069 - val_accuracy: 0.9056\n",
      "Epoch 13/15\n",
      "108/108 [==============================] - 49s 451ms/step - loss: 0.2998 - accuracy: 0.9070 - val_loss: 0.2997 - val_accuracy: 0.9078\n",
      "Epoch 14/15\n",
      "108/108 [==============================] - 46s 425ms/step - loss: 0.2920 - accuracy: 0.9089 - val_loss: 0.3013 - val_accuracy: 0.9066\n",
      "Epoch 15/15\n",
      "108/108 [==============================] - 22s 204ms/step - loss: 0.2844 - accuracy: 0.9111 - val_loss: 0.2923 - val_accuracy: 0.9095\n",
      "new jersey est parfois calme en l' automne et il est neigeux en avril <PAD> <PAD> <PAD> <PAD> <PAD> <PAD> <PAD>\n"
     ]
    }
   ],
   "source": [
    "def embed_model(input_shape, output_sequence_length, \n",
    "                english_vocab_size, french_vocab_size):\n",
    "    \"\"\"\n",
    "    Build and train a RNN model using word embedding on x and y\n",
    "    :param input_shape: Tuple of input shape\n",
    "    :param output_sequence_length: Length of output sequence\n",
    "    :param english_vocab_size: Number of unique English words in the dataset\n",
    "    :param french_vocab_size: Number of unique French words in the dataset\n",
    "    :return: Keras model built, but not trained\n",
    "    \"\"\"\n",
    "    # TODO: Implement\n",
    "    num_units=64\n",
    "    learning_rate=1e-2\n",
    "    embedding_size=10\n",
    "    model = Sequential()\n",
    "    model.add(Embedding(\n",
    "        input_dim=english_vocab_size+1,output_dim=embedding_size,\n",
    "        input_shape=input_shape[1:]\n",
    "    ))\n",
    "    model.add(GRU(\n",
    "        num_units, return_sequences=True\n",
    "        ))\n",
    "    model.add(Dense(french_vocab_size))\n",
    "    model.add(Activation('softmax'))\n",
    "    model.compile(loss=sparse_categorical_crossentropy,\n",
    "                  optimizer=Adam(learning_rate),\n",
    "                  metrics=['accuracy'])\n",
    "    \n",
    "    return model\n",
    "tests.test_embed_model(embed_model)\n",
    "\n",
    "# TODO: Reshape the input\n",
    "tmp_x = pad(preproc_english_sentences, max_french_sequence_length)\n",
    "# tmp_x = tmp_x.reshape((-1, preproc_french_sentences.shape[-2]))\n",
    "print(tmp_x.shape)\n",
    "\n",
    "# TODO: Train the neural network\n",
    "embed_rnn_model = embed_model(\n",
    "    tmp_x.shape,\n",
    "    max_french_sequence_length,\n",
    "    english_vocab_size,\n",
    "    french_vocab_size)\n",
    "\n",
    "embed_rnn_model.fit(\n",
    "    tmp_x, preproc_french_sentences, batch_size=1024, epochs=15,\n",
    "    validation_split=0.2)\n",
    "\n",
    "# TODO: Print prediction(s)\n",
    "print(logits_to_text(\n",
    "    embed_rnn_model.predict(tmp_x[:1])[0], french_tokenizer))"
   ]
  },
  {
   "cell_type": "code",
   "execution_count": 31,
   "metadata": {},
   "outputs": [
    {
     "name": "stdout",
     "output_type": "stream",
     "text": [
      "new jersey est parfois calme pendant l' automne , et il est neigeux en avril .\n"
     ]
    }
   ],
   "source": [
    "print(french_sentences[0])"
   ]
  },
  {
   "cell_type": "markdown",
   "metadata": {},
   "source": [
    "### Model 3: Bidirectional RNNs (IMPLEMENTATION)\n",
    "![RNN](images/bidirectional.png)\n",
    "One restriction of a RNN is that it can't see the future input, only the past.  This is where bidirectional recurrent neural networks come in.  They are able to see the future data."
   ]
  },
  {
   "cell_type": "code",
   "execution_count": 15,
   "metadata": {},
   "outputs": [
    {
     "name": "stdout",
     "output_type": "stream",
     "text": [
      "Epoch 1/15\n",
      "108/108 [==============================] - 43s 399ms/step - loss: 1.6559 - accuracy: 0.5984 - val_loss: 1.1973 - val_accuracy: 0.6578\n",
      "Epoch 2/15\n",
      "108/108 [==============================] - 42s 385ms/step - loss: 1.1056 - accuracy: 0.6745 - val_loss: 1.0337 - val_accuracy: 0.6865\n",
      "Epoch 3/15\n",
      "108/108 [==============================] - 42s 390ms/step - loss: 0.9922 - accuracy: 0.6919 - val_loss: 0.9671 - val_accuracy: 0.6951\n",
      "Epoch 4/15\n",
      "108/108 [==============================] - 78s 722ms/step - loss: 0.9714 - accuracy: 0.6911 - val_loss: 0.9346 - val_accuracy: 0.6983\n",
      "Epoch 5/15\n",
      "108/108 [==============================] - 41s 375ms/step - loss: 0.9073 - accuracy: 0.7034 - val_loss: 0.8818 - val_accuracy: 0.7102\n",
      "Epoch 6/15\n",
      "108/108 [==============================] - 82s 761ms/step - loss: 0.8742 - accuracy: 0.7082 - val_loss: 0.8519 - val_accuracy: 0.7147\n",
      "Epoch 7/15\n",
      "108/108 [==============================] - 41s 379ms/step - loss: 0.8449 - accuracy: 0.7141 - val_loss: 0.8389 - val_accuracy: 0.7157\n",
      "Epoch 8/15\n",
      "108/108 [==============================] - 85s 784ms/step - loss: 0.8229 - accuracy: 0.7178 - val_loss: 0.8164 - val_accuracy: 0.7199\n",
      "Epoch 9/15\n",
      "108/108 [==============================] - 44s 406ms/step - loss: 0.8001 - accuracy: 0.7243 - val_loss: 0.8143 - val_accuracy: 0.7203\n",
      "Epoch 10/15\n",
      "108/108 [==============================] - 75s 694ms/step - loss: 0.7868 - accuracy: 0.7283 - val_loss: 0.7718 - val_accuracy: 0.7324\n",
      "Epoch 11/15\n",
      "108/108 [==============================] - 71s 661ms/step - loss: 0.7661 - accuracy: 0.7363 - val_loss: 0.7747 - val_accuracy: 0.7244\n",
      "Epoch 12/15\n",
      "108/108 [==============================] - 51s 469ms/step - loss: 0.7573 - accuracy: 0.7344 - val_loss: 0.7375 - val_accuracy: 0.7464\n",
      "Epoch 13/15\n",
      "108/108 [==============================] - 75s 693ms/step - loss: 0.7637 - accuracy: 0.7382 - val_loss: 0.7677 - val_accuracy: 0.7435\n",
      "Epoch 14/15\n",
      "108/108 [==============================] - 42s 393ms/step - loss: 0.7435 - accuracy: 0.7500 - val_loss: 0.7197 - val_accuracy: 0.7608\n",
      "Epoch 15/15\n",
      "108/108 [==============================] - 40s 374ms/step - loss: 0.7204 - accuracy: 0.7580 - val_loss: 0.7043 - val_accuracy: 0.7654\n",
      "new jersey est parfois calme au mois de mai est est est en en <PAD> <PAD> <PAD> <PAD> <PAD> <PAD> <PAD>\n"
     ]
    }
   ],
   "source": [
    "def bd_model(input_shape, output_sequence_length, \n",
    "             english_vocab_size, french_vocab_size):\n",
    "    \"\"\"\n",
    "    Build and train a bidirectional RNN model on x and y\n",
    "    :param input_shape: Tuple of input shape\n",
    "    :param output_sequence_length: Length of output sequence\n",
    "    :param english_vocab_size: Number of unique English words in the dataset\n",
    "    :param french_vocab_size: Number of unique French words in the dataset\n",
    "    :return: Keras model built, but not trained\n",
    "    \"\"\"\n",
    "    # TODO: Implement\n",
    "    num_units=100\n",
    "    learning_rate=1e-2\n",
    "    # TODO: Build the layers\n",
    "    model = Sequential()\n",
    "    model.add(\n",
    "        Bidirectional(GRU(num_units, return_sequences=True),\n",
    "                      input_shape=input_shape[1:])\n",
    "    )\n",
    "    model.add(Dense(french_vocab_size))\n",
    "    model.add(Activation('softmax'))\n",
    "    model.compile(loss=sparse_categorical_crossentropy,\n",
    "                  optimizer=Adam(learning_rate),\n",
    "                  metrics=['accuracy'])\n",
    "    \n",
    "    return model\n",
    "\n",
    "tests.test_bd_model(bd_model)\n",
    "\n",
    "# TODO: Reshape the input\n",
    "tmp_x = pad(preproc_english_sentences, max_french_sequence_length)\n",
    "tmp_x = tmp_x.reshape((-1, preproc_french_sentences.shape[-2], 1))\n",
    "\n",
    "# TODO: Train the neural network\n",
    "bd_rnn_model = bd_model(\n",
    "    tmp_x.shape,\n",
    "    max_french_sequence_length,\n",
    "    english_vocab_size,\n",
    "    french_vocab_size)\n",
    "\n",
    "bd_rnn_model.fit(\n",
    "    tmp_x, preproc_french_sentences, batch_size=1024, epochs=15,\n",
    "    validation_split=0.2)\n",
    "\n",
    "# TODO: Train and Print prediction(s)\n",
    "print(logits_to_text(\n",
    "    bd_rnn_model.predict(tmp_x[:1])[0], french_tokenizer))"
   ]
  },
  {
   "cell_type": "markdown",
   "metadata": {},
   "source": [
    "### Model 4: Encoder-Decoder (OPTIONAL)\n",
    "Time to look at encoder-decoder models.  This model is made up of an encoder and decoder. The encoder creates a matrix representation of the sentence.  The decoder takes this matrix as input and predicts the translation as output.\n",
    "\n",
    "Create an encoder-decoder model in the cell below."
   ]
  },
  {
   "cell_type": "code",
   "execution_count": null,
   "metadata": {},
   "outputs": [],
   "source": [
    "def encdec_model(input_shape, output_sequence_length, \n",
    "                 english_vocab_size, french_vocab_size):\n",
    "    \"\"\"\n",
    "    Build and train an encoder-decoder model on x and y\n",
    "    :param input_shape: Tuple of input shape\n",
    "    :param output_sequence_length: Length of output sequence\n",
    "    :param english_vocab_size: Number of unique English words in the dataset\n",
    "    :param french_vocab_size: Number of unique French words in the dataset\n",
    "    :return: Keras model built, but not trained\n",
    "    \"\"\"\n",
    "    # OPTIONAL: Implement\n",
    "    # \n",
    "\n",
    "    \n",
    "\n",
    "    return None\n",
    "tests.test_encdec_model(encdec_model)\n",
    "\n",
    "\n",
    "# OPTIONAL: Train and Print prediction(s)"
   ]
  },
  {
   "cell_type": "markdown",
   "metadata": {},
   "source": [
    "### Model 5: Custom (IMPLEMENTATION)\n",
    "Use everything you learned from the previous models to create a model that incorporates embedding and a bidirectional rnn into one model."
   ]
  },
  {
   "cell_type": "code",
   "execution_count": 16,
   "metadata": {},
   "outputs": [
    {
     "name": "stdout",
     "output_type": "stream",
     "text": [
      "Final Model Loaded\n"
     ]
    }
   ],
   "source": [
    "def model_final(input_shape, output_sequence_length, english_vocab_size, french_vocab_size):\n",
    "    \"\"\"\n",
    "    Build and train a model that incorporates embedding, encoder-decoder, and bidirectional RNN on x and y\n",
    "    :param input_shape: Tuple of input shape\n",
    "    :param output_sequence_length: Length of output sequence\n",
    "    :param english_vocab_size: Number of unique English words in the dataset\n",
    "    :param french_vocab_size: Number of unique French words in the dataset\n",
    "    :return: Keras model built, but not trained\n",
    "    \"\"\"\n",
    "    # TODO: Implement\n",
    "    num_units=128\n",
    "    learning_rate=5e-3\n",
    "    embedding_size=8\n",
    "    \n",
    "    # Create a layer to pad zeros to the input sequences\n",
    "    zero_length=output_sequence_length-input_shape[1]\n",
    "    def concatenate_zeros(x):\n",
    "        zeros_tensor = tf.zeros_like(x)[:,:zero_length]\n",
    "        return tf.concat([x,zeros_tensor],axis=len(input_shape)-1)\n",
    "    concat_layer = Lambda(concatenate_zeros,input_shape=input_shape[1:])\n",
    "\n",
    "    model = Sequential()\n",
    "    model.add(concat_layer)\n",
    "    model.add(Embedding(\n",
    "        input_dim=english_vocab_size+1,output_dim=embedding_size,\n",
    "        input_shape=input_shape[1:]\n",
    "    ))\n",
    "    model.add(Bidirectional(\n",
    "        GRU(num_units, return_sequences=True)))\n",
    "    model.add(Dense(french_vocab_size))\n",
    "    model.add(Activation('softmax'))\n",
    "\n",
    "    model.compile(loss=sparse_categorical_crossentropy,\n",
    "                  optimizer=Adam(lr=learning_rate),\n",
    "                  metrics=['accuracy'])\n",
    "    \n",
    "    return model\n",
    "\n",
    "tests.test_model_final(model_final)\n",
    "\n",
    "\n",
    "print('Final Model Loaded')\n",
    "# TODO: Train the final model\n",
    "#final_rnn_model = model_final(\n",
    "#    preproc_english_sentences.shape,\n",
    "#    max_french_sequence_length,\n",
    "#    english_vocab_size,\n",
    "#    french_vocab_size)\n",
    "\n",
    "# final_rnn_model.fit(\n",
    "#    preproc_english_sentences, preproc_french_sentences, batch_size=1024, epochs=20,\n",
    "#    validation_split=0.2)"
   ]
  },
  {
   "cell_type": "markdown",
   "metadata": {},
   "source": [
    "## Prediction (IMPLEMENTATION)"
   ]
  },
  {
   "cell_type": "code",
   "execution_count": 18,
   "metadata": {},
   "outputs": [
    {
     "name": "stdout",
     "output_type": "stream",
     "text": [
      "200 345 (137861, 15) 21\n",
      "Epoch 1/20\n",
      "108/108 [==============================] - 49s 458ms/step - loss: 2.6852 - accuracy: 0.4684 - val_loss: 1.9691 - val_accuracy: 0.5478\n",
      "Epoch 2/20\n",
      "108/108 [==============================] - 50s 459ms/step - loss: 1.3555 - accuracy: 0.6546 - val_loss: 0.9847 - val_accuracy: 0.7485\n",
      "Epoch 3/20\n",
      "108/108 [==============================] - 87s 809ms/step - loss: 0.7970 - accuracy: 0.7883 - val_loss: 0.6354 - val_accuracy: 0.8265\n",
      "Epoch 4/20\n",
      "108/108 [==============================] - 49s 454ms/step - loss: 0.5303 - accuracy: 0.8517 - val_loss: 0.4438 - val_accuracy: 0.8730\n",
      "Epoch 5/20\n",
      "108/108 [==============================] - 89s 824ms/step - loss: 0.3801 - accuracy: 0.8907 - val_loss: 0.3287 - val_accuracy: 0.9039\n",
      "Epoch 6/20\n",
      "108/108 [==============================] - 49s 452ms/step - loss: 0.2979 - accuracy: 0.9123 - val_loss: 0.2869 - val_accuracy: 0.9148\n",
      "Epoch 7/20\n",
      "108/108 [==============================] - 92s 850ms/step - loss: 0.2444 - accuracy: 0.9273 - val_loss: 0.2352 - val_accuracy: 0.9294\n",
      "Epoch 8/20\n",
      "108/108 [==============================] - 88s 816ms/step - loss: 0.2090 - accuracy: 0.9379 - val_loss: 0.1996 - val_accuracy: 0.9407\n",
      "Epoch 9/20\n",
      "108/108 [==============================] - 49s 450ms/step - loss: 0.1813 - accuracy: 0.9464 - val_loss: 0.1755 - val_accuracy: 0.9485\n",
      "Epoch 10/20\n",
      "108/108 [==============================] - 89s 821ms/step - loss: 0.1599 - accuracy: 0.9531 - val_loss: 0.1581 - val_accuracy: 0.9543\n",
      "Epoch 11/20\n",
      "108/108 [==============================] - 49s 454ms/step - loss: 0.1452 - accuracy: 0.9573 - val_loss: 0.1533 - val_accuracy: 0.9546\n",
      "Epoch 12/20\n",
      "108/108 [==============================] - 88s 814ms/step - loss: 0.1325 - accuracy: 0.9611 - val_loss: 0.1395 - val_accuracy: 0.9592\n",
      "Epoch 13/20\n",
      "108/108 [==============================] - 77s 711ms/step - loss: 0.1236 - accuracy: 0.9638 - val_loss: 0.1322 - val_accuracy: 0.9621\n",
      "Epoch 14/20\n",
      "108/108 [==============================] - 58s 534ms/step - loss: 0.1140 - accuracy: 0.9666 - val_loss: 0.1277 - val_accuracy: 0.9622\n",
      "Epoch 15/20\n",
      "108/108 [==============================] - 92s 848ms/step - loss: 0.1064 - accuracy: 0.9687 - val_loss: 0.1138 - val_accuracy: 0.9668\n",
      "Epoch 16/20\n",
      "108/108 [==============================] - 51s 468ms/step - loss: 0.0993 - accuracy: 0.9709 - val_loss: 0.1108 - val_accuracy: 0.9677\n",
      "Epoch 17/20\n",
      "108/108 [==============================] - 96s 884ms/step - loss: 0.0948 - accuracy: 0.9721 - val_loss: 0.1051 - val_accuracy: 0.9695\n",
      "Epoch 18/20\n",
      "108/108 [==============================] - 92s 852ms/step - loss: 0.0917 - accuracy: 0.9731 - val_loss: 0.1084 - val_accuracy: 0.9692\n",
      "Epoch 19/20\n",
      "108/108 [==============================] - 48s 444ms/step - loss: 0.0880 - accuracy: 0.9739 - val_loss: 0.0985 - val_accuracy: 0.9715\n",
      "Epoch 20/20\n",
      "108/108 [==============================] - 86s 799ms/step - loss: 0.0832 - accuracy: 0.9755 - val_loss: 0.0957 - val_accuracy: 0.9725\n",
      "Sample 1:\n",
      "il a vu un vieux camion jaune <PAD> <PAD> <PAD> <PAD> <PAD> <PAD> <PAD> <PAD> <PAD> <PAD> <PAD> <PAD> <PAD> <PAD>\n",
      "Il a vu un vieux camion jaune\n",
      "Sample 2:\n",
      "new jersey est parfois calme pendant l' automne et il est neigeux en avril <PAD> <PAD> <PAD> <PAD> <PAD> <PAD> <PAD>\n",
      "new jersey est parfois calme pendant l' automne et il est neigeux en avril <PAD> <PAD> <PAD> <PAD> <PAD> <PAD> <PAD>\n"
     ]
    }
   ],
   "source": [
    "def final_predictions(x, y, x_tk, y_tk):\n",
    "    \"\"\"\n",
    "    Gets predictions using the final model\n",
    "    :param x: Preprocessed English data\n",
    "    :param y: Preprocessed French data\n",
    "    :param x_tk: English tokenizer\n",
    "    :param y_tk: French tokenizer\n",
    "    \"\"\"\n",
    "    # TODO: Train neural network using model_final\n",
    "    x_vocab_size = len(x_tk.word_index)+1\n",
    "    y_vocab_size = len(y_tk.word_index)+1\n",
    "    print(x_vocab_size,y_vocab_size,x.shape,y.shape[1])\n",
    "    model = model_final(\n",
    "        x.shape,\n",
    "        y.shape[1],\n",
    "        x_vocab_size,\n",
    "        y_vocab_size\n",
    "    )\n",
    "    model.fit(x,y,batch_size=1024, epochs=20,validation_split=0.2)\n",
    "\n",
    "    \n",
    "    ## DON'T EDIT ANYTHING BELOW THIS LINE\n",
    "    y_id_to_word = {value: key for key, value in y_tk.word_index.items()}\n",
    "    y_id_to_word[0] = '<PAD>'\n",
    "\n",
    "    sentence = 'he saw a old yellow truck'\n",
    "    sentence = [x_tk.word_index[word] for word in sentence.split()]\n",
    "    sentence = pad_sequences([sentence], maxlen=x.shape[-1], padding='post')\n",
    "    sentences = np.array([sentence[0], x[0]])\n",
    "    predictions = model.predict(sentences, len(sentences))\n",
    "\n",
    "    print('Sample 1:')\n",
    "    print(' '.join([y_id_to_word[np.argmax(x)] for x in predictions[0]]))\n",
    "    print('Il a vu un vieux camion jaune')\n",
    "    print('Sample 2:')\n",
    "    print(' '.join([y_id_to_word[np.argmax(x)] for x in predictions[1]]))\n",
    "    print(' '.join([y_id_to_word[np.max(x)] for x in y[0]]))\n",
    "\n",
    "\n",
    "final_predictions(preproc_english_sentences, preproc_french_sentences, english_tokenizer, french_tokenizer)"
   ]
  },
  {
   "cell_type": "markdown",
   "metadata": {},
   "source": [
    "## Optional Enhancements\n",
    "\n",
    "This project focuses on learning various network architectures for machine translation, but we don't evaluate the models according to best practices by splitting the data into separate test & training sets -- so the model accuracy is overstated. Use the [`sklearn.model_selection.train_test_split()`](http://scikit-learn.org/stable/modules/generated/sklearn.model_selection.train_test_split.html) function to create separate training & test datasets, then retrain each of the models using only the training set and evaluate the prediction accuracy using the hold out test set. Does the \"best\" model change?"
   ]
  }
 ],
 "metadata": {
  "kernelspec": {
   "display_name": "venv",
   "language": "python",
   "name": "venv"
  },
  "language_info": {
   "codemirror_mode": {
    "name": "ipython",
    "version": 3
   },
   "file_extension": ".py",
   "mimetype": "text/x-python",
   "name": "python",
   "nbconvert_exporter": "python",
   "pygments_lexer": "ipython3",
   "version": "3.7.4"
  }
 },
 "nbformat": 4,
 "nbformat_minor": 1
}
