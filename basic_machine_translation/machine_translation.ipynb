{
 "cells": [
  {
   "cell_type": "markdown",
   "metadata": {
    "collapsed": true
   },
   "source": [
    "\n",
    "## Introduction\n",
    "In this notebook, you will build a deep neural network that functions as part of an end-to-end machine translation pipeline. Your completed pipeline will accept English text as input and return the French translation.\n",
    "\n",
    "- **Preprocess** - You'll convert text to sequence of integers.\n",
    "- **Models** Create models which accepts a sequence of integers as input and returns a probability distribution over possible translations. After learning about the basic types of neural networks that are often used for machine translation, you will engage in your own investigations, to design your own model!\n",
    "- **Prediction** Run the model on English text."
   ]
  },
  {
   "cell_type": "code",
   "execution_count": 1,
   "metadata": {},
   "outputs": [],
   "source": [
    "%load_ext autoreload\n",
    "%aimport helper, tests\n",
    "%autoreload 1"
   ]
  },
  {
   "cell_type": "code",
   "execution_count": 2,
   "metadata": {},
   "outputs": [],
   "source": [
    "import collections\n",
    "\n",
    "import helper\n",
    "import numpy as np\n",
    "import project_tests as tests\n",
    "\n",
    "from keras.preprocessing.text import Tokenizer\n",
    "from keras.preprocessing.sequence import pad_sequences\n",
    "from keras.models import Model\n",
    "from keras.layers import GRU, Input, Dense, TimeDistributed, Activation, RepeatVector, Bidirectional\n",
    "from keras.layers import ZeroPadding1D, Concatenate, Lambda\n",
    "from keras.layers.embeddings import Embedding\n",
    "from keras.optimizers import Adam\n",
    "from keras.losses import sparse_categorical_crossentropy\n",
    "from keras.models import Sequential\n",
    "import tensorflow as tf"
   ]
  },
  {
   "cell_type": "markdown",
   "metadata": {},
   "source": [
    "### Verify access to the GPU\n",
    "The following test applies only if you expect to be using a GPU, e.g., while running in a Udacity Workspace or using an AWS instance with GPU support. Run the next cell, and verify that the device_type is \"GPU\".\n",
    "- If the device is not GPU & you are running from a Udacity Workspace, then save your workspace with the icon at the top, then click \"enable\" at the bottom of the workspace.\n",
    "- If the device is not GPU & you are running from an AWS instance, then refer to the cloud computing instructions in the classroom to verify your setup steps."
   ]
  },
  {
   "cell_type": "code",
   "execution_count": 3,
   "metadata": {},
   "outputs": [
    {
     "name": "stdout",
     "output_type": "stream",
     "text": [
      "[name: \"/device:CPU:0\"\n",
      "device_type: \"CPU\"\n",
      "memory_limit: 268435456\n",
      "locality {\n",
      "}\n",
      "incarnation: 215719903260454535\n",
      ", name: \"/device:XLA_CPU:0\"\n",
      "device_type: \"XLA_CPU\"\n",
      "memory_limit: 17179869184\n",
      "locality {\n",
      "}\n",
      "incarnation: 5728432760092963462\n",
      "physical_device_desc: \"device: XLA_CPU device\"\n",
      "]\n"
     ]
    }
   ],
   "source": [
    "from tensorflow.python.client import device_lib\n",
    "print(device_lib.list_local_devices())"
   ]
  },
  {
   "cell_type": "markdown",
   "metadata": {},
   "source": [
    "## Dataset\n",
    "We begin by investigating the dataset that will be used to train and evaluate your pipeline.  The most common datasets used for machine translation are from [WMT](http://www.statmt.org/).  However, that will take a long time to train a neural network on.  We'll be using a dataset we created for this project that contains a small vocabulary.  You'll be able to train your model in a reasonable time with this dataset.\n",
    "### Load Data\n",
    "The data is located in `data/small_vocab_en` and `data/small_vocab_fr`. The `small_vocab_en` file contains English sentences with their French translations in the `small_vocab_fr` file. Load the English and French data from these files from running the cell below."
   ]
  },
  {
   "cell_type": "code",
   "execution_count": 4,
   "metadata": {},
   "outputs": [
    {
     "name": "stdout",
     "output_type": "stream",
     "text": [
      "Dataset Loaded\n"
     ]
    }
   ],
   "source": [
    "# Load English data\n",
    "english_sentences = helper.load_data('data/small_vocab_en')\n",
    "# Load French data\n",
    "french_sentences = helper.load_data('data/small_vocab_fr')\n",
    "\n",
    "print('Dataset Loaded')"
   ]
  },
  {
   "cell_type": "markdown",
   "metadata": {},
   "source": [
    "### Files\n",
    "Each line in `small_vocab_en` contains an English sentence with the respective translation in each line of `small_vocab_fr`.  View the first two lines from each file."
   ]
  },
  {
   "cell_type": "code",
   "execution_count": 5,
   "metadata": {},
   "outputs": [
    {
     "name": "stdout",
     "output_type": "stream",
     "text": [
      "small_vocab_en Line 1:  new jersey is sometimes quiet during autumn , and it is snowy in april .\n",
      "small_vocab_fr Line 1:  new jersey est parfois calme pendant l' automne , et il est neigeux en avril .\n",
      "small_vocab_en Line 2:  the united states is usually chilly during july , and it is usually freezing in november .\n",
      "small_vocab_fr Line 2:  les états-unis est généralement froid en juillet , et il gèle habituellement en novembre .\n"
     ]
    }
   ],
   "source": [
    "for sample_i in range(2):\n",
    "    print('small_vocab_en Line {}:  {}'.format(sample_i + 1, english_sentences[sample_i]))\n",
    "    print('small_vocab_fr Line {}:  {}'.format(sample_i + 1, french_sentences[sample_i]))"
   ]
  },
  {
   "cell_type": "markdown",
   "metadata": {},
   "source": [
    "From looking at the sentences, you can see they have been preprocessed already.  The puncuations have been delimited using spaces. All the text have been converted to lowercase.  This should save you some time, but the text requires more preprocessing.\n",
    "### Vocabulary\n",
    "The complexity of the problem is determined by the complexity of the vocabulary.  A more complex vocabulary is a more complex problem.  Let's look at the complexity of the dataset we'll be working with."
   ]
  },
  {
   "cell_type": "code",
   "execution_count": 6,
   "metadata": {},
   "outputs": [
    {
     "name": "stdout",
     "output_type": "stream",
     "text": [
      "1823250 English words.\n",
      "227 unique English words.\n",
      "10 Most common words in the English dataset:\n",
      "\"is\" \",\" \".\" \"in\" \"it\" \"during\" \"the\" \"but\" \"and\" \"sometimes\"\n",
      "\n",
      "1961295 French words.\n",
      "355 unique French words.\n",
      "10 Most common words in the French dataset:\n",
      "\"est\" \".\" \",\" \"en\" \"il\" \"les\" \"mais\" \"et\" \"la\" \"parfois\"\n"
     ]
    }
   ],
   "source": [
    "english_words_counter = collections.Counter(\n",
    "    [word for sentence in english_sentences for word in sentence.split()])\n",
    "french_words_counter = collections.Counter(\n",
    "    [word for sentence in french_sentences for word in sentence.split()])\n",
    "\n",
    "print('{} English words.'.format(len([word for sentence in english_sentences for word in sentence.split()])))\n",
    "print('{} unique English words.'.format(len(english_words_counter)))\n",
    "print('10 Most common words in the English dataset:')\n",
    "print('\"' + '\" \"'.join(list(zip(*english_words_counter.most_common(10)))[0]) + '\"')\n",
    "print()\n",
    "print('{} French words.'.format(len([word for sentence in french_sentences for word in sentence.split()])))\n",
    "print('{} unique French words.'.format(len(french_words_counter)))\n",
    "print('10 Most common words in the French dataset:')\n",
    "print('\"' + '\" \"'.join(list(zip(*french_words_counter.most_common(10)))[0]) + '\"')"
   ]
  },
  {
   "cell_type": "markdown",
   "metadata": {},
   "source": [
    "For comparison, _Alice's Adventures in Wonderland_ contains 2,766 unique words of a total of 15,500 words.\n",
    "## Preprocess\n",
    "For this project, you won't use text data as input to your model. Instead, you'll convert the text into sequences of integers using the following preprocess methods:\n",
    "1. Tokenize the words into ids\n",
    "2. Add padding to make all the sequences the same length.\n",
    "\n",
    "Time to start preprocessing the data...\n",
    "### Tokenize (IMPLEMENTATION)\n",
    "For a neural network to predict on text data, it first has to be turned into data it can understand. Text data like \"dog\" is a sequence of ASCII character encodings.  Since a neural network is a series of multiplication and addition operations, the input data needs to be number(s).\n",
    "\n",
    "We can turn each character into a number or each word into a number.  These are called character and word ids, respectively.  Character ids are used for character level models that generate text predictions for each character.  A word level model uses word ids that generate text predictions for each word.  Word level models tend to learn better, since they are lower in complexity, so we'll use those.\n",
    "\n",
    "Turn each sentence into a sequence of words ids using Keras's [`Tokenizer`](https://keras.io/preprocessing/text/#tokenizer) function. Use this function to tokenize `english_sentences` and `french_sentences` in the cell below.\n",
    "\n",
    "Running the cell will run `tokenize` on sample data and show output for debugging."
   ]
  },
  {
   "cell_type": "code",
   "execution_count": 7,
   "metadata": {},
   "outputs": [
    {
     "name": "stdout",
     "output_type": "stream",
     "text": [
      "{'the': 1, 'quick': 2, 'a': 3, 'brown': 4, 'fox': 5, 'jumps': 6, 'over': 7, 'lazy': 8, 'dog': 9, 'by': 10, 'jove': 11, 'my': 12, 'study': 13, 'of': 14, 'lexicography': 15, 'won': 16, 'prize': 17, 'this': 18, 'is': 19, 'short': 20, 'sentence': 21}\n",
      "\n",
      "Sequence 1 in x\n",
      "  Input:  The quick brown fox jumps over the lazy dog .\n",
      "  Output: [1, 2, 4, 5, 6, 7, 1, 8, 9]\n",
      "Sequence 2 in x\n",
      "  Input:  By Jove , my quick study of lexicography won a prize .\n",
      "  Output: [10, 11, 12, 2, 13, 14, 15, 16, 3, 17]\n",
      "Sequence 3 in x\n",
      "  Input:  This is a short sentence .\n",
      "  Output: [18, 19, 3, 20, 21]\n"
     ]
    }
   ],
   "source": [
    "def tokenize(x):\n",
    "    \"\"\"\n",
    "    Tokenize x\n",
    "    :param x: List of sentences/strings to be tokenized\n",
    "    :return: Tuple of (tokenized x data, tokenizer used to tokenize x)\n",
    "    \"\"\"\n",
    "    # TODO: Implement\n",
    "    xt = Tokenizer()\n",
    "    xt.fit_on_texts(x)\n",
    "    return xt.texts_to_sequences(x), xt\n",
    "tests.test_tokenize(tokenize)\n",
    "\n",
    "# Tokenize Example output\n",
    "text_sentences = [\n",
    "    'The quick brown fox jumps over the lazy dog .',\n",
    "    'By Jove , my quick study of lexicography won a prize .',\n",
    "    'This is a short sentence .']\n",
    "text_tokenized, text_tokenizer = tokenize(text_sentences)\n",
    "print(text_tokenizer.word_index)\n",
    "print()\n",
    "for sample_i, (sent, token_sent) in enumerate(zip(text_sentences, text_tokenized)):\n",
    "    print('Sequence {} in x'.format(sample_i + 1))\n",
    "    print('  Input:  {}'.format(sent))\n",
    "    print('  Output: {}'.format(token_sent))"
   ]
  },
  {
   "cell_type": "markdown",
   "metadata": {},
   "source": [
    "### Padding (IMPLEMENTATION)\n",
    "When batching the sequence of word ids together, each sequence needs to be the same length.  Since sentences are dynamic in length, we can add padding to the end of the sequences to make them the same length.\n",
    "\n",
    "Make sure all the English sequences have the same length and all the French sequences have the same length by adding padding to the **end** of each sequence using Keras's [`pad_sequences`](https://keras.io/preprocessing/sequence/#pad_sequences) function."
   ]
  },
  {
   "cell_type": "code",
   "execution_count": 8,
   "metadata": {},
   "outputs": [
    {
     "name": "stdout",
     "output_type": "stream",
     "text": [
      "Sequence 1 in x\n",
      "  Input:  [1 2 4 5 6 7 1 8 9]\n",
      "  Output: [1 2 4 5 6 7 1 8 9 0]\n",
      "Sequence 2 in x\n",
      "  Input:  [10 11 12  2 13 14 15 16  3 17]\n",
      "  Output: [10 11 12  2 13 14 15 16  3 17]\n",
      "Sequence 3 in x\n",
      "  Input:  [18 19  3 20 21]\n",
      "  Output: [18 19  3 20 21  0  0  0  0  0]\n"
     ]
    }
   ],
   "source": [
    "def pad(x, length=None):\n",
    "    \"\"\"\n",
    "    Pad x\n",
    "    :param x: List of sequences.\n",
    "    :param length: Length to pad the sequence to.  If None, use length of longest sequence in x.\n",
    "    :return: Padded numpy array of sequences\n",
    "    \"\"\"\n",
    "    # TODO: Implement\n",
    "    if not length:\n",
    "        length = max((len(xs) for xs in x))\n",
    "    \n",
    "    return pad_sequences(x,maxlen=length, padding='post')\n",
    "tests.test_pad(pad)\n",
    "\n",
    "# Pad Tokenized output\n",
    "test_pad = pad(text_tokenized)\n",
    "for sample_i, (token_sent, pad_sent) in enumerate(zip(text_tokenized, test_pad)):\n",
    "    print('Sequence {} in x'.format(sample_i + 1))\n",
    "    print('  Input:  {}'.format(np.array(token_sent)))\n",
    "    print('  Output: {}'.format(pad_sent))"
   ]
  },
  {
   "cell_type": "markdown",
   "metadata": {},
   "source": [
    "### Preprocess Pipeline\n",
    "Your focus for this project is to build neural network architecture, so we won't ask you to create a preprocess pipeline.  Instead, we've provided you with the implementation of the `preprocess` function."
   ]
  },
  {
   "cell_type": "code",
   "execution_count": 9,
   "metadata": {},
   "outputs": [
    {
     "name": "stdout",
     "output_type": "stream",
     "text": [
      "Data Preprocessed\n",
      "Max English sentence length: 15\n",
      "Max French sentence length: 21\n",
      "English vocabulary size: 199\n",
      "French vocabulary size: 344\n"
     ]
    }
   ],
   "source": [
    "def preprocess(x, y):\n",
    "    \"\"\"\n",
    "    Preprocess x and y\n",
    "    :param x: Feature List of sentences\n",
    "    :param y: Label List of sentences\n",
    "    :return: Tuple of (Preprocessed x, Preprocessed y, x tokenizer, y tokenizer)\n",
    "    \"\"\"\n",
    "    preprocess_x, x_tk = tokenize(x)\n",
    "    preprocess_y, y_tk = tokenize(y)\n",
    "\n",
    "    preprocess_x = pad(preprocess_x)\n",
    "    preprocess_y = pad(preprocess_y)\n",
    "\n",
    "    # Keras's sparse_categorical_crossentropy function requires the labels to be in 3 dimensions\n",
    "    preprocess_y = preprocess_y.reshape(*preprocess_y.shape, 1)\n",
    "\n",
    "    return preprocess_x, preprocess_y, x_tk, y_tk\n",
    "\n",
    "preproc_english_sentences, preproc_french_sentences, english_tokenizer, french_tokenizer =\\\n",
    "    preprocess(english_sentences, french_sentences)\n",
    "    \n",
    "max_english_sequence_length = preproc_english_sentences.shape[1]\n",
    "max_french_sequence_length = preproc_french_sentences.shape[1]\n",
    "english_vocab_size = len(english_tokenizer.word_index)\n",
    "french_vocab_size = len(french_tokenizer.word_index)\n",
    "\n",
    "print('Data Preprocessed')\n",
    "print(\"Max English sentence length:\", max_english_sequence_length)\n",
    "print(\"Max French sentence length:\", max_french_sequence_length)\n",
    "print(\"English vocabulary size:\", english_vocab_size)\n",
    "print(\"French vocabulary size:\", french_vocab_size)"
   ]
  },
  {
   "cell_type": "markdown",
   "metadata": {},
   "source": [
    "## Models\n",
    "In this section, you will experiment with various neural network architectures.\n",
    "You will begin by training four relatively simple architectures.\n",
    "- Model 1 is a simple RNN\n",
    "- Model 2 is a RNN with Embedding\n",
    "- Model 3 is a Bidirectional RNN\n",
    "- Model 4 is an optional Encoder-Decoder RNN\n",
    "\n",
    "After experimenting with the four simple architectures, you will construct a deeper architecture that is designed to outperform all four models.\n",
    "### Ids Back to Text\n",
    "The neural network will be translating the input to words ids, which isn't the final form we want.  We want the French translation.  The function `logits_to_text` will bridge the gab between the logits from the neural network to the French translation.  You'll be using this function to better understand the output of the neural network."
   ]
  },
  {
   "cell_type": "code",
   "execution_count": 10,
   "metadata": {},
   "outputs": [
    {
     "name": "stdout",
     "output_type": "stream",
     "text": [
      "`logits_to_text` function loaded.\n"
     ]
    }
   ],
   "source": [
    "def logits_to_text(logits, tokenizer):\n",
    "    \"\"\"\n",
    "    Turn logits from a neural network into text using the tokenizer\n",
    "    :param logits: Logits from a neural network\n",
    "    :param tokenizer: Keras Tokenizer fit on the labels\n",
    "    :return: String that represents the text of the logits\n",
    "    \"\"\"\n",
    "    index_to_words = {id: word for word, id in tokenizer.word_index.items()}\n",
    "    index_to_words[0] = '<PAD>'\n",
    "\n",
    "    return ' '.join([index_to_words[prediction] for prediction in np.argmax(logits, 1)])\n",
    "\n",
    "print('`logits_to_text` function loaded.')"
   ]
  },
  {
   "cell_type": "markdown",
   "metadata": {},
   "source": [
    "### Model 1: RNN (IMPLEMENTATION)\n",
    "![RNN](images/rnn.png)\n",
    "A basic RNN model is a good baseline for sequence data.  In this model, you'll build a RNN that translates English to French."
   ]
  },
  {
   "cell_type": "code",
   "execution_count": 11,
   "metadata": {},
   "outputs": [
    {
     "name": "stdout",
     "output_type": "stream",
     "text": [
      "Epoch 1/30\n",
      "108/108 [==============================] - ETA: 0s - loss: 1.9963 - accuracy: 0.5405"
     ]
    },
    {
     "ename": "InvalidArgumentError",
     "evalue": " Received a label value of 344 which is outside the valid range of [0, 344).  Label values: 7 88 1 64 16 13 14 5 7 83 1 40 13 14 0 0 0 0 0 0 0 11 30 1 67 15 25 22 47 6 3 1 58 69 2 56 0 0 0 0 0 0 62 1 92 2 41 5 3 1 9 21 26 11 24 0 0 0 0 0 0 0 0 7 33 1 9 7 102 2 51 5 3 1 18 2 45 0 0 0 0 0 0 0 29 1 65 37 11 44 6 3 1 9 21 2 52 0 0 0 0 0 0 0 0 10 38 1 20 16 17 13 5 10 82 1 20 13 17 0 0 0 0 0 0 0 36 1 12 67 37 11 46 5 3 1 18 2 44 0 0 0 0 0 0 0 0 27 145 7 97 134 154 0 0 0 0 0 0 0 0 0 0 0 0 0 0 0 3 113 115 184 110 176 0 0 0 0 0 0 0 0 0 0 0 0 0 0 0 3 94 4 28 4 73 6 4 78 0 0 0 0 0 0 0 0 0 0 0 0 11 30 1 19 15 25 79 56 5 3 1 68 2 41 0 0 0 0 0 0 0 3 55 4 72 4 28 76 6 4 28 0 0 0 0 0 0 0 0 0 0 0 3 55 4 78 4 74 6 4 73 0 0 0 0 0 0 0 0 0 0 0 0 3 55 4 28 4 70 6 4 72 0 0 0 0 0 0 0 0 0 0 0 0 11 30 1 12 57 15 25 22 45 6 3 1 12 18 2 47 0 0 0 0 0 4 32 31 1 8 68 15 25 22 47 5 3 1 8 21 2 41 0 0 0 0 10 82 1 61 16 17 5 7 86 1 40 93 0 0 0 0 0 0 0 0 0 10 85 1 20 16 17 13 5 7 83 1 61 13 17 0 0 0 0 0 0 0 10 38 1 40 16 17 5 7 89 1 39 17 0 0 0 0 0 0 0 0 0 62 1 12 63 2 41 5 3 1 8 60 26 11 24 0 0 0 0 0 0 0 99 124 4 70 4 73 6 28 76 0 0 0 0 0 0 0 0 0 0 0 0 7 89 1 39 16 13 14 5 7 90 27 1 13 14 0 0 0 0 0 0 0 10 85 1 39 13 14 108 96 5 10 82 1 20 13 14 0 0 0 0 0 0 36 1 8 18 2 43 5 3 1 12 66 2 48 0 0 0 0 0 0 0 0 20 13 16 17 1 7 88 5 39 17 13 1 10 82 0 0 0 0 0 0 0 20 16 10 23 14 1 10 85 5 61 23 14 1 7 90 0 0 0 0 0 0 35 34 1 8 19 2 43 5 3 1 8 18 2 49 0 0 0 0 0 0 0 4 32 31 1 9 57 37 11 46 5 3 1 18 2 41 0 0 0 0 0 0 36 1 8 57 2 52 5 3 1 8 59 2 46 0 0 0 0 0 0 0 0 3 94 4 71 4 74 6 4 78 0 0 0 0 0 0 0 0 0 0 0 0 64 16 17 1 10 270 5 61 17 1 7 86 0 0 0 0 0 0 0 0 0 29 1 19 2 52 6 3 1 9 60 2 46 0 0 0 0 0 0 0 0 0 29 1 8 66 2 41 5 3 1 12 60 26 11 24 0 0 0 0 0 0 0 29 1 12 21 37 11 24 5 3 1 9 65 2 51 0 0 0 0 0 0 0 29 1 8 66 15 111 22 11 24 6 3 1 9 26 63 2 53 0 0 0 0 4 32 31 1 21 2 43 5 3 1 9 117 2 47 0 0 0 0 0 0 0 7 36 1 8 65 37 11 46 5 3 1 63 2 44 0 0 0 0 0 0 0 33 1 57 2 49 5 3 1 18 2 47 0 0 0 0 0 0 0 0 0 0 7 33 1 8 63 2 50 6 3 1 12 18 2 49 0 0 0 0 0 0 0 36 1 69 21 2 50 6 3 1 8 63 26 11 24 0 0 0 0 0 0 0 7 33 1 12 65 2 54 6 3 1 19 2 41 0 0 0 0 0 0 0 0 20 16 17 1 13 7 86 5 40 13 17 1 10 85 0 0 0 0 0 0 0 39 109 17 1 13 146 11 237 0 0 0 0 0 0 0 0 0 0 0 0 0 7 88 1 7 13 14 108 96 5 10 85 1 64 13 14 0 0 0 0 0 0 64 16 17 13 1 10 38 5 40 13 140 1 84 0 0 0 0 0 0 0 0 62 1 21 2 50 5 3 1 12 18 2 53 0 0 0 0 0 0 0 0 0 35 34 1 66 2 41 5 3 1 12 67 26 11 24 0 0 0 0 0 0 0 4 32 31 105 131 9 190 2 45 5 3 1 18 2 44 0 0 0 0 0 0 27 94 7 148 97 162 0 0 0 0 0 0 0 0 0 0 0 0 0 0 0 29 1 58 69 2 50 5 3 1 12 19 2 53 0 0 0 0 0 0 0 0 99 127 91 28 76 4 70 6 4 74 0 0 0 0 0 0 0 0 0 0 0 4 32 31 1 12 63 37 11 24 6 3 1 8 58 2 41 0 0 0 0 0 27 55 4 75 4 73 6 10 38 0 0 0 0 0 0 0 0 0 0 0 0 4 32 31 1 8 21 37 11 24 6 3 1 12 67 2 52 0 0 0 0 0 62 1 12 65 37 11 44 6 3 1 8 10 81 2 50 0 0 0 0 0 0 11 30 1 12 18 15 25 79 56 5 3 1 8 18 2 46 0 0 0 0 0 101 1 12 18 15 25 22 47 6 3 1 60 2 52 0 0 0 0 0 0 0 29 1 19 2 41 6 3 1 12 19 2 53 0 0 0 0 0 0 0 0 0 7 33 1 9 18 26 98 6 3 1 8 67 2 44 0 0 0 0 0 0 0 62 105 103 9 19 2 51 6 3 1 8 63 2 49 0 0 0 0 0 0 0 135 28 76 4 28 6 4 78 0 0 0 0 0 0 0 0 0 0 0 0 0 3 55 4 73 4 70 6 4 75 0 0 0 0 0 0 0 0 0 0 0 0 7 90 1 61 16 10 23 119 5 7 89 1 39 23 14 0 0 0 0 0 0 3 180 35 34 24 114 0 0 0 0 0 0 0 0 0 0 0 0 0 0 0 27 94 4 78 4 77 6 4 74 0 0 0 0 0 0 0 0 0 0 0 0 36 105 103 9 19 2 24 6 3 1 12 59 2 54 0 0 0 0 0 0 0 11 30 1 19 2 49 5 3 157 2 43 0 0 0 0 0 0 0 0 0 0 3 55 10 163 110 134 0 0 0 0 0 0 0 0 0 0 0 0 0 0 0 11 30 1 19 15 42 5 3 1 8 59 2 54 0 0 0 0 0 0 0 0 35 34 1 58 8 2 54 6 3 1 9 66 2 44 0 0 0 0 0 0 0 7 86 1 39 16 17 13 5 10 82 1 64 13 17 0 0 0 0 0 0 0 84 1 39 16 13 14 5 7 88 27 1 13 14 0 0 0 0 0 0 0 0 4 32 31 1 8 65 15 25 79 56 5 3 1 67 2 45 0 0 0 0 0 36 1 12 18 2 52 5 3 1 8 65 2 56 0 0 0 0 0 0 0 0 11 30 1 19 15 42 6 3 1 12 59 2 44 0 0 0 0 0 0 0 0 29 1 12 57 2 54 6 3 1 8 21 2 53 0 0 0 0 0 0 0 0 7 86 1 61 16 13 14 5 7 88 1 39 13 14 0 0 0 0 0 0 0 35 34 1 12 18 2 49 5 3 1 9 18 2 54 0 0 0 0 0 0 0 107 126 4 77 28 76 6 72 0 0 0 0 0 0 0 0 0 0 0 0 0 29 1 65 2 52 5 3 1 63 2 48 0 0 0 0 0 0 0 0 0 0 11 30 1 12 67 15 111 22 11 24 5 3 1 12 65 2 45 0 0 0 0 20 16 1 13 14 7 87 5 27 1 13 14 7 83 0 0 0 0 0 0 0 7 62 1 9 58 26 98 6 3 1 8 21 2 51 0 0 0 0 0 0 0 11 30 1 58 2 53 5 3 1 8 19 2 45 0 0 0 0 0 0 0 0 4 32 31 1 18 26 98 6 3 1 8 21 15 42 0 0 0 0 0 0 0 107 132 10 38 4 71 6 4 28 76 0 0 0 0 0 0 0 0 0 0 0 35 34 1 12 68 2 50 5 3 1 59 2 49 0 0 0 0 0 0 0 0 27 55 4 75 10 38 6 4 78 0 0 0 0 0 0 0 0 0 0 0 0 40 109 17 1 146 7 201 0 0 0 0 0 0 0 0 0 0 0 0 0 0 20 16 1 13 14 7 83 5 64 13 14 1 7 90 0 0 0 0 0 0 0 3 55 4 72 4 71 6 4 75 0 0 0 0 0 0 0 0 0 0 0 0 11 30 1 10 81 2 50 5 3 1 8 60 26 11 24 0 0 0 0 0 0 4 32 31 1 12 60 2 50 5 3 1 9 18 2 44 0 0 0 0 0 0 62 1 12 63 2 48 5 3 1 69 21 2 46 0 0 0 0 0 0 0 0 62 1 8 104 2 45 6 3 1 67 2 52 0 0 0 0 0 0 0 0 0 7 83 1 20 16 10 23 14 5 7 90 1 40 23 14 0 0 0 0 0 0 29 1 8 19 2 45 6 3 1 12 63 26 11 24 0 0 0 0 0 0 0 40 13 14 108 96 1 7 90 5 61 13 14 1 10 38 0 0 0 0 0 0 7 88 1 61 16 17 5 84 1 20 93 0 0 0 0 0 0 0 0 0 0 7 62 1 58 8 26 98 6 3 1 8 104 2 51 0 0 0 0 0 0 0 11 30 1 9 58 15 25 22 47 5 3 1 12 19 15 42 0 0 0 0 0 7 194 161 10 189 6 10 186 1 196 0 0 0 0 0 0 0 0 0 0 0 7 33 1 12 67 2 45 6 3 95 69 2 43 0 0 0 0 0 0 0 0 7 33 1 12 18 2 54 5 3 1 21 2 46 0 0 0 0 0 0 0 0 29 1 8 104 15 25 22 51 6 3 1 60 2 47 0 0 0 0 0 0 0 7 83 1 40 16 13 14 5 10 38 1 61 13 14 0 0 0 0 0 0 0 115 221 1 40 109 17 13 0 0 0 0 0 0 0 0 0 0 0 0 0 0 35 34 1 104 2 49 5 3 95 9 2 51 0 0 0 0 0 0 0 0 0 29 1 7 102 15 111 22 11 24 5 3 1 12 57 2 44 0 0 0 0 0 3 118 113 10 200 110 166 0 0 0 0 0 0 0 0 0 0 0 0 0 0 29 1 8 60 2 45 6 3 1 9 68 2 41 0 0 0 0 0 0 0 0 35 34 1 12 59 2 41 6 3 157 2 47 0 0 0 0 0 0 0 0 0 61 16 17 1 13 10 85 5 64 13 17 1 7 83 0 0 0 0 0 0 0 4 32 31 1 63 37 11 44 5 3 1 12 18 2 53 0 0 0 0 0 0 29 1 9 57 2 43 5 3 1 9 65 2 41 0 0 0 0 0 0 0 0 29 1 8 19 2 43 5 3 1 18 2 46 0 0 0 0 0 0 0 0 0 27 55 4 70 4 74 6 4 78 0 0 0 0 0 0 0 0 0 0 0 0 29 1 12 67 2 50 6 3 1 9 68 26 11 24 0 0 0 0 0 0 0 3 55 4 28 4 78 6 4 73 0 0 0 0 0 0 0 0 0 0 0 0 61 16 17 1 84 5 39 17 1 10 82 0 0 0 0 0 0 0 0 0 0 39 16 17 1 7 88 5 64 93 1 10 85 0 0 0 0 0 0 0 0 0 7 80 1 40 16 17 13 5 10 85 1 20 13 17 0 0 0 0 0 0 0 20 16 1 13 14 7 86 5 61 13 14 1 7 80 0 0 0 0 0 0 0 29 1 10 81 37 11 46 5 3 1 112 26 11 24 0 0 0 0 0 0 0 10 82 1 39 16 17 5 7 89 1 61 17 0 0 0 0 0 0 0 0 0 7 33 1 9 18 15 25 22 47 5 3 105 103 9 19 2 49 0 0 0 0 10 85 1 40 16 17 13 5 7 83 1 20 13 17 0 0 0 0 0 0 0 29 1 66 15 25 22 51 6 3 1 9 125 2 53 0 0 0 0 0 0 0 99 124 4 28 6 4 75 0 0 0 0 0 0 0 0 0 0 0 0 0 0 20 16 10 23 14 1 7 87 5 39 23 14 1 84 0 0 0 0 0 0 0 3 55 4 78 6 4 77 0 0 0 0 0 0 0 0 0 0 0 0 0 0 29 1 8 59 2 50 5 3 1 19 26 11 24 0 0 0 0 0 0 0 0 7 36 1 12 57 15 25 22 47 5 3 1 18 2 43 0 0 0 0 0 0 99 127 91 4 77 4 75 6 4 28 76 0 0 0 0 0 0 0 0 0 0 29 1 8 67 2 52 6 3 95 9 2 56 0 0 0 0 0 0 0 0 0 7 33 1 8 58 2 54 5 3 95 9 26 11 24 0 0 0 0 0 0 0 36 1 9 66 37 11 44 6 3 1 12 68 2 52 0 0 0 0 0 0 0 10 38 1 20 16 17 5 7 83 1 20 93 0 0 0 0 0 0 0 0 0 35 34 1 9 58 2 49 6 3 1 68 2 43 0 0 0 0 0 0 0 0 27 94 115 110 172 169 0 0 0 0 0 0 0 0 0 0 0 0 0 0 0 20 16 1 13 14 7 87 5 39 13 14 1 7 83 0 0 0 0 0 0 0 7 36 1 8 60 37 11 44 5 3 1 21 26 11 24 0 0 0 0 0 0 39 16 1 13 14 10 85 5 40 13 14 1 7 89 0 0 0 0 0 0 0 29 1 58 69 2 48 6 3 1 12 19 2 41 0 0 0 0 0 0 0 0 4 32 31 1 8 18 15 25 79 56 5 3 1 12 66 2 51 0 0 0 0 35 34 1 12 18 15 25 22 47 5 3 1 8 57 2 44 0 0 0 0 0 7 33 1 18 15 42 6 3 1 8 137 2 56 0 0 0 0 0 0 0 0 4 32 31 1 58 2 50 6 3 1 12 68 2 56 0 0 0 0 0 0 0 36 1 60 2 54 6 3 1 9 57 2 47 0 0 0 0 0 0 0 0 0 27 94 4 77 4 75 6 4 71 0 0 0 0 0 0 0 0 0 0 0 0 4 32 31 1 12 18 37 11 44 6 3 1 112 2 51 0 0 0 0 0 0 29 1 9 60 15 25 79 56 6 3 1 8 112 26 11 24 0 0 0 0 0 36 1 8 19 2 54 5 3 1 12 59 2 44 0 0 0 0 0 0 0 0 3 55 4 73 4 70 6 4 28 76 0 0 0 0 0 0 0 0 0 0 0 107 208 22 136 7 33 26 11 24 114 0 0 0 0 0 0 0 0 0 0 0 7 36 1 8 63 37 11 44 6 3 1 8 19 2 47 0 0 0 0 0 0 20 16 10 23 14 1 7 90 5 40 23 14 1 10 82 0 0 0 0 0 0 11 30 1 66 37 11 24 6 3 1 57 2 50 0 0 0 0 0 0 0 0 7 33 1 12 68 2 43 5 3 1 9 18 2 44 0 0 0 0 0 0 0 11 30 1 26 63 37 11 44 6 3 1 8 19 2 41 0 0 0 0 0 0 7 86 1 20 16 10 23 14 5 7 80 1 39 23 14 0 0 0 0 0 0 29 1 9 60 15 42 6 3 1 9 117 2 41 0 0 0 0 0 0 0 0 61 13 14 16 1 84 5 39 13 14 1 10 82 0 0 0 0 0 0 0 0 7 83 1 61 16 17 13 5 10 85 1 40 17 13 0 0 0 0 0 0 0 7 33 1 9 18 2 43 6 3 1 9 66 2 47 0 0 0 0 0 0 0 62 1 9 7 102 2 49 6 3 1 67 2 45 0 0 0 0 0 0 0 0 36 1 104 2 24 5 3 1 60 2 54 0 0 0 0 0 0 0 0 0 0 40 109 10 23 156 1 115 214 0 0 0 0 0 0 0 0 0 0 0 0 0 20 16 17 1 13 7 86 5 40 13 140 1 7 89 0 0 0 0 0 0 0 7 87 1 64 16 17 5 7 88 1 39 17 0 0 0 0 0 0 0 0 0 3 1 198 22 164 161 186 6 187 0 0 0 0 0 0 0 0 0 0 0 0 84 1 20 16 17 5 7 87 1 64 93 0 0 0 0 0 0 0 0 0 0 11 30 1 58 2 49 6 3 1 8 21 26 11 24 0 0 0 0 0 0 0 11 30 1 9 18 2 51 6 3 1 12 60 2 56 0 0 0 0 0 0 0 129 96 10 23 14 1 7 80 5 20 23 14 1 7 83 0 0 0 0 0 0 27 1 15 230 79 120 97 150 174 0 0 0 0 0 0 0 0 0 0 0 0 61 16 17 1 7 90 5 40 93 1 7 88 0 0 0 0 0 0 0 0 0 4 32 31 1 19 2 52 5 3 1 12 92 2 45 0 0 0 0 0 0 0 27 94 4 71 4 28 6 4 73 0 0 0 0 0 0 0 0 0 0 0 0 27 55 10 82 10 38 6 4 70 0 0 0 0 0 0 0 0 0 0 0 0 3 55 4 28 4 73 6 4 74 0 0 0 0 0 0 0 0 0 0 0 0 35 34 1 9 18 2 43 6 3 1 12 59 2 41 0 0 0 0 0 0 0 10 85 1 40 16 17 5 7 86 1 39 17 0 0 0 0 0 0 0 0 0 27 94 4 72 4 75 6 4 70 0 0 0 0 0 0 0 0 0 0 0 0 7 33 1 8 19 2 50 6 3 1 8 92 15 42 0 0 0 0 0 0 0 4 32 31 1 12 19 2 51 6 3 1 8 21 2 41 0 0 0 0 0 0 4 32 31 1 9 60 2 49 5 3 1 69 21 2 47 0 0 0 0 0 0 3 113 7 168 97 155 0 0 0 0 0 0 0 0 0 0 0 0 0 0 0 7 36 1 8 104 26 98 5 3 1 19 2 47 0 0 0 0 0 0 0 0 36 1 12 92 2 49 5 9 26 63 2 51 0 0 0 0 0 0 0 0 0 35 34 105 95 2 41 6 3 1 12 59 2 49 0 0 0 0 0 0 0 0 27 94 4 28 4 70 6 4 73 0 0 0 0 0 0 0 0 0 0 0 0 11 30 1 9 18 2 41 6 3 1 67 2 49 0 0 0 0 0 0 0 0 20 16 17 1 7 80 5 40 93 1 7 90 0 0 0 0 0 0 0 0 0 3 203 123 2 62 15 42 142 0 0 0 0 0 0 0 0 0 0 0 0 0 36 1 21 2 54 6 3 1 8 18 2 44 0 0 0 0 0 0 0 0 0 3 100 4 74 4 28 6 4 75 0 0 0 0 0 0 0 0 0 0 0 0 7 33 1 8 58 2 43 6 3 1 12 60 2 56 0 0 0 0 0 0 0 7 83 1 39 16 17 0 0 0 0 0 0 0 0 0 0 0 0 0 0 0 27 55 4 70 4 77 6 4 71 0 0 0 0 0 0 0 0 0 0 0 0 35 34 1 18 2 41 6 3 1 8 10 81 2 46 0 0 0 0 0 0 0 36 1 19 2 43 5 3 1 8 10 81 15 42 0 0 0 0 0 0 0 0 10 85 1 61 16 13 14 5 7 90 1 20 13 14 0 0 0 0 0 0 0 170 323 141 131 108 257 175 0 0 0 0 0 0 0 0 0 0 0 0 0 0 35 34 1 12 65 2 43 6 3 157 2 47 0 0 0 0 0 0 0 0 0 36 1 19 37 11 44 5 3 1 67 2 48 0 0 0 0 0 0 0 0 0 7 90 1 39 16 10 23 14 5 84 1 40 23 14 0 0 0 0 0 0 0 20 16 10 23 14 1 7 83 5 39 23 14 1 7 86 0 0 0 0 0 0 10 82 1 39 16 17 5 7 87 1 64 93 0 0 0 0 0 0 0 0 0 101 1 9 59 2 49 5 3 1 19 2 45 0 0 0 0 0 0 0 0 0 27 55 4 71 4 28 6 4 70 0 0 0 0 0 0 0 0 0 0 0 0 3 118 149 244 182 154 0 0 0 0 0 0 0 0 0 0 0 0 0 0 0 11 30 1 12 63 2 53 5 3 1 9 60 2 43 0 0 0 0 0 0 0 10 82 1 61 16 17 5 10 85 1 20 93 0 0 0 0 0 0 0 0 0 7 90 1 13 20 16 17 5 7 80 1 40 17 13 0 0 0 0 0 0 0 29 1 8 66 37 11 46 6 3 1 12 65 2 56 0 0 0 0 0 0 0 35 34 1 8 19 2 43 6 3 1 21 2 52 0 0 0 0 0 0 0 0 27 100 120 148 97 153 0 0 0 0 0 0 0 0 0 0 0 0 0 0 0 29 1 10 81 69 2 54 6 3 1 12 65 2 48 0 0 0 0 0 0 0 62 1 12 66 2 54 5 3 1 9 68 2 46 0 0 0 0 0 0 0 0 107 126 28 76 4 74 6 4 28 0 0 0 0 0 0 0 0 0 0 0 0 191 96 13 14 1 10 38 5 61 13 14 1 7 80 0 0 0 0 0 0 0 11 30 1 69 21 15 42 5 3 1 9 117 2 52 0 0 0 0 0 0 0 35 34 1 58 2 43 6 3 1 8 63 26 11 24 0 0 0 0 0 0 0 135 4 70 4 72 6 4 74 0 0 0 0 0 0 0 0 0 0 0 0 0 7 33 1 9 60 2 49 6 3 1 8 63 2 46 0 0 0 0 0 0 0 7 33 1 8 19 15 42 5 3 1 8 18 2 50 0 0 0 0 0 0 0 4 32 31 1 21 37 11 46 6 3 1 9 68 2 41 0 0 0 0 0 0 7 80 1 39 13 14 108 96 5 7 88 1 61 13 14 0 0 0 0 0 0 33 1 21 15 25 22 47 5 3 1 9 60 2 43 0 0 0 0 0 0 0 29 1 195 26 98 6 3 1 59 2 47 0 0 0 0 0 0 0 0 0 0 29 1 12 60 2 54 6 3 1 58 69 2 50 0 0 0 0 0 0 0 0 4 32 31 1 59 15 25 22 47 5 3 1 12 67 2 41 0 0 0 0 0 20 16 10 23 14 1 7 83 5 20 23 14 1 7 88 0 0 0 0 0 0 35 34 1 12 60 2 45 5 3 1 9 59 2 47 0 0 0 0 0 0 0 27 55 4 74 28 76 6 4 71 0 0 0 0 0 0 0 0 0 0 0 0 3 145 115 163 110 172 0 0 0 0 0 0 0 0 0 0 0 0 0 0 0 29 1 12 67 2 50 6 3 1 9 66 2 51 0 0 0 0 0 0 0 0 62 1 8 57 37 11 44 5 9 108 177 2 50 0 0 0 0 0 0 0 0 35 34 1 8 66 37 11 46 5 3 1 9 21 2 43 0 0 0 0 0 0 29 1 9 58 15 25 22 51 5 3 1 19 2 47 0 0 0 0 0 0 0 29 1 9 57 37 11 44 5 9 22 102 2 41 0 0 0 0 0 0 0 0 39 16 17 1 7 90 0 0 0 0 0 0 0 0 0 0 0 0 0 0 0 62 1 18 2 49 5 3 1 58 8 2 43 0 0 0 0 0 0 0 0 0 40 16 17 1 10 85 5 20 17 1 10 38 0 0 0 0 0 0 0 0 0 11 30 1 8 63 2 50 6 3 1 9 19 2 41 0 0 0 0 0 0 0 3 55 91 7 147 97 162 0 0 0 0 0 0 0 0 0 0 0 0 0 0 29 1 8 21 2 41 5 3 1 8 21 2 54 0 0 0 0 0 0 0 0 11 30 1 9 58 26 98 5 3 1 9 226 22 227 26 11 24 0 0 0 0 99 124 10 38 4 74 6 4 77 0 0 0 0 0 0 0 0 0 0 0 0 99 127 4 74 4 73 6 4 71 0 0 0 0 0 0 0 0 0 0 0 0 29 1 12 18 2 52 6 3 1 8 58 2 54 0 0 0 0 0 0 0 0 35 34 1 9 66 15 42 6 3 1 58 69 2 52 0 0 0 0 0 0 0 29 1 9 67 37 11 46 5 3 1 18 2 50 0 0 0 0 0 0 0 0 27 55 4 73 4 71 6 4 75 0 0 0 0 0 0 0 0 0 0 0 0 20 16 1 13 14 7 88 5 64 13 14 1 7 89 0 0 0 0 0 0 0 10 38 1 20 16 17 5 7 83 1 39 17 0 0 0 0 0 0 0 0 0 99 124 4 72 4 77 6 4 75 0 0 0 0 0 0 0 0 0 0 0 0 20 16 1 13 14 84 5 39 13 14 1 7 86 0 0 0 0 0 0 0 0 3 55 91 10 38 4 73 6 4 71 0 0 0 0 0 0 0 0 0 0 0 101 1 9 18 2 48 6 3 1 12 19 2 53 0 0 0 0 0 0 0 0 10 85 1 61 16 13 14 5 7 86 27 1 13 14 0 0 0 0 0 0 0 20 109 10 23 14 1 192 236 0 0 0 0 0 0 0 0 0 0 0 0 0 29 1 21 2 45 6 3 1 8 139 26 11 24 0 0 0 0 0 0 0 0 27 145 121 148 97 153 0 0 0 0 0 0 0 0 0 0 0 0 0 0 0 3 55 4 78 4 72 6 4 74 0 0 0 0 0 0 0 0 0 0 0 0 3 55 4 75 4 78 6 4 73 0 0 0 0 0 0 0 0 0 0 0 0 101 1 58 69 2 43 5 3 1 12 65 2 56 0 0 0 0 0 0 0 0 11 30 1 12 59 2 53 5 3 1 9 60 2 52 0 0 0 0 0 0 0 7 36 1 10 81 69 15 42 5 3 1 8 137 2 43 0 0 0 0 0 0 3 55 4 78 4 70 6 4 28 76 0 0 0 0 0 0 0 0 0 0 0 36 1 19 37 11 44 6 3 1 8 63 2 45 0 0 0 0 0 0 0 0 11 30 1 9 125 2 52 5 3 1 8 10 81 2 53 0 0 0 0 0 0 191 96 13 14 1 7 83 5 64 13 14 1 7 80 0 0 0 0 0 0 0 11 30 1 8 7 102 2 43 6 3 1 21 2 49 0 0 0 0 0 0 0 3 100 4 72 10 38 6 4 75 0 0 0 0 0 0 0 0 0 0 0 0 7 80 1 20 16 10 23 14 5 7 86 1 61 23 14 0 0 0 0 0 0 4 32 31 1 9 66 2 48 6 3 1 67 2 51 0 0 0 0 0 0 0 27 55 4 74 10 38 6 4 71 0 0 0 0 0 0 0 0 0 0 0 0 39 13 14 1 10 16 22 38 5 27 1 13 14 84 0 0 0 0 0 0 0 11 30 1 8 65 37 11 46 6 3 1 8 19 2 52 0 0 0 0 0 0 27 143 121 151 97 134 0 0 0 0 0 0 0 0 0 0 0 0 0 0 0 3 158 91 7 147 97 162 0 0 0 0 0 0 0 0 0 0 0 0 0 0 146 10 218 1 40 109 10 23 14 0 0 0 0 0 0 0 0 0 0 0 0 10 220 1 20 109 10 23 14 0 0 0 0 0 0 0 0 0 0 0 0 0 29 1 12 19 15 25 22 47 6 3 1 9 57 2 50 0 0 0 0 0 0 7 33 1 9 18 2 46 5 3 1 12 67 2 43 0 0 0 0 0 0 0 101 1 9 65 15 25 22 51 5 3 1 21 2 54 0 0 0 0 0 0 0 35 34 1 9 66 2 48 5 3 1 8 68 15 42 0 0 0 0 0 0 0 62 1 8 60 2 43 5 3 1 12 67 2 52 0 0 0 0 0 0 0 0 7 33 1 12 21 2 41 5 3 1 8 67 2 54 0 0 0 0 0 0 0 10 82 1 20 16 10 23 14 5 7 90 27 1 10 23 14 0 0 0 0 0 1 3 223 15 35 34 0 0 0 0 0 0 0 0 0 0 0 0 0 0 0 4 32 31 1 9 58 15 25 22 48 6 3 1 8 60 26 11 24 0 0 0 20 16 17 1 7 88 5 20 17 1 10 85 0 0 0 0 0 0 0 0 0 11 30 1 59 15 25 22 53 6 3 1 21 2 43 0 0 0 0 0 0 0 3 158 91 144 163 110 166 0 0 0 0 0 0 0 0 0 0 0 0 0 0 7 86 1 64 16 17 5 7 83 1 20 93 0 0 0 0 0 0 0 0 0 35 34 1 19 15 25 22 45 5 3 1 12 18 2 48 0 0 0 0 0 0 11 30 1 104 15 42 6 3 105 103 9 19 2 49 0 0 0 0 0 0 0 20 16 10 23 14 1 84 5 40 23 14 1 7 90 0 0 0 0 0 0 0 62 105 103 9 19 15 25 22 45 5 3 1 8 21 26 11 24 0 0 0 0 3 113 120 168 97 155 0 0 0 0 0 0 0 0 0 0 0 0 0 0 0 64 16 17 1 10 38 5 39 17 1 7 86 0 0 0 0 0 0 0 0 0 35 34 1 9 66 15 111 22 11 24 6 3 1 8 68 2 43 0 0 0 0 33 1 66 37 11 24 6 3 1 8 10 81 2 53 0 0 0 0 0 0 0 4 32 31 1 12 21 2 52 6 3 1 8 18 2 41 0 0 0 0 0 0 29 1 9 59 2 43 6 3 1 12 63 2 45 0 0 0 0 0 0 0 0 29 1 8 60 15 25 22 48 5 3 1 8 19 2 44 0 0 0 0 0 0 35 34 1 12 59 26 98 5 3 1 9 18 2 47 0 0 0 0 0 0 0 36 1 9 7 102 2 49 6 3 1 8 59 2 47 0 0 0 0 0 0 0 7 33 1 8 58 2 48 6 3 1 67 2 43 0 0 0 0 0 0 0 0 62 1 8 57 2 50 5 3 1 8 68 2 56 0 0 0 0 0 0 0 0 35 34 1 9 18 2 43 5 3 1 21 2 52 0 0 0 0 0 0 0 0 62 1 8 104 15 42 6 3 1 12 57 26 11 24 0 0 0 0 0 0 0 107 126 10 38 4 70 6 4 78 0 0 0 0 0 0 0 0 0 0 0 0 36 1 9 59 37 11 46 5 3 1 8 19 2 51 0 0 0 0 0 0 0 7 33 1 10 81 2 41 6 3 1 57 26 11 24 0 0 0 0 0 0 0 35 34 1 60 2 41 5 3 1 8 59 2 50 0 0 0 0 0 0 0 0 7 83 1 10 16 10 23 14 64 5 10 82 1 10 23 14 0 0 0 0 0 84 1 20 16 17 13 5 7 88 1 61 13 17 0 0 0 0 0 0 0 0 99 127 91 28 76 4 77 6 4 71 0 0 0 0 0 0 0 0 0 0 0 7 36 1 8 10 81 2 48 6 3 1 9 19 2 52 0 0 0 0 0 0 29 1 8 10 81 2 43 5 3 1 19 2 50 0 0 0 0 0 0 0 0 4 32 31 1 9 117 2 50 6 3 1 65 2 51 0 0 0 0 0 0 0 101 1 8 18 2 53 5 3 1 8 19 15 42 0 0 0 0 0 0 0 0 7 33 1 9 60 2 48 5 3 1 19 2 47 0 0 0 0 0 0 0 0 99 127 91 4 77 4 74 6 4 75 0 0 0 0 0 0 0 0 0 0 0 39 16 10 23 14 1 7 87 5 64 23 14 1 10 85 0 0 0 0 0 0 7 33 1 60 26 98 5 3 1 12 92 2 41 0 0 0 0 0 0 0 0 11 30 1 104 26 98 5 3 1 9 59 2 49 0 0 0 0 0 0 0 0 29 1 59 26 98 5 3 1 58 2 52 0 0 0 0 0 0 0 0 0 0 3 55 4 73 4 28 6 4 28 76 0 0 0 0 0 0 0 0 0 0 0 36 1 19 2 52 5 3 1 21 2 50 0 0 0 0 0 0 0 0 0 0 29 1 12 59 2 49 6 3 1 9 22 102 2 41 0 0 0 0 0 0 0 7 89 1 20 16 17 13 5 7 86 1 39 17 13 0 0 0 0 0 0 0 10 85 1 20 16 13 14 5 7 88 1 61 13 14 0 0 0 0 0 0 0 29 1 57 15 25 22 48 5 3 1 65 26 11 24 0 0 0 0 0 0 0 106 130 4 74 6 4 71 0 0 0 0 0 0 0 0 0 0 0 0 0 0 101 1 8 18 37 11 44 5 3 1 67 2 43 0 0 0 0 0 0 0 0 4 32 31 1 9 68 2 54 5 3 1 8 19 2 51 0 0 0 0 0 0 20 16 1 13 14 7 83 5 61 13 14 1 7 88 0 0 0 0 0 0 0 99 127 10 38 4 75 6 4 70 0 0 0 0 0 0 0 0 0 0 0 0 99 127 4 75 28 76 6 4 71 0 0 0 0 0 0 0 0 0 0 0 0 40 16 17 13 1 10 38 5 64 13 17 1 7 80 0 0 0 0 0 0 0 29 1 8 18 37 11 44 5 3 1 9 19 2 43 0 0 0 0 0 0 0 4 32 31 1 12 18 15 42 5 3 1 8 66 26 11 24 0 0 0 0 0 36 1 104 2 45 6 3 1 8 18 2 46 0 0 0 0 0 0 0 0 0 116 100 4 78 4 77 6 4 71 0 0 0 0 0 0 0 0 0 0 0 0 3 94 4 71 4 78 6 4 75 0 0 0 0 0 0 0 0 0 0 0 0 3 55 91 4 77 6 4 74 0 0 0 0 0 0 0 0 0 0 0 0 0 11 30 1 243 15 42 6 3 1 9 65 2 56 0 0 0 0 0 0 0 0 33 105 103 9 19 2 41 5 3 1 69 21 2 48 0 0 0 0 0 0 0 7 89 1 39 13 14 108 96 5 10 85 1 61 13 14 0 0 0 0 0 0 7 80 1 20 13 14 108 96 5 7 87 1 39 13 14 0 0 0 0 0 0 4 32 31 1 19 37 11 44 5 3 1 21 15 42 0 0 0 0 0 0 0 35 34 1 58 8 2 49 5 3 95 69 2 56 0 0 0 0 0 0 0 0 4 32 31 1 9 66 2 49 6 3 1 8 92 2 53 0 0 0 0 0 0 35 34 1 9 18 2 52 5 3 1 9 60 26 11 24 0 0 0 0 0 0 3 55 10 38 28 76 6 4 77 0 0 0 0 0 0 0 0 0 0 0 0 4 32 31 1 9 125 2 43 6 3 1 65 2 44 0 0 0 0 0 0 0 3 118 113 7 97 150 174 0 0 0 0 0 0 0 0 0 0 0 0 0 0 64 16 1 13 14 10 82 5 20 13 14 1 10 38 0 0 0 0 0 0 0 4 32 31 1 9 65 2 49 6 3 1 8 57 2 50 0 0 0 0 0 0 3 55 91 28 76 10 38 6 4 28 0 0 0 0 0 0 0 0 0 0 0 11 30 1 12 92 15 25 79 56 5 3 1 21 2 47 0 0 0 0 0 0 27 143 7 151 97 153 0 0 0 0 0 0 0 0 0 0 0 0 0 0 0 62 1 9 63 2 50 5 3 1 68 2 54 0 0 0 0 0 0 0 0 0 35 34 1 9 57 2 54 5 3 1 9 21 2 41 0 0 0 0 0 0 0 20 16 17 1 13 7 88 5 20 13 17 1 10 38 0 0 0 0 0 0 0 36 1 12 18 2 41 6 3 1 12 63 2 50 0 0 0 0 0 0 0 0 11 30 1 12 19 15 42 5 3 1 57 2 47 0 0 0 0 0 0 0 0 212 99 124 278 0 0 0 0 0 0 0 0 0 0 0 0 0 0 0 0 0 7 87 1 20 16 10 23 14 5 7 89 1 64 23 14 0 0 0 0 0 0 3 94 4 70 4 78 6 4 73 0 0 0 0 0 0 0 0 0 0 0 0 135 4 74 4 73 6 4 28 0 0 0 0 0 0 0 0 0 0 0 0 0 11 30 1 9 19 2 50 5 3 1 21 2 49 0 0 0 0 0 0 0 0 27 94 4 28 4 77 6 28 76 0 0 0 0 0 0 0 0 0 0 0 0 29 1 9 26 63 15 42 6 3 1 9 65 2 43 0 0 0 0 0 0 0 7 90 1 20 16 17 5 10 85 1 39 17 0 0 0 0 0 0 0 0 0 36 1 9 125 2 50 5 3 1 60 2 51 0 0 0 0 0 0 0 0 0 7 90 1 64 16 17 13 5 7 89 1 20 13 17 0 0 0 0 0 0 0 7 33 1 104 2 24 6 3 1 9 59 2 44 0 0 0 0 0 0 0 0 27 55 7 288 153 193 0 0 0 0 0 0 0 0 0 0 0 0 0 0 0 11 30 1 9 21 15 42 6 3 1 68 2 50 0 0 0 0 0 0 0 0 20 16 17 1 10 38 5 61 17 1 7 80 0 0 0 0 0 0 0 0 0 11 30 1 104 2 50 6 3 95 9 2 56 0 0 0 0 0 0 0 0 0 7 62 1 10 81 2 49 6 3 1 9 65 2 56 0 0 0 0 0 0 0 3 55 4 70 6 4 75 0 0 0 0 0 0 0 0 0 0 0 0 0 0 27 113 120 148 97 150 0 0 0 0 0 0 0 0 0 0 0 0 0 0 0 106 130 28 76 4 74 6 4 73 0 0 0 0 0 0 0 0 0 0 0 0 20 16 10 23 14 1 10 85 5 61 23 14 1 7 89 0 0 0 0 0 0 4 32 31 1 9 19 15 25 22 47 5 3 1 8 67 2 50 0 0 0 0 27 55 4 77 4 74 6 4 78 0 0 0 0 0 0 0 0 0 0 0 0 29 1 69 21 2 41 6 3 1 8 10 81 2 53 0 0 0 0 0 0 0 116 100 4 74 4 72 6 4 77 0 0 0 0 0 0 0 0 0 0 0 0 29 1 9 66 15 111 22 11 24 5 9 22 102 2 52 0 0 0 0 0 0 129 96 10 23 14 1 7 80 5 61 23 14 1 7 88 0 0 0 0 0 0 29 1 12 66 15 25 22 51 5 3 1 9 18 2 48 0 0 0 0 0 0 146 7 201 1 39 109 10 23 156 0 0 0 0 0 0 0 0 0 0 0 0 4 32 31 1 9 19 2 41 6 3 1 8 59 26 11 24 0 0 0 0 0 27 55 4 74 4 70 6 4 28 0 0 0 0 0 0 0 0 0 0 0 0 29 1 8 112 15 25 22 51 5 3 1 66 2 50 0 0 0 0 0 0 0 3 160 171 1 198 22 164 185 187 0 0 0 0 0 0 0 0 0 0 0 0 27 55 4 77 78 6 28 0 0 0 0 0 0 0 0 0 0 0 0 0 0 3 100 4 75 28 76 6 4 74 0 0 0 0 0 0 0 0 0 0 0 0 11 30 1 9 59 37 11 44 5 3 1 8 18 2 52 0 0 0 0 0 0 106 130 28 76 4 73 6 4 28 0 0 0 0 0 0 0 0 0 0 0 0 4 32 31 1 8 21 15 25 79 56 5 3 1 8 60 2 46 0 0 0 0 11 30 1 7 102 2 54 5 3 1 9 21 2 56 0 0 0 0 0 0 0 27 94 10 38 4 71 6 4 78 0 0 0 0 0 0 0 0 0 0 0 0 116 100 38 4 71 6 4 78 0 0 0 0 0 0 0 0 0 0 0 0 0 20 16 1 13 14 7 87 5 40 13 14 1 10 38 0 0 0 0 0 0 0 36 1 8 63 37 11 46 5 3 1 21 2 53 0 0 0 0 0 0 0 0 84 1 20 16 10 23 14 5 7 83 1 64 23 14 0 0 0 0 0 0 0 7 90 1 61 16 13 14 5 7 83 1 64 13 14 0 0 0 0 0 0 0 29 1 68 2 52 6 3 1 8 19 2 41 0 0 0 0 0 0 0 0 0 27 55 4 70 4 74 6 4 77 0 0 0 0 0 0 0 0 0 0 0 0 11 30 1 18 2 52 5 3 1 12 57 2 43 0 0 0 0 0 0 0 0 29 1 9 19 2 52 6 3 1 9 57 2 49 0 0 0 0 0 0 0 0 36 105 103 9 19 15 25 79 56 5 3 1 58 69 2 44 0 0 0 0 0 20 16 10 23 14 1 7 86 5 39 23 14 1 7 87 0 0 0 0 0 0 135 4 73 4 28 76 6 4 74 0 0 0 0 0 0 0 0 0 0 0 0 29 1 9 58 2 53 5 3 1 9 21 2 48 0 0 0 0 0 0 0 0 35 34 1 8 21 2 49 6 3 1 59 2 43 0 0 0 0 0 0 0 0 29 1 8 63 2 49 5 3 1 12 66 2 53 0 0 0 0 0 0 0 0 36 1 63 2 52 5 3 1 8 21 2 53 0 0 0 0 0 0 0 0 0 29 1 68 15 25 22 51 5 3 1 8 65 26 11 24 0 0 0 0 0 0 7 80 1 64 16 17 5 10 38 1 61 17 0 0 0 0 0 0 0 0 0 7 33 1 12 59 2 43 5 3 1 12 68 26 11 24 0 0 0 0 0 0 116 207 22 136 7 36 2 46 0 0 0 0 0 0 0 0 0 0 0 0 0 64 16 17 1 10 38 5 20 17 1 7 88 0 0 0 0 0 0 0 0 0 3 55 115 248 110 176 0 0 0 0 0 0 0 0 0 0 0 0 0 0 0 35 34 1 9 117 15 42 6 3 1 21 2 48 0 0 0 0 0 0 0 0 35 34 1 19 2 54 5 3 1 9 59 2 41 0 0 0 0 0 0 0 0 27 94 4 75 6 4 78 0 0 0 0 0 0 0 0 0 0 0 0 0 0 3 94 121 147 97 153 0 0 0 0 0 0 0 0 0 0 0 0 0 0 0 36 1 8 18 2 54 6 3 1 18 15 42 0 0 0 0 0 0 0 0 0 29 1 9 138 2 50 5 9 26 63 26 11 24 0 0 0 0 0 0 0 0 99 131 233 2 36 11 24 142 0 0 0 0 0 0 0 0 0 0 0 0 0 11 30 1 8 59 2 50 6 3 1 112 2 45 0 0 0 0 0 0 0 0 101 1 9 65 2 41 5 3 1 8 67 26 11 24 0 0 0 0 0 0 0 35 34 105 103 9 19 15 111 22 11 24 6 3 1 60 2 43 0 0 0 0 29 1 9 18 26 98 6 3 1 12 19 2 46 0 0 0 0 0 0 0 0 61 16 17 13 1 7 83 5 40 13 140 1 7 89 0 0 0 0 0 0 0 3 100 4 74 4 78 6 10 38 0 0 0 0 0 0 0 0 0 0 0 0 4 32 31 1 12 67 37 11 46 6 3 1 8 18 26 11 24 0 0 0 0 62 1 8 92 2 49 6 3 1 66 15 42 0 0 0 0 0 0 0 0 0 27 55 4 78 4 28 6 4 70 0 0 0 0 0 0 0 0 0 0 0 0 135 4 71 6 4 77 0 0 0 0 0 0 0 0 0 0 0 0 0 0 0 7 33 1 12 63 15 111 22 11 24 5 3 95 15 42 0 0 0 0 0 0 7 33 1 8 10 81 2 48 6 3 1 8 63 2 41 0 0 0 0 0 0 29 1 9 22 102 15 25 22 47 5 3 1 58 69 2 50 0 0 0 0 0 20 16 1 13 14 10 82 5 64 13 14 1 7 83 0 0 0 0 0 0 0 11 30 1 12 68 2 24 5 3 1 8 18 2 45 0 0 0 0 0 0 0 129 96 13 14 1 7 83 5 39 13 14 1 84 0 0 0 0 0 0 0 0 135 10 38 4 77 6 4 70 0 0 0 0 0 0 0 0 0 0 0 0 0 3 55 4 28 4 73 6 4 71 0 0 0 0 0 0 0 0 0 0 0 0 35 34 1 8 21 2 48 5 3 1 19 2 56 0 0 0 0 0 0 0 0 11 30 1 12 68 15 25 79 56 5 9 22 102 2 48 0 0 0 0 0 0 99 124 10 38 6 4 75 0 0 0 0 0 0 0 0 0 0 0 0 0 0 29 1 9 58 37 11 44 6 3 95 2 53 0 0 0 0 0 0 0 0 0 29 1 8 19 2 41 6 3 157 26 11 24 0 0 0 0 0 0 0 0 0 7 62 1 9 10 81 2 49 5 3 1 8 18 2 51 0 0 0 0 0 0 36 1 58 26 98 5 3 1 8 21 2 45 0 0 0 0 0 0 0 0 0 40 16 10 23 14 1 84 5 20 23 14 1 10 38 0 0 0 0 0 0 0 27 143 146 165 97 134 0 0 0 0 0 0 0 0 0 0 0 0 0 0 0 7 86 1 61 16 13 14 5 7 88 1 64 13 14 0 0 0 0 0 0 0 11 30 1 8 21 37 11 46 5 3 1 12 92 2 48 0 0 0 0 0 0 115 216 122 20 109 17 13 0 0 0 0 0 0 0 0 0 0 0 0 0 0 107 126 4 77 4 75 6 4 72 0 0 0 0 0 0 0 0 0 0 0 0 107 126 4 78 4 74 6 4 70 0 0 0 0 0 0 0 0 0 0 0 0 3 143 10 248 110 134 0 0 0 0 0 0 0 0 0 0 0 0 0 0 0 11 30 1 10 81 2 45 5 3 1 8 67 2 53 0 0 0 0 0 0 0 35 34 1 9 65 2 52 5 3 1 9 19 2 48 0 0 0 0 0 0 0 27 1 10 344 22 7 224 97 134 0 0 0 0 0 0 0 0 0 0 0 0 62 1 9 19 2 41 5 3 1 12 65 2 56 0 0 0 0 0 0 0 0 10 82 1 64 16 17 13 5 7 88 1 20 13 17 0 0 0 0 0 0 0 35 34 1 10 81 37 11 46 5 3 1 8 63 2 49 0 0 0 0 0 0 27 178 22 167 181 2 62 2 50 0 0 0 0 0 0 0 0 0 0 0 0 4 32 31 1 21 15 25 22 53 6 3 1 12 21 2 41 0 0 0 0 0 27 55 4 71 4 28 6 4 28 76 0 0 0 0 0 0 0 0 0 0 0 3 55 91 10 38 4 71 6 4 28 0 0 0 0 0 0 0 0 0 0 0 20 16 17 1 10 85 5 40 93 1 7 83 0 0 0 0 0 0 0 0 0 7 33 1 9 58 2 49 6 3 1 12 19 2 41 0 0 0 0 0 0 0 263 179 209 141 175 0 0 0 0 0 0 0 0 0 0 0 0 0 0 0 0 4 32 31 1 7 102 2 45 5 3 105 103 9 19 2 52 0 0 0 0 0 7 33 1 12 18 2 43 5 3 95 9 2 49 0 0 0 0 0 0 0 0 62 1 69 21 15 42 5 9 108 177 2 54 0 0 0 0 0 0 0 0 0 36 1 9 117 2 43 6 3 1 8 65 2 44 0 0 0 0 0 0 0 0 4 32 31 1 8 21 2 52 6 3 1 8 57 26 11 24 0 0 0 0 0 64 16 17 1 84 5 20 93 1 7 88 0 0 0 0 0 0 0 0 0 0 20 16 17 13 1 7 80 5 39 17 13 1 7 90 0 0 0 0 0 0 0 99 124 4 72 4 28 6 4 159 0 0 0 0 0 0 0 0 0 0 0 0 35 34 1 21 2 52 5 3 1 8 21 2 54 0 0 0 0 0 0 0 0 7 36 1 8 306 2 50 6 3 1 8 112 2 52 0 0 0 0 0 0 0 4 32 31 1 21 15 25 22 45 5 3 1 8 21 15 42 0 0 0 0 0 40 16 1 13 14 7 80 5 61 13 14 1 7 86 0 0 0 0 0 0 0 35 34 1 12 60 2 51 6 3 1 12 65 2 43 0 0 0 0 0 0 0 7 33 1 9 18 15 25 22 47 5 3 1 8 66 2 51 0 0 0 0 0 35 34 1 12 63 15 111 22 11 24 5 3 1 8 66 2 56 0 0 0 0 33 1 57 2 43 6 3 1 12 19 2 50 0 0 0 0 0 0 0 0 0 29 1 12 59 2 52 6 3 1 9 65 2 45 0 0 0 0 0 0 0 0 20 16 10 23 14 1 10 38 5 61 23 14 1 10 82 0 0 0 0 0 0 135 4 71 4 72 6 10 38 0 0 0 0 0 0 0 0 0 0 0 0 0 39 16 17 1 7 80 5 20 17 1 10 85 0 0 0 0 0 0 0 0 0 7 33 1 9 19 2 48 6 3 1 57 2 50 0 0 0 0 0 0 0 0 11 30 1 8 18 15 25 22 47 6 3 95 9 2 41 0 0 0 0 0 0 7 89 1 20 16 13 14 0 0 0 0 0 0 0 0 0 0 0 0 0 0 62 1 12 63 2 50 5 3 1 12 19 2 48 0 0 0 0 0 0 0 0 35 34 1 63 37 11 44 6 3 1 9 68 2 50 0 0 0 0 0 0 0 64 16 17 1 13 84 5 39 17 13 1 7 90 0 0 0 0 0 0 0 0 29 1 9 125 2 48 6 3 1 67 26 11 24 0 0 0 0 0 0 0 0 29 1 8 18 2 41 6 3 1 9 68 2 43 0 0 0 0 0 0 0 0 27 145 120 148 97 150 0 0 0 0 0 0 0 0 0 0 0 0 0 0 0 146 11 219 122 20 109 10 23 14 0 0 0 0 0 0 0 0 0 0 0 0 99 124 4 71 4 73 6 4 74 0 0 0 0 0 0 0 0 0 0 0 0 35 34 1 7 102 2 41 6 3 1 8 137 2 52 0 0 0 0 0 0 0 29 1 8 112 37 11 46 6 3 1 9 21 2 48 0 0 0 0 0 0 0 3 94 4 71 10 38 6 4 74 0 0 0 0 0 0 0 0 0 0 0 0 106 130 4 73 4 72 6 4 28 76 0 0 0 0 0 0 0 0 0 0 0 27 55 28 76 4 28 6 4 77 0 0 0 0 0 0 0 0 0 0 0 0 4 32 31 1 12 18 2 52 5 3 1 12 21 2 53 0 0 0 0 0 0 33 1 21 2 54 6 3 1 9 57 2 43 0 0 0 0 0 0 0 0 0 27 158 91 144 183 110 172 0 0 0 0 0 0 0 0 0 0 0 0 0 0 3 55 4 70 4 75 6 4 28 0 0 0 0 0 0 0 0 0 0 0 0 3 94 4 70 4 28 6 4 74 0 0 0 0 0 0 0 0 0 0 0 0 29 1 9 66 2 48 5 3 1 9 125 2 44 0 0 0 0 0 0 0 0 11 30 1 12 60 2 51 6 3 1 8 18 26 11 24 0 0 0 0 0 0 3 118 113 144 200 110 133 0 0 0 0 0 0 0 0 0 0 0 0 0 0 99 124 4 78 4 77 6 4 74 0 0 0 0 0 0 0 0 0 0 0 0 40 16 17 13 1 7 83 5 61 13 17 1 7 80 0 0 0 0 0 0 0 62 1 8 104 26 98 5 3 1 60 2 45 0 0 0 0 0 0 0 0 0 20 16 17 1 7 88 5 40 93 1 7 87 0 0 0 0 0 0 0 0 0 27 158 91 7 151 97 153 0 0 0 0 0 0 0 0 0 0 0 0 0 0 36 1 8 66 2 50 6 3 1 12 19 15 42 0 0 0 0 0 0 0 0 7 33 1 10 81 2 43 5 3 1 59 2 47 0 0 0 0 0 0 0 0 39 16 17 1 7 83 5 20 93 1 7 88 0 0 0 0 0 0 0 0 0 4 32 31 1 9 60 15 25 22 51 5 3 1 9 21 2 45 0 0 0 0 101 1 8 18 15 25 22 47 5 3 95 69 2 52 0 0 0 0 0 0 0 7 33 1 8 63 2 48 5 3 1 8 57 2 52 0 0 0 0 0 0 0 107 132 4 71 6 4 28 0 0 0 0 0 0 0 0 0 0 0 0 0 0 11 30 1 9 22 102 2 45 6 3 1 8 18 15 42 0 0 0 0 0 0 27 55 121 148 97 150 0 0 0 0 0 0 0 0 0 0 0 0 0 0 0 4 32 31 1 12 66 2 53 6 3 1 9 58 2 41 0 0 0 0 0 0 10 85 1 64 16 17 13 5 7 89 1 40 17 13 0 0 0 0 0 0 0 35 34 1 9 65 2 48 6 3 1 8 66 15 42 0 0 0 0 0 0 0 7 33 1 9 19 2 45 5 9 108 177 2 43 0 0 0 0 0 0 0 0 35 34 1 18 2 41 6 3 1 8 59 2 54 0 0 0 0 0 0 0 0 27 55 120 97 155 174 0 0 0 0 0 0 0 0 0 0 0 0 0 0 0 4 32 31 1 12 92 37 11 24 5 3 1 9 19 2 53 0 0 0 0 0 4 32 31 1 8 19 37 11 44 6 3 1 8 65 2 49 0 0 0 0 0 29 1 12 92 2 48 6 3 1 21 26 11 24 0 0 0 0 0 0 0 0 4 32 31 1 12 18 2 41 6 3 1 8 66 2 24 0 0 0 0 0 0 61 16 17 1 10 38 5 40 93 1 10 82 0 0 0 0 0 0 0 0 0 4 32 31 1 9 104 26 98 6 3 1 8 57 2 50 0 0 0 0 0 0 263 179 209 141 4 13 175 0 0 0 0 0 0 0 0 0 0 0 0 0 0 7 33 1 8 58 2 41 5 3 1 69 21 2 54 0 0 0 0 0 0 0 36 1 8 137 2 54 5 3 1 12 59 2 49 0 0 0 0 0 0 0 0 106 128 91 4 28 4 78 6 4 77 0 0 0 0 0 0 0 0 0 0 0 40 16 10 23 14 1 10 38 5 39 23 14 1 7 83 0 0 0 0 0 0 62 1 8 67 2 49 5 9 59 2 54 0 0 0 0 0 0 0 0 0 0 7 33 1 8 92 2 50 6 3 1 8 57 2 46 0 0 0 0 0 0 0 4 32 31 1 9 21 15 25 79 54 5 3 1 67 2 53 0 0 0 0 0 29 1 8 18 15 25 79 56 5 3 1 12 19 2 53 0 0 0 0 0 0 7 36 1 8 92 2 54 6 3 1 9 57 2 41 0 0 0 0 0 0 0 11 30 1 12 18 2 24 5 3 1 9 57 2 46 0 0 0 0 0 0 0 11 30 1 19 2 54 5 3 1 12 18 2 56 0 0 0 0 0 0 0 0 106 130 4 73 4 28 6 4 77 0 0 0 0 0 0 0 0 0 0 0 0 235 1 115 290 180 10 277 0 0 0 0 0 0 0 0 0 0 0 0 0 0 35 34 1 10 81 69 26 98 6 3 1 8 59 2 49 0 0 0 0 0 0 36 1 9 10 81 37 11 24 6 3 1 12 18 2 52 0 0 0 0 0 0 61 16 1 13 14 10 85 5 27 1 13 14 7 80 0 0 0 0 0 0 0 62 1 9 7 102 2 52 6 3 1 9 68 2 47 0 0 0 0 0 0 0 101 1 9 195 37 11 44 6 3 1 8 18 26 11 24 0 0 0 0 0 0 40 13 14 1 10 16 22 38 5 39 13 14 1 7 80 0 0 0 0 0 0 29 1 12 67 15 111 22 11 24 6 3 1 21 2 54 0 0 0 0 0 0 35 34 1 8 67 15 42 5 3 1 9 68 2 56 0 0 0 0 0 0 0 20 16 1 13 14 7 80 5 39 13 14 1 7 87 0 0 0 0 0 0 0 3 55 4 70 4 28 76 6 4 78 0 0 0 0 0 0 0 0 0 0 0 7 33 1 9 104 26 98 6 3 1 67 2 41 0 0 0 0 0 0 0 0 27 55 121 151 97 153 0 0 0 0 0 0 0 0 0 0 0 0 0 0 0 7 33 1 12 68 15 42 6 3 1 8 57 2 54 0 0 0 0 0 0 0 62 1 8 60 2 54 6 3 1 8 137 2 51 0 0 0 0 0 0 0 0 7 33 1 9 104 15 42 6 3 1 9 65 2 46 0 0 0 0 0 0 0 4 32 31 1 10 81 69 2 53 5 3 1 9 18 15 42 0 0 0 0 0 10 38 1 64 16 17 13 5 7 80 1 61 13 17 0 0 0 0 0 0 0 106 130 4 73 4 72 6 4 70 0 0 0 0 0 0 0 0 0 0 0 0 129 96 13 14 1 7 86 5 20 13 14 1 84 0 0 0 0 0 0 0 0 4 32 31 1 8 59 2 49 5 3 1 8 65 26 11 24 0 0 0 0 0 106 130 4 28 4 71 6 10 38 0 0 0 0 0 0 0 0 0 0 0 0 84 1 13 39 16 17 5 7 88 1 20 13 17 0 0 0 0 0 0 0 0 27 204 123 15 35 34 0 0 0 0 0 0 0 0 0 0 0 0 0 0 0 27 118 149 121 97 166 154 0 0 0 0 0 0 0 0 0 0 0 0 0 0 7 62 1 10 81 69 2 45 6 3 1 12 92 2 56 0 0 0 0 0 0 20 16 1 13 14 10 85 5 40 13 14 1 7 88 0 0 0 0 0 0 0 7 201 1 20 109 17 13 0 0 0 0 0 0 0 0 0 0 0 0 0 0 29 1 21 15 25 22 47 6 3 103 19 15 42 0 0 0 0 0 0 0 0 35 34 1 60 15 25 22 45 5 3 1 65 26 11 24 0 0 0 0 0 0 11 30 1 63 15 111 22 11 24 6 3 1 8 67 2 54 0 0 0 0 0 3 55 91 4 73 4 28 76 6 72 0 0 0 0 0 0 0 0 0 0 0 40 16 10 23 14 1 7 86 5 20 23 14 1 7 87 0 0 0 0 0 0 29 1 8 18 15 42 6 3 1 8 21 2 43 0 0 0 0 0 0 0 0 10 85 1 20 16 17 13 5 10 82 1 64 13 17 0 0 0 0 0 0 0 4 32 31 1 8 65 2 41 6 3 103 19 2 49 0 0 0 0 0 0 0 11 30 1 9 60 26 98 5 3 1 12 63 2 50 0 0 0 0 0 0 0 61 13 14 16 1 10 82 5 39 13 14 1 7 80 0 0 0 0 0 0 0 106 128 91 4 78 4 28 76 6 4 71 0 0 0 0 0 0 0 0 0 0 7 90 1 20 16 13 14 5 10 38 253 1 13 14 0 0 0 0 0 0 0 36 1 9 138 2 51 6 3 1 12 63 2 49 0 0 0 0 0 0 0 0 64 16 17 1 13 7 86 0 0 0 0 0 0 0 0 0 0 0 0 0 0 7 86 1 20 16 17 13 5 7 88 1 64 13 140 0 0 0 0 0 0 0 4 32 31 1 58 8 15 25 22 45 6 3 1 67 2 54 0 0 0 0 0 29 1 8 21 15 25 22 51 6 3 1 60 2 41 0 0 0 0 0 0 0 35 34 1 12 63 2 51 6 3 103 19 2 44 0 0 0 0 0 0 0 0 29 1 9 67 15 25 79 56 5 3 1 9 125 2 52 0 0 0 0 0 0 101 1 8 67 2 53 5 3 1 19 2 51 0 0 0 0 0 0 0 0 0 20 16 17 13 1 7 80 5 39 17 1 10 13 38 0 0 0 0 0 0 0 61 16 17 1 7 83 5 20 93 1 7 88 0 0 0 0 0 0 0 0 0 35 34 1 8 63 37 11 46 5 3 1 12 60 2 49 0 0 0 0 0 0 35 34 1 9 58 26 98 5 3 1 9 18 2 53 0 0 0 0 0 0 0 3 113 121 168 97 133 0 0 0 0 0 0 0 0 0 0 0 0 0 0 0 11 30 1 8 59 2 49 5 3 1 21 2 44 0 0 0 0 0 0 0 0 3 100 4 75 4 72 4 28 6 4 0 0 0 0 0 0 0 0 0 0 0 7 87 1 64 16 13 14 5 7 90 1 20 13 14 0 0 0 0 0 0 0 7 80 1 40 16 10 23 14 5 7 90 1 64 23 14 0 0 0 0 0 0 36 1 7 102 15 42 6 3 1 12 19 2 53 0 0 0 0 0 0 0 0 29 1 12 18 2 45 5 3 1 12 60 2 48 0 0 0 0 0 0 0 0 29 1 12 63 37 11 44 5 3 1 9 18 2 52 0 0 0 0 0 0 0 29 1 60 15 111 285 42 6 3 1 8 21 2 45 0 0 0 0 0 0 0 62 1 8 19 15 25 79 56 6 3 1 8 92 15 42 0 0 0 0 0 0 116 160 171 1 196 22 164 161 186 6 189 0 0 0 0 0 0 0 0 0 0 4 32 31 1 8 66 2 41 5 3 1 18 2 48 0 0 0 0 0 0 0 36 1 8 67 2 41 5 3 1 21 2 53 0 0 0 0 0 0 0 0 0 27 55 4 71 4 74 6 4 77 0 0 0 0 0 0 0 0 0 0 0 0 36 1 9 22 102 37 11 46 6 3 1 68 2 53 0 0 0 0 0 0 0 36 1 12 67 2 54 5 3 1 68 2 41 0 0 0 0 0 0 0 0 0 3 55 146 11 193 150 165 0 0 0 0 0 0 0 0 0 0 0 0 0 0 3 55 91 28 76 4 77 6 4 75 0 0 0 0 0 0 0 0 0 0 0 7 90 1 61 16 17 13 5 7 89 1 20 13 17 0 0 0 0 0 0 0 29 1 8 19 2 54 5 3 1 57 2 49 0 0 0 0 0 0 0 0 0 7 33 1 8 18 2 48 5 3 1 9 57 2 47 0 0 0 0 0 0 0 4 32 31 1 12 18 15 111 22 11 24 6 3 1 58 8 2 45 0 0 0 170 141 131 108 258 4 23 206 0 0 0 0 0 0 0 0 0 0 0 0 0 107 126 4 28 4 74 6 4 72 0 0 0 0 0 0 0 0 0 0 0 0 107 132 4 28 4 77 6 4 74 0 0 0 0 0 0 0 0 0 0 0 0 39 16 10 23 14 1 7 83 5 20 23 14 1 10 38 0 0 0 0 0 0 36 1 60 15 25 79 56 6 3 1 9 21 2 53 0 0 0 0 0 0 0 3 113 121 151 97 133 0 0 0 0 0 0 0 0 0 0 0 0 0 0 0 4 32 31 1 10 81 69 15 25 22 45 5 3 1 12 60 2 43 0 0 0 29 1 9 104 37 11 44 6 3 95 69 2 51 0 0 0 0 0 0 0 0 29 1 58 69 15 25 22 51 5 3 1 9 117 15 42 0 0 0 0 0 0 4 32 31 1 9 18 15 25 22 47 5 3 1 8 65 2 44 0 0 0 0 62 1 8 92 2 24 6 3 1 8 65 2 49 0 0 0 0 0 0 0 0 101 1 19 37 11 44 5 3 1 65 2 51 0 0 0 0 0 0 0 0 0 20 109 10 23 14 122 146 7 201 0 0 0 0 0 0 0 0 0 0 0 0 7 86 1 64 16 10 23 119 5 10 82 1 61 23 14 0 0 0 0 0 0 11 30 1 9 67 15 25 22 47 5 3 1 21 2 50 0 0 0 0 0 0 7 33 1 8 60 15 25 22 45 5 3 1 9 57 2 54 0 0 0 0 0 7 87 1 10 16 10 23 119 5 10 85 27 1 10 23 14 0 0 0 0 0 39 16 17 1 13 7 89 5 64 13 17 1 10 38 0 0 0 0 0 0 0 3 55 10 38 4 73 6 4 28 0 0 0 0 0 0 0 0 0 0 0 0 4 32 31 1 9 66 37 11 44 6 3 1 8 65 2 41 0 0 0 0 0 35 34 1 10 81 2 51 5 3 1 67 2 45 0 0 0 0 0 0 0 0 99 124 4 71 4 28 6 4 74 0 0 0 0 0 0 0 0 0 0 0 0 7 89 1 20 16 13 14 5 7 86 27 1 13 14 0 0 0 0 0 0 0 62 1 57 2 48 6 3 1 8 67 2 53 0 0 0 0 0 0 0 0 0 7 33 1 9 65 2 41 6 3 1 8 18 2 44 0 0 0 0 0 0 0 62 105 103 9 19 2 53 5 3 1 8 18 2 48 0 0 0 0 0 0 0 99 124 4 70 4 74 6 4 71 0 0 0 0 0 0 0 0 0 0 0 0 40 109 10 23 14 122 121 201 0 0 0 0 0 0 0 0 0 0 0 0 0 7 36 1 12 59 15 25 22 47 5 3 1 12 57 2 24 0 0 0 0 0 27 55 4 70 10 38 6 4 73 0 0 0 0 0 0 0 0 0 0 0 0 35 34 1 12 18 2 43 5 3 1 63 2 48 0 0 0 0 0 0 0 0 4 32 31 1 12 92 37 11 46 5 3 1 12 68 2 49 0 0 0 0 0 106 130 4 73 6 4 77 0 0 0 0 0 0 0 0 0 0 0 0 0 0 62 1 12 19 2 45 6 3 1 18 2 49 0 0 0 0 0 0 0 0 0 3 55 4 73 4 71 6 4 77 0 0 0 0 0 0 0 0 0 0 0 0 3 100 4 75 28 76 6 10 38 0 0 0 0 0 0 0 0 0 0 0 0 101 1 60 15 25 22 47 6 3 1 9 18 2 52 0 0 0 0 0 0 0 135 4 74 4 78 6 4 28 0 0 0 0 0 0 0 0 0 0 0 0 0 33 1 59 15 25 22 47 6 3 1 63 26 11 24 0 0 0 0 0 0 0 29 1 65 37 11 44 5 3 1 9 57 15 42 0 0 0 0 0 0 0 0 33 105 103 9 19 37 11 44 6 3 1 65 2 49 0 0 0 0 0 0 0 29 1 9 65 37 11 46 5 3 1 12 18 2 48 0 0 0 0 0 0 0 107 208 120 254 2 36 2 51 0 0 0 0 0 0 0 0 0 0 0 0 0 7 86 1 20 16 17 5 7 80 1 39 17 0 0 0 0 0 0 0 0 0 152 96 10 23 14 1 84 5 39 23 14 1 7 89 0 0 0 0 0 0 0 152 96 10 23 14 1 7 86 5 39 23 14 1 7 89 0 0 0 0 0 0 39 16 1 13 14 7 80 5 64 13 14 1 7 88 0 0 0 0 0 0 0 11 30 1 8 18 2 43 6 3 1 8 10 81 2 52 0 0 0 0 0 0 10 38 1 20 13 14 108 96 5 7 80 1 40 13 14 0 0 0 0 0 0 40 16 10 23 14 1 7 86 0 0 0 0 0 0 0 0 0 0 0 0 0 107 132 4 78 4 71 6 4 28 0 0 0 0 0 0 0 0 0 0 0 0 7 36 1 8 57 15 25 79 56 5 3 1 58 69 2 43 0 0 0 0 0 27 118 113 121 168 97 134 0 0 0 0 0 0 0 0 0 0 0 0 0 0 27 118 113 121 168 97 162 0 0 0 0 0 0 0 0 0 0 0 0 0 0 62 1 12 57 2 54 6 3 1 12 60 2 48 0 0 0 0 0 0 0 0 11 30 1 69 65 15 25 22 47 6 3 1 12 21 15 42 0 0 0 0 0 29 1 8 19 15 42 6 3 1 12 18 2 45 0 0 0 0 0 0 0 0 3 55 91 4 75 4 78 6 28 0 0 0 0 0 0 0 0 0 0 0 0 7 33 1 8 58 37 11 44 6 3 1 12 65 2 56 0 0 0 0 0 0 11 30 1 249 15 25 79 56 5 3 1 12 21 26 11 24 0 0 0 0 0 35 34 1 12 19 15 42 5 3 1 9 18 2 45 0 0 0 0 0 0 0 7 88 1 61 16 13 14 5 7 86 27 1 13 14 0 0 0 0 0 0 0 29 1 66 2 49 5 3 1 12 65 2 44 0 0 0 0 0 0 0 0 0 99 127 4 73 4 74 6 4 28 76 0 0 0 0 0 0 0 0 0 0 0 33 1 58 37 11 44 5 3 1 68 2 53 0 0 0 0 0 0 0 0 0 27 158 91 7 151 97 153 0 0 0 0 0 0 0 0 0 0 0 0 0 0 7 90 1 20 16 17 5 10 82 1 39 17 0 0 0 0 0 0 0 0 0 205 229 99 10 277 0 0 0 0 0 0 0 0 0 0 0 0 0 0 0 0 20 16 17 1 7 89 5 20 17 1 10 85 0 0 0 0 0 0 0 0 0 7 33 1 12 63 15 42 6 3 1 8 60 2 54 0 0 0 0 0 0 0 62 1 9 19 2 43 5 3 1 60 2 41 0 0 0 0 0 0 0 0 0 10 85 1 39 16 17 13 5 7 87 1 7 13 140 0 0 0 0 0 0 0 7 33 1 12 67 2 43 5 3 1 8 59 2 51 0 0 0 0 0 0 0 7 80 1 39 16 17 5 7 83 1 20 93 0 0 0 0 0 0 0 0 0 10 85 1 61 16 10 23 14 5 10 82 1 7 23 242 0 0 0 0 0 0 7 90 1 13 39 16 17 5 10 82 1 20 13 17 0 0 0 0 0 0 0 29 1 19 2 49 5 3 1 18 2 46 0 0 0 0 0 0 0 0 0 0 20 16 17 13 1 7 89 5 40 13 17 1 7 83 0 0 0 0 0 0 0 40 16 10 23 14 1 7 88 5 39 23 14 1 7 80 0 0 0 0 0 0 29 1 12 19 2 48 6 3 1 8 139 2 50 0 0 0 0 0 0 0 0 84 1 13 39 16 17 5 7 87 1 7 13 140 0 0 0 0 0 0 0 0 27 55 4 28 6 4 159 0 0 0 0 0 0 0 0 0 0 0 0 0 0 29 1 8 66 15 25 22 47 5 3 1 67 2 46 0 0 0 0 0 0 0 3 143 120 97 134 165 0 0 0 0 0 0 0 0 0 0 0 0 0 0 0 36 1 8 63 37 11 24 6 3 1 12 65 2 53 0 0 0 0 0 0 0 116 100 91 4 71 4 70 6 4 28 76 0 0 0 0 0 0 0 0 0 0 62 1 12 18 2 41 5 3 1 8 57 2 52 0 0 0 0 0 0 0 0 7 33 1 104 15 25 22 47 6 3 1 60 2 48 0 0 0 0 0 0 0 62 1 8 59 2 43 5 3 1 66 2 53 0 0 0 0 0 0 0 0 0 7 33 1 8 104 2 53 6 3 1 57 9 26 11 24 0 0 0 0 0 0 35 34 1 8 18 2 49 5 3 1 8 57 2 24 0 0 0 0 0 0 0 7 33 1 12 92 2 50 5 3 95 69 2 51 0 0 0 0 0 0 0 0 106 130 4 74 6 4 72 0 0 0 0 0 0 0 0 0 0 0 0 0 0 4 32 31 1 8 60 2 54 5 3 1 12 18 2 53 0 0 0 0 0 0 4 32 31 1 112 2 54 6 3 1 68 2 51 0 0 0 0 0 0 0 0 27 94 4 73 4 28 76 6 72 0 0 0 0 0 0 0 0 0 0 0 0 29 1 8 18 2 53 6 3 103 19 2 47 0 0 0 0 0 0 0 0 0 99 240 123 2 36 2 52 114 0 0 0 0 0 0 0 0 0 0 0 0 0 39 16 17 1 84 5 20 17 1 7 87 0 0 0 0 0 0 0 0 0 0 7 62 1 8 10 81 2 43 6 3 1 12 68 2 46 0 0 0 0 0 0 29 1 12 68 15 42 5 3 1 65 2 46 0 0 0 0 0 0 0 0 0 101 1 58 69 26 98 6 3 1 9 19 2 49 0 0 0 0 0 0 0 0 20 109 10 23 156 122 10 221 0 0 0 0 0 0 0 0 0 0 0 0 0 27 94 115 110 182 169 0 0 0 0 0 0 0 0 0 0 0 0 0 0 0 7 62 1 9 58 15 42 5 3 1 8 66 2 41 0 0 0 0 0 0 0 35 34 1 9 10 81 37 11 44 5 3 1 112 2 47 0 0 0 0 0 0 7 87 1 61 16 13 14 5 10 82 1 40 13 14 0 0 0 0 0 0 0 35 34 1 10 81 37 11 24 6 3 1 63 2 46 0 0 0 0 0 0 0 62 1 63 15 25 79 56 6 3 1 12 21 2 50 0 0 0 0 0 0 0 135 4 73 4 159 6 4 71 0 0 0 0 0 0 0 0 0 0 0 0 0 11 30 1 10 81 69 2 50 6 3 1 9 57 2 56 0 0 0 0 0 0 7 87 1 7 13 14 108 96 5 7 90 1 40 13 14 0 0 0 0 0 0 116 100 91 4 75 4 78 6 28 0 0 0 0 0 0 0 0 0 0 0 0 27 55 4 77 4 71 6 4 78 0 0 0 0 0 0 0 0 0 0 0 0 106 128 91 4 77 4 78 6 4 74 0 0 0 0 0 0 0 0 0 0 0 7 33 1 8 18 15 42 6 3 1 59 2 54 0 0 0 0 0 0 0 0 35 34 1 8 66 2 54 5 3 1 12 18 2 51 0 0 0 0 0 0 0 7 86 1 61 16 17 13 5 7 87 1 64 13 140 0 0 0 0 0 0 0 20 16 17 1 13 10 82 5 40 13 17 1 10 38 0 0 0 0 0 0 0 4 32 31 1 8 66 2 48 6 3 1 12 21 2 41 0 0 0 0 0 0 62 1 8 21 2 45 6 3 103 19 2 53 0 0 0 0 0 0 0 0 0 3 158 91 144 110 166 154 0 0 0 0 0 0 0 0 0 0 0 0 0 0 3 178 22 136 29 15 42 0 0 0 0 0 0 0 0 0 0 0 0 0 0 10 82 1 40 16 10 23 14 5 7 87 1 7 23 242 0 0 0 0 0 0 40 16 17 1 13 7 88 5 64 13 17 1 7 80 0 0 0 0 0 0 0 62 1 9 104 26 98 6 3 1 19 2 44 0 0 0 0 0 0 0 0 0 29 1 12 63 2 45 6 3 1 8 21 2 52 0 0 0 0 0 0 0 0 152 96 10 23 14 1 10 38 5 40 23 14 1 84 0 0 0 0 0 0 0 39 109 17 1 13 10 221 0 0 0 0 0 0 0 0 0 0 0 0 0 0 7 87 1 10 16 10 23 14 64 5 10 82 1 39 23 14 0 0 0 0 0 4 32 31 1 8 66 2 49 6 3 1 12 68 2 51 0 0 0 0 0 0 11 30 1 12 19 37 11 24 6 3 1 9 65 2 54 0 0 0 0 0 0 62 1 66 2 50 6 3 1 9 57 2 45 0 0 0 0 0 0 0 0 0 4 32 31 1 67 26 98 6 3 1 12 18 2 43 0 0 0 0 0 0 0 27 55 10 184 110 133 0 0 0 0 0 0 0 0 0 0 0 0 0 0 0 7 33 1 12 67 2 49 5 3 1 65 2 46 0 0 0 0 0 0 0 0 7 87 1 40 13 14 108 96 5 84 27 1 13 14 0 0 0 0 0 0 0 20 16 1 13 14 10 85 5 39 13 14 1 10 38 0 0 0 0 0 0 0 3 94 4 28 4 74 6 4 70 0 0 0 0 0 0 0 0 0 0 0 0 27 1 234 2 48 142 2 62 0 0 0 0 0 0 0 0 0 0 0 0 0 7 33 1 8 59 2 52 5 3 1 9 117 2 41 0 0 0 0 0 0 0 35 34 1 10 81 69 15 25 22 51 6 3 1 9 68 2 56 0 0 0 0 11 30 1 12 60 2 50 6 3 1 57 2 43 0 0 0 0 0 0 0 0 11 30 1 9 26 63 15 42 5 3 1 19 2 43 0 0 0 0 0 0 0 61 16 17 1 7 83 5 20 17 1 10 38 0 0 0 0 0 0 0 0 0 152 96 10 23 14 1 10 85 5 64 23 14 1 7 90 0 0 0 0 0 0 101 1 12 59 2 51 5 3 1 18 2 49 0 0 0 0 0 0 0 0 0 29 1 66 15 42 5 3 1 58 2 45 0 0 0 0 0 0 0 0 0 0 101 1 9 60 2 43 5 9 22 102 26 11 24 0 0 0 0 0 0 0 0 7 33 1 12 59 2 51 6 3 1 9 104 26 11 24 0 0 0 0 0 0 29 1 21 26 98 6 3 1 8 67 2 48 0 0 0 0 0 0 0 0 0 7 33 1 8 18 2 46 6 3 1 8 60 2 50 0 0 0 0 0 0 0 29 1 9 22 102 2 52 6 3 1 8 68 15 42 0 0 0 0 0 0 0 64 16 17 1 7 90 5 39 17 1 10 82 0 0 0 0 0 0 0 0 0 27 55 4 77 4 71 6 4 72 0 0 0 0 0 0 0 0 0 0 0 0 3 55 91 6 28 76 298 0 0 0 0 0 0 0 0 0 0 0 0 0 0 35 34 1 9 60 2 54 5 3 1 9 117 2 49 0 0 0 0 0 0 0 29 1 12 65 2 45 6 3 1 12 57 26 11 24 0 0 0 0 0 0 0 4 32 31 1 65 2 51 6 3 1 8 58 2 41 0 0 0 0 0 0 0 7 33 1 12 19 2 50 6 3 1 12 57 2 24 0 0 0 0 0 0 0 3 158 91 121 97 134 154 0 0 0 0 0 0 0 0 0 0 0 0 0 0 4 32 31 1 9 63 2 48 6 3 1 12 60 2 49 0 0 0 0 0 0 10 85 1 39 16 13 14 5 7 80 27 1 13 14 0 0 0 0 0 0 0 20 109 10 23 14 122 146 218 0 0 0 0 0 0 0 0 0 0 0 0 0 4 32 31 1 9 21 15 25 22 51 6 3 1 12 57 2 56 0 0 0 0 3 94 4 28 28 76 6 4 75 0 0 0 0 0 0 0 0 0 0 0 0 64 16 17 1 7 86 0 0 0 0 0 0 0 0 0 0 0 0 0 0 0 10 82 1 20 16 17 13 5 10 85 1 40 17 13 0 0 0 0 0 0 0 7 62 1 9 10 81 15 42 5 3 157 26 11 24 0 0 0 0 0 0 0 106 130 4 74 4 72 6 4 73 0 0 0 0 0 0 0 0 0 0 0 0 29 1 8 19 2 51 5 9 108 177 2 50 0 0 0 0 0 0 0 0 0 29 1 8 21 15 25 22 51 5 3 1 19 26 11 24 0 0 0 0 0 0 4 32 31 1 18 15 25 22 47 6 3 1 57 2 51 0 0 0 0 0 0 135 4 74 4 71 6 4 72 0 0 0 0 0 0 0 0 0 0 0 0 0 35 34 1 8 66 2 52 5 3 1 57 2 45 0 0 0 0 0 0 0 0 20 16 10 23 14 1 10 85 5 64 23 14 1 84 0 0 0 0 0 0 0 7 33 1 8 21 37 11 24 5 3 1 9 21 2 50 0 0 0 0 0 0 33 1 59 2 51 6 3 1 9 21 2 53 0 0 0 0 0 0 0 0 0 29 1 10 81 69 2 41 6 3 1 8 19 2 56 0 0 0 0 0 0 0 35 34 1 18 26 98 5 3 1 9 18 2 48 0 0 0 0 0 0 0 0 33 1 63 2 48 5 3 1 112 15 25 79 56 0 0 0 0 0 0 0 0 10 85 1 61 16 10 23 119 5 10 38 1 10 23 14 0 0 0 0 0 0 99 127 38 28 76 6 4 28 0 0 0 0 0 0 0 0 0 0 0 0 0 29 1 67 37 11 46 5 3 1 8 21 26 11 24 0 0 0 0 0 0 0 29 1 8 63 37 11 24 5 3 1 12 60 15 42 0 0 0 0 0 0 0 7 36 1 58 69 37 11 44 5 3 1 8 63 26 11 24 0 0 0 0 0 152 96 10 23 14 1 84 5 39 23 14 1 7 83 0 0 0 0 0 0 0 27 55 4 73 4 72 6 4 74 0 0 0 0 0 0 0 0 0 0 0 0 29 1 9 59 26 98 5 3 1 9 19 2 48 0 0 0 0 0 0 0 0 40 16 17 1 7 86 5 20 93 1 7 88 0 0 0 0 0 0 0 0 0 29 1 9 65 2 49 6 3 1 8 137 2 48 0 0 0 0 0 0 0 0 64 16 17 1 13 7 80 5 20 13 17 1 7 89 0 0 0 0 0 0 0 4 32 31 1 19 37 11 24 5 3 1 12 57 2 45 0 0 0 0 0 0 3 160 171 1 198 22 164 189 250 11 185 0 0 0 0 0 0 0 0 0 0 11 30 1 10 81 69 37 11 46 6 3 1 63 2 43 0 0 0 0 0 0 7 33 1 9 68 2 54 5 3 1 19 2 46 0 0 0 0 0 0 0 0 235 294 116 26 29 0 0 0 0 0 0 0 0 0 0 0 0 0 0 0 0 7 33 1 12 68 15 25 22 51 5 3 95 2 48 0 0 0 0 0 0 0 27 160 146 303 197 22 164 189 15 186 0 0 0 0 0 0 0 0 0 0 0 99 124 4 77 4 74 6 4 78 0 0 0 0 0 0 0 0 0 0 0 0 29 1 8 92 2 54 5 3 1 8 65 26 11 24 0 0 0 0 0 0 0 62 1 65 2 51 6 3 1 58 69 2 50 0 0 0 0 0 0 0 0 0 11 30 1 9 104 26 98 6 3 1 9 66 2 51 0 0 0 0 0 0 0 101 1 9 59 37 11 46 6 3 157 2 52 0 0 0 0 0 0 0 0 0 7 36 1 10 81 69 37 11 46 5 3 1 58 2 49 0 0 0 0 0 0 61 13 14 16 1 7 86 5 39 13 14 1 7 89 0 0 0 0 0 0 0 11 30 1 9 60 2 48 6 3 95 9 2 44 0 0 0 0 0 0 0 0 11 30 1 8 137 15 25 79 56 6 3 1 12 21 2 49 0 0 0 0 0 36 1 9 58 37 11 44 6 3 1 63 26 11 24 0 0 0 0 0 0 0 10 38 1 64 16 13 14 5 7 90 27 1 13 14 0 0 0 0 0 0 0 33 1 67 15 42 5 3 1 12 19 2 54 0 0 0 0 0 0 0 0 0 10 38 1 20 16 10 23 14 5 7 90 27 1 10 23 14 0 0 0 0 0 27 55 10 38 4 78 6 4 28 0 0 0 0 0 0 0 0 0 0 0 0 27 145 120 151 97 150 0 0 0 0 0 0 0 0 0 0 0 0 0 0 0 3 55 4 70 4 77 6 10 38 0 0 0 0 0 0 0 0 0 0 0 0 11 30 1 8 18 2 45 6 3 1 9 63 2 50 0 0 0 0 0 0 0 129 96 10 23 14 1 10 38 5 40 23 14 1 7 90 0 0 0 0 0 0 61 16 17 1 13 10 85 5 64 13 93 1 7 90 0 0 0 0 0 0 0 36 1 21 15 25 22 45 6 3 1 9 57 2 49 0 0 0 0 0 0 0 29 1 8 92 2 50 5 3 1 12 68 2 48 0 0 0 0 0 0 0 0 20 16 17 13 1 7 90 5 39 17 13 1 7 80 0 0 0 0 0 0 0 27 55 4 70 4 78 6 4 28 0 0 0 0 0 0 0 0 0 0 0 0 35 34 1 9 117 2 52 5 3 1 59 15 42 0 0 0 0 0 0 0 0 36 1 21 15 25 22 45 5 3 1 9 21 2 43 0 0 0 0 0 0 0 7 33 1 9 58 37 11 44 5 3 1 12 18 2 54 0 0 0 0 0 0 40 16 17 1 10 85 5 64 93 1 7 80 0 0 0 0 0 0 0 0 0 4 32 31 1 9 21 2 52 5 3 1 65 2 44 0 0 0 0 0 0 0 152 96 10 23 14 1 10 85 5 39 23 14 1 7 86 0 0 0 0 0 0 27 94 4 70 6 4 78 0 0 0 0 0 0 0 0 0 0 0 0 0 0 35 34 1 12 67 2 48 5 3 1 18 15 42 0 0 0 0 0 0 0 0 7 86 1 20 13 14 108 96 5 7 90 1 64 13 14 0 0 0 0 0 0 11 30 1 8 57 15 25 22 45 5 3 1 9 125 2 52 0 0 0 0 0 4 257 131 170 141 4 13 175 0 0 0 0 0 0 0 0 0 0 0 0 0 7 90 1 39 13 14 108 96 5 7 83 1 20 13 14 0 0 0 0 0 0 10 85 1 7 13 14 108 96 5 7 90 1 40 13 14 0 0 0 0 0 0 4 32 31 1 58 8 2 53 6 3 1 12 67 2 52 0 0 0 0 0 0 7 33 1 12 18 15 42 6 3 1 12 92 26 11 24 0 0 0 0 0 0 116 160 146 7 194 161 10 187 6 10 186 1 196 0 0 0 0 0 0 0 0 99 127 4 71 28 76 6 4 77 0 0 0 0 0 0 0 0 0 0 0 0 115 217 122 40 109 10 23 14 0 0 0 0 0 0 0 0 0 0 0 0 0 27 94 10 110 133 169 0 0 0 0 0 0 0 0 0 0 0 0 0 0 0 36 1 9 10 81 37 11 44 6 3 1 69 21 2 51 0 0 0 0 0 0 20 16 17 1 7 89 0 0 0 0 0 0 0 0 0 0 0 0 0 0 0 10 82 1 39 16 17 13 5 7 89 1 61 13 17 0 0 0 0 0 0 0 29 1 8 18 2 49 5 3 1 8 65 2 53 0 0 0 0 0 0 0 0 29 1 12 65 2 52 5 3 1 12 19 2 47 0 0 0 0 0 0 0 0 20 16 17 1 7 87 5 40 93 1 7 89 0 0 0 0 0 0 0 0 0 61 16 17 1 7 90 5 20 17 1 7 80 0 0 0 0 0 0 0 0 0 36 1 8 67 2 49 5 3 1 12 60 15 42 0 0 0 0 0 0 0 0 7 33 1 60 2 53 5 3 1 8 19 2 43 0 0 0 0 0 0 0 0 29 1 9 10 81 2 53 6 3 1 8 18 2 48 0 0 0 0 0 0 0 35 34 1 9 63 2 52 6 3 1 9 68 2 53 0 0 0 0 0 0 0 27 55 120 147 97 162 0 0 0 0 0 0 0 0 0 0 0 0 0 0 0 3 100 4 72 4 74 6 4 28 76 0 0 0 0 0 0 0 0 0 0 0 4 32 31 1 249 26 98 5 3 1 8 66 2 47 0 0 0 0 0 0 0 11 30 1 249 15 25 22 48 5 3 1 12 63 26 11 24 0 0 0 0 0 7 80 1 20 16 17 13 5 7 89 1 39 17 13 0 0 0 0 0 0 0 36 1 9 22 225 26 98 6 3 1 8 21 15 42 0 0 0 0 0 0 0 29 1 63 37 11 46 6 3 1 21 26 11 24 0 0 0 0 0 0 0 0 20 16 17 1 13 10 82 5 20 13 17 1 7 83 0 0 0 0 0 0 0 11 30 1 69 65 15 25 22 47 6 3 1 9 60 2 53 0 0 0 0 0 29 1 8 57 2 53 5 3 1 9 26 63 2 54 0 0 0 0 0 0 0 27 94 4 28 28 76 6 4 77 0 0 0 0 0 0 0 0 0 0 0 0 3 55 4 28 4 71 6 4 75 0 0 0 0 0 0 0 0 0 0 0 0 11 30 1 9 67 37 11 46 5 3 1 8 57 2 54 0 0 0 0 0 0 4 32 31 1 12 59 26 98 5 3 1 8 67 2 54 0 0 0 0 0 0 62 1 8 63 2 50 6 3 1 9 18 15 42 0 0 0 0 0 0 0 0 27 55 91 28 76 4 75 6 4 78 0 0 0 0 0 0 0 0 0 0 0 35 34 1 57 2 54 6 3 1 9 22 102 2 53 0 0 0 0 0 0 0 4 32 31 105 131 9 190 2 49 6 3 1 9 19 2 44 0 0 0 0 0 99 124 4 28 4 78 6 4 70 0 0 0 0 0 0 0 0 0 0 0 0 3 55 91 120 168 97 150 0 0 0 0 0 0 0 0 0 0 0 0 0 0 62 1 8 68 2 41 5 3 1 8 65 2 51 0 0 0 0 0 0 0 0 27 94 4 28 38 6 4 70 0 0 0 0 0 0 0 0 0 0 0 0 0 27 94 4 78 4 72 6 10 38 0 0 0 0 0 0 0 0 0 0 0 0 29 1 9 21 15 25 22 51 6 3 1 57 9 2 44 0 0 0 0 0 0 35 34 1 104 2 48 6 3 1 65 2 52 0 0 0 0 0 0 0 0 0 7 87 1 40 16 10 23 14 5 10 85 27 1 10 23 14 0 0 0 0 0 39 13 14 108 96 1 7 87 5 61 13 14 1 7 90 0 0 0 0 0 0 27 55 7 168 97 155 0 0 0 0 0 0 0 0 0 0 0 0 0 0 0 20 16 1 13 14 10 82 5 27 1 13 14 7 86 0 0 0 0 0 0 0 101 1 9 60 2 53 5 3 1 9 19 15 42 0 0 0 0 0 0 0 0 35 34 1 12 57 2 41 5 3 1 8 58 2 53 0 0 0 0 0 0 0 4 32 31 1 12 18 26 98 6 3 1 8 10 81 2 48 0 0 0 0 0 7 89 1 64 16 17 5 10 38 1 40 93 0 0 0 0 0 0 0 0 0 106 130 10 38 6 4 74 0 0 0 0 0 0 0 0 0 0 0 0 0 0 27 180 173 32 31 2 43 114 0 0 0 0 0 0 0 0 0 0 0 0 0 205 131 99 91 123 2 33 0 0 0 0 0 0 0 0 0 0 0 0 0 0 35 34 1 8 65 2 53 5 3 1 67 15 42 0 0 0 0 0 0 0 0 7 36 1 8 19 37 11 44 5 3 1 9 57 2 51 0 0 0 0 0 0 101 1 60 15 25 22 45 5 3 1 8 65 15 42 0 0 0 0 0 0 0 29 1 8 65 37 11 44 6 3 1 9 21 26 11 24 0 0 0 0 0 0 33 1 66 37 11 44 6 3 1 9 63 2 48 0 0 0 0 0 0 0 0 29 1 8 18 2 45 6 3 1 67 2 52 0 0 0 0 0 0 0 0 0 20 16 17 13 1 7 80 5 20 13 17 1 10 82 0 0 0 0 0 0 0 255 122 40 254 26 29 2 51 142 0 0 0 0 0 0 0 0 0 0 0 0 101 1 8 67 15 25 22 47 5 3 1 12 18 2 45 0 0 0 0 0 0 29 1 12 19 15 111 285 42 6 3 1 8 21 2 48 0 0 0 0 0 0 11 30 1 9 66 37 11 44 6 3 1 12 57 2 51 0 0 0 0 0 0 7 33 1 8 63 37 11 24 6 3 1 8 10 81 2 52 0 0 0 0 0 27 143 120 148 97 150 0 0 0 0 0 0 0 0 0 0 0 0 0 0 0 36 1 9 66 15 25 22 51 5 3 1 12 92 26 11 24 0 0 0 0 0 20 16 17 13 1 7 80 5 39 17 13 1 7 87 0 0 0 0 0 0 0 27 94 4 71 4 73 6 4 77 0 0 0 0 0 0 0 0 0 0 0 0 116 100 91 4 77 10 38 6 4 70 0 0 0 0 0 0 0 0 0 0 0 7 33 1 8 92 26 98 6 3 1 8 10 81 2 50 0 0 0 0 0 0 3 94 4 71 4 78 6 4 70 0 0 0 0 0 0 0 0 0 0 0 0 35 34 1 12 18 2 24 5 3 1 58 69 2 46 0 0 0 0 0 0 0 35 34 1 19 15 25 22 47 6 3 1 9 58 2 54 0 0 0 0 0 0 4 32 31 1 58 8 2 50 5 3 1 9 60 26 11 24 0 0 0 0 0 3 143 115 184 110 182 0 0 0 0 0 0 0 0 0 0 0 0 0 0 0 106 130 4 70 4 77 6 4 28 0 0 0 0 0 0 0 0 0 0 0 0 11 30 1 9 117 2 53 6 3 1 8 19 2 43 0 0 0 0 0 0 0 62 1 63 37 11 46 5 3 1 9 18 2 49 0 0 0 0 0 0 0 0 3 94 4 28 4 74 6 4 72 0 0 0 0 0 0 0 0 0 0 0 0 106 128 91 4 72 4 73 6 10 38 0 0 0 0 0 0 0 0 0 0 0 4 32 31 1 12 63 37 11 24 5 3 1 12 18 2 51 0 0 0 0 0 84 1 64 16 17 5 7 83 1 39 17 0 0 0 0 0 0 0 0 0 0 7 80 1 20 16 17 13 5 7 90 1 64 13 140 0 0 0 0 0 0 0 11 30 1 9 7 102 2 50 5 3 1 8 19 2 46 0 0 0 0 0 0 7 86 1 64 16 17 13 5 7 89 1 40 17 13 0 0 0 0 0 0 0 27 55 4 71 4 73 6 4 74 0 0 0 0 0 0 0 0 0 0 0 0 3 55 91 10 200 110 176 0 0 0 0 0 0 0 0 0 0 0 0 0 0 4 32 31 1 12 66 2 49 6 3 1 9 68 2 45 0 0 0 0 0 0 36 1 9 60 2 45 6 3 1 18 2 46 0 0 0 0 0 0 0 0 0 10 82 1 40 16 10 23 14 5 7 87 1 64 23 14 0 0 0 0 0 0 10 82 1 39 13 14 108 96 5 10 38 1 20 13 14 0 0 0 0 0 0 29 1 12 18 15 25 79 56 6 3 1 12 18 2 45 0 0 0 0 0 0 106 130 10 38 4 73 6 4 74 0 0 0 0 0 0 0 0 0 0 0 0 11 30 1 58 2 24 6 3 1 9 66 2 56 0 0 0 0 0 0 0 0 99 124 4 73 10 38 6 4 70 0 0 0 0 0 0 0 0 0 0 0 0 7 83 1 7 13 14 108 96 5 7 80 1 39 13 14 0 0 0 0 0 0 35 34 1 9 63 15 111 22 11 24 5 3 1 8 66 2 46 0 0 0 0 29 1 8 18 2 50 6 3 1 60 2 54 0 0 0 0 0 0 0 0 0 11 30 1 12 57 2 45 6 3 1 8 67 2 48 0 0 0 0 0 0 0 20 16 10 23 14 1 10 85 5 64 23 14 1 84 0 0 0 0 0 0 0 35 34 1 8 18 2 46 5 3 1 12 19 2 45 0 0 0 0 0 0 0 7 80 1 39 13 14 108 96 5 7 88 1 64 13 14 0 0 0 0 0 0 7 33 1 9 104 26 98 6 3 1 69 21 2 50 0 0 0 0 0 0 0 11 30 1 8 18 2 51 6 3 1 8 60 2 56 0 0 0 0 0 0 0 3 143 121 147 97 153 0 0 0 0 0 0 0 0 0 0 0 0 0 0 0 3 100 4 74 4 72 6 10 38 0 0 0 0 0 0 0 0 0 0 0 0 11 30 1 12 19 2 53 5 3 1 9 125 2 41 0 0 0 0 0 0 0 7 86 1 61 16 17 5 7 83 1 39 17 0 0 0 0 0 0 0 0 0 61 16 17 1 7 90 5 39 17 1 84 0 0 0 0 0 0 0 0 0 0 36 1 8 18 2 52 5 3 1 9 63 2 51 0 0 0 0 0 0 0 0 7 33 1 8 137 2 52 5 3 1 19 15 42 0 0 0 0 0 0 0 0 3 55 4 74 4 77 6 4 70 0 0 0 0 0 0 0 0 0 0 0 0 4 32 31 1 8 19 37 11 24 5 3 1 8 18 26 11 24 0 0 0 0 3 145 120 97 134 174 0 0 0 0 0 0 0 0 0 0 0 0 0 0 0 7 36 1 58 12 15 25 22 47 5 3 1 12 59 2 56 0 0 0 0 0 35 34 1 8 19 15 25 79 56 5 3 1 18 2 54 0 0 0 0 0 0 27 94 4 28 4 74 6 4 73 0 0 0 0 0 0 0 0 0 0 0 0 7 89 1 20 16 17 5 10 85 1 61 17 0 0 0 0 0 0 0 0 0 39 16 10 23 14 1 10 82 5 40 23 14 1 7 90 0 0 0 0 0 0 38 131 191 96 4 23 206 0 0 0 0 0 0 0 0 0 0 0 0 0 0 27 247 121 147 97 153 0 0 0 0 0 0 0 0 0 0 0 0 0 0 0 4 32 31 1 8 104 15 111 22 11 24 6 3 95 9 2 46 0 0 0 0 27 94 4 75 4 74 6 4 78 0 0 0 0 0 0 0 0 0 0 0 0 62 1 21 2 49 6 3 1 8 67 2 46 0 0 0 0 0 0 0 0 0 36 1 8 66 2 48 5 9 22 102 2 56 0 0 0 0 0 0 0 0 0 35 34 1 12 92 2 50 6 3 95 69 15 42 0 0 0 0 0 0 0 0 39 16 17 1 7 86 5 20 93 1 84 0 0 0 0 0 0 0 0 0 0 11 30 1 9 104 37 11 44 6 3 1 12 60 2 50 0 0 0 0 0 0 27 55 4 74 4 73 6 4 72 0 0 0 0 0 0 0 0 0 0 0 0 4 32 31 1 60 15 25 22 47 6 3 1 8 65 2 45 0 0 0 0 0 36 1 9 22 102 2 45 6 3 1 9 68 26 11 24 0 0 0 0 0 0 27 55 4 77 6 4 74 0 0 0 0 0 0 0 0 0 0 0 0 0 0 3 55 4 78 4 74 6 4 71 0 0 0 0 0 0 0 0 0 0 0 0 3 55 4 77 4 75 6 4 28 76 0 0 0 0 0 0 0 0 0 0 0 7 36 1 8 10 81 37 11 24 5 3 1 8 68 15 42 0 0 0 0 0 11 30 1 67 2 52 5 3 1 8 19 2 49 0 0 0 0 0 0 0 0 35 34 1 9 58 2 49 6 3 1 65 2 52 0 0 0 0 0 0 0 0 129 96 10 23 14 1 10 82 5 39 23 14 1 7 83 0 0 0 0 0 0 4 32 31 1 58 15 25 22 48 5 3 1 12 65 2 46 0 0 0 0 0 20 16 17 13 1 7 90 5 61 13 17 1 84 0 0 0 0 0 0 0 0 106 128 91 4 78 4 70 6 10 38 0 0 0 0 0 0 0 0 0 0 0 84 1 40 16 13 14 5 7 86 27 1 13 14 0 0 0 0 0 0 0 0 3 100 4 73 4 159 6 4 75 0 0 0 0 0 0 0 0 0 0 0 0 3 1 198 22 164 2 186 187 0 0 0 0 0 0 0 0 0 0 0 0 0 4 32 31 1 9 22 102 15 25 22 47 5 3 1 8 66 15 42 0 0 0\n\t [[node sparse_categorical_crossentropy/SparseSoftmaxCrossEntropyWithLogits/SparseSoftmaxCrossEntropyWithLogits (defined at <ipython-input-11-7412ccff5269>:35) ]] [Op:__inference_test_function_4479]\n\nFunction call stack:\ntest_function\n",
     "output_type": "error",
     "traceback": [
      "\u001b[0;31m---------------------------------------------------------------------------\u001b[0m",
      "\u001b[0;31mInvalidArgumentError\u001b[0m                      Traceback (most recent call last)",
      "\u001b[0;32m<ipython-input-11-7412ccff5269>\u001b[0m in \u001b[0;36m<module>\u001b[0;34m\u001b[0m\n\u001b[1;32m     33\u001b[0m simple_rnn_model.fit(\n\u001b[1;32m     34\u001b[0m     \u001b[0mtmp_x\u001b[0m\u001b[0;34m,\u001b[0m \u001b[0mpreproc_french_sentences\u001b[0m\u001b[0;34m,\u001b[0m \u001b[0mbatch_size\u001b[0m\u001b[0;34m=\u001b[0m\u001b[0;36m1024\u001b[0m\u001b[0;34m,\u001b[0m\u001b[0;34m\u001b[0m\u001b[0;34m\u001b[0m\u001b[0m\n\u001b[0;32m---> 35\u001b[0;31m     epochs=30, validation_split=0.2)\n\u001b[0m\u001b[1;32m     36\u001b[0m \u001b[0;34m\u001b[0m\u001b[0m\n\u001b[1;32m     37\u001b[0m \u001b[0;31m# Print prediction(s)\u001b[0m\u001b[0;34m\u001b[0m\u001b[0;34m\u001b[0m\u001b[0;34m\u001b[0m\u001b[0m\n",
      "\u001b[0;32m~/projects/nlp_machine_translation/basic_machine_translation/venv/lib/python3.7/site-packages/tensorflow/python/keras/engine/training.py\u001b[0m in \u001b[0;36m_method_wrapper\u001b[0;34m(self, *args, **kwargs)\u001b[0m\n\u001b[1;32m     64\u001b[0m   \u001b[0;32mdef\u001b[0m \u001b[0m_method_wrapper\u001b[0m\u001b[0;34m(\u001b[0m\u001b[0mself\u001b[0m\u001b[0;34m,\u001b[0m \u001b[0;34m*\u001b[0m\u001b[0margs\u001b[0m\u001b[0;34m,\u001b[0m \u001b[0;34m**\u001b[0m\u001b[0mkwargs\u001b[0m\u001b[0;34m)\u001b[0m\u001b[0;34m:\u001b[0m\u001b[0;34m\u001b[0m\u001b[0;34m\u001b[0m\u001b[0m\n\u001b[1;32m     65\u001b[0m     \u001b[0;32mif\u001b[0m \u001b[0;32mnot\u001b[0m \u001b[0mself\u001b[0m\u001b[0;34m.\u001b[0m\u001b[0m_in_multi_worker_mode\u001b[0m\u001b[0;34m(\u001b[0m\u001b[0;34m)\u001b[0m\u001b[0;34m:\u001b[0m  \u001b[0;31m# pylint: disable=protected-access\u001b[0m\u001b[0;34m\u001b[0m\u001b[0;34m\u001b[0m\u001b[0m\n\u001b[0;32m---> 66\u001b[0;31m       \u001b[0;32mreturn\u001b[0m \u001b[0mmethod\u001b[0m\u001b[0;34m(\u001b[0m\u001b[0mself\u001b[0m\u001b[0;34m,\u001b[0m \u001b[0;34m*\u001b[0m\u001b[0margs\u001b[0m\u001b[0;34m,\u001b[0m \u001b[0;34m**\u001b[0m\u001b[0mkwargs\u001b[0m\u001b[0;34m)\u001b[0m\u001b[0;34m\u001b[0m\u001b[0;34m\u001b[0m\u001b[0m\n\u001b[0m\u001b[1;32m     67\u001b[0m \u001b[0;34m\u001b[0m\u001b[0m\n\u001b[1;32m     68\u001b[0m     \u001b[0;31m# Running inside `run_distribute_coordinator` already.\u001b[0m\u001b[0;34m\u001b[0m\u001b[0;34m\u001b[0m\u001b[0;34m\u001b[0m\u001b[0m\n",
      "\u001b[0;32m~/projects/nlp_machine_translation/basic_machine_translation/venv/lib/python3.7/site-packages/tensorflow/python/keras/engine/training.py\u001b[0m in \u001b[0;36mfit\u001b[0;34m(self, x, y, batch_size, epochs, verbose, callbacks, validation_split, validation_data, shuffle, class_weight, sample_weight, initial_epoch, steps_per_epoch, validation_steps, validation_batch_size, validation_freq, max_queue_size, workers, use_multiprocessing)\u001b[0m\n\u001b[1;32m    870\u001b[0m               \u001b[0mworkers\u001b[0m\u001b[0;34m=\u001b[0m\u001b[0mworkers\u001b[0m\u001b[0;34m,\u001b[0m\u001b[0;34m\u001b[0m\u001b[0;34m\u001b[0m\u001b[0m\n\u001b[1;32m    871\u001b[0m               \u001b[0muse_multiprocessing\u001b[0m\u001b[0;34m=\u001b[0m\u001b[0muse_multiprocessing\u001b[0m\u001b[0;34m,\u001b[0m\u001b[0;34m\u001b[0m\u001b[0;34m\u001b[0m\u001b[0m\n\u001b[0;32m--> 872\u001b[0;31m               return_dict=True)\n\u001b[0m\u001b[1;32m    873\u001b[0m           \u001b[0mval_logs\u001b[0m \u001b[0;34m=\u001b[0m \u001b[0;34m{\u001b[0m\u001b[0;34m'val_'\u001b[0m \u001b[0;34m+\u001b[0m \u001b[0mname\u001b[0m\u001b[0;34m:\u001b[0m \u001b[0mval\u001b[0m \u001b[0;32mfor\u001b[0m \u001b[0mname\u001b[0m\u001b[0;34m,\u001b[0m \u001b[0mval\u001b[0m \u001b[0;32min\u001b[0m \u001b[0mval_logs\u001b[0m\u001b[0;34m.\u001b[0m\u001b[0mitems\u001b[0m\u001b[0;34m(\u001b[0m\u001b[0;34m)\u001b[0m\u001b[0;34m}\u001b[0m\u001b[0;34m\u001b[0m\u001b[0;34m\u001b[0m\u001b[0m\n\u001b[1;32m    874\u001b[0m           \u001b[0mepoch_logs\u001b[0m\u001b[0;34m.\u001b[0m\u001b[0mupdate\u001b[0m\u001b[0;34m(\u001b[0m\u001b[0mval_logs\u001b[0m\u001b[0;34m)\u001b[0m\u001b[0;34m\u001b[0m\u001b[0;34m\u001b[0m\u001b[0m\n",
      "\u001b[0;32m~/projects/nlp_machine_translation/basic_machine_translation/venv/lib/python3.7/site-packages/tensorflow/python/keras/engine/training.py\u001b[0m in \u001b[0;36m_method_wrapper\u001b[0;34m(self, *args, **kwargs)\u001b[0m\n\u001b[1;32m     64\u001b[0m   \u001b[0;32mdef\u001b[0m \u001b[0m_method_wrapper\u001b[0m\u001b[0;34m(\u001b[0m\u001b[0mself\u001b[0m\u001b[0;34m,\u001b[0m \u001b[0;34m*\u001b[0m\u001b[0margs\u001b[0m\u001b[0;34m,\u001b[0m \u001b[0;34m**\u001b[0m\u001b[0mkwargs\u001b[0m\u001b[0;34m)\u001b[0m\u001b[0;34m:\u001b[0m\u001b[0;34m\u001b[0m\u001b[0;34m\u001b[0m\u001b[0m\n\u001b[1;32m     65\u001b[0m     \u001b[0;32mif\u001b[0m \u001b[0;32mnot\u001b[0m \u001b[0mself\u001b[0m\u001b[0;34m.\u001b[0m\u001b[0m_in_multi_worker_mode\u001b[0m\u001b[0;34m(\u001b[0m\u001b[0;34m)\u001b[0m\u001b[0;34m:\u001b[0m  \u001b[0;31m# pylint: disable=protected-access\u001b[0m\u001b[0;34m\u001b[0m\u001b[0;34m\u001b[0m\u001b[0m\n\u001b[0;32m---> 66\u001b[0;31m       \u001b[0;32mreturn\u001b[0m \u001b[0mmethod\u001b[0m\u001b[0;34m(\u001b[0m\u001b[0mself\u001b[0m\u001b[0;34m,\u001b[0m \u001b[0;34m*\u001b[0m\u001b[0margs\u001b[0m\u001b[0;34m,\u001b[0m \u001b[0;34m**\u001b[0m\u001b[0mkwargs\u001b[0m\u001b[0;34m)\u001b[0m\u001b[0;34m\u001b[0m\u001b[0;34m\u001b[0m\u001b[0m\n\u001b[0m\u001b[1;32m     67\u001b[0m \u001b[0;34m\u001b[0m\u001b[0m\n\u001b[1;32m     68\u001b[0m     \u001b[0;31m# Running inside `run_distribute_coordinator` already.\u001b[0m\u001b[0;34m\u001b[0m\u001b[0;34m\u001b[0m\u001b[0;34m\u001b[0m\u001b[0m\n",
      "\u001b[0;32m~/projects/nlp_machine_translation/basic_machine_translation/venv/lib/python3.7/site-packages/tensorflow/python/keras/engine/training.py\u001b[0m in \u001b[0;36mevaluate\u001b[0;34m(self, x, y, batch_size, verbose, sample_weight, steps, callbacks, max_queue_size, workers, use_multiprocessing, return_dict)\u001b[0m\n\u001b[1;32m   1079\u001b[0m                 step_num=step):\n\u001b[1;32m   1080\u001b[0m               \u001b[0mcallbacks\u001b[0m\u001b[0;34m.\u001b[0m\u001b[0mon_test_batch_begin\u001b[0m\u001b[0;34m(\u001b[0m\u001b[0mstep\u001b[0m\u001b[0;34m)\u001b[0m\u001b[0;34m\u001b[0m\u001b[0;34m\u001b[0m\u001b[0m\n\u001b[0;32m-> 1081\u001b[0;31m               \u001b[0mtmp_logs\u001b[0m \u001b[0;34m=\u001b[0m \u001b[0mtest_function\u001b[0m\u001b[0;34m(\u001b[0m\u001b[0miterator\u001b[0m\u001b[0;34m)\u001b[0m\u001b[0;34m\u001b[0m\u001b[0;34m\u001b[0m\u001b[0m\n\u001b[0m\u001b[1;32m   1082\u001b[0m               \u001b[0;31m# Catch OutOfRangeError for Datasets of unknown size.\u001b[0m\u001b[0;34m\u001b[0m\u001b[0;34m\u001b[0m\u001b[0;34m\u001b[0m\u001b[0m\n\u001b[1;32m   1083\u001b[0m               \u001b[0;31m# This blocks until the batch has finished executing.\u001b[0m\u001b[0;34m\u001b[0m\u001b[0;34m\u001b[0m\u001b[0;34m\u001b[0m\u001b[0m\n",
      "\u001b[0;32m~/projects/nlp_machine_translation/basic_machine_translation/venv/lib/python3.7/site-packages/tensorflow/python/eager/def_function.py\u001b[0m in \u001b[0;36m__call__\u001b[0;34m(self, *args, **kwds)\u001b[0m\n\u001b[1;32m    578\u001b[0m         \u001b[0mxla_context\u001b[0m\u001b[0;34m.\u001b[0m\u001b[0mExit\u001b[0m\u001b[0;34m(\u001b[0m\u001b[0;34m)\u001b[0m\u001b[0;34m\u001b[0m\u001b[0;34m\u001b[0m\u001b[0m\n\u001b[1;32m    579\u001b[0m     \u001b[0;32melse\u001b[0m\u001b[0;34m:\u001b[0m\u001b[0;34m\u001b[0m\u001b[0;34m\u001b[0m\u001b[0m\n\u001b[0;32m--> 580\u001b[0;31m       \u001b[0mresult\u001b[0m \u001b[0;34m=\u001b[0m \u001b[0mself\u001b[0m\u001b[0;34m.\u001b[0m\u001b[0m_call\u001b[0m\u001b[0;34m(\u001b[0m\u001b[0;34m*\u001b[0m\u001b[0margs\u001b[0m\u001b[0;34m,\u001b[0m \u001b[0;34m**\u001b[0m\u001b[0mkwds\u001b[0m\u001b[0;34m)\u001b[0m\u001b[0;34m\u001b[0m\u001b[0;34m\u001b[0m\u001b[0m\n\u001b[0m\u001b[1;32m    581\u001b[0m \u001b[0;34m\u001b[0m\u001b[0m\n\u001b[1;32m    582\u001b[0m     \u001b[0;32mif\u001b[0m \u001b[0mtracing_count\u001b[0m \u001b[0;34m==\u001b[0m \u001b[0mself\u001b[0m\u001b[0;34m.\u001b[0m\u001b[0m_get_tracing_count\u001b[0m\u001b[0;34m(\u001b[0m\u001b[0;34m)\u001b[0m\u001b[0;34m:\u001b[0m\u001b[0;34m\u001b[0m\u001b[0;34m\u001b[0m\u001b[0m\n",
      "\u001b[0;32m~/projects/nlp_machine_translation/basic_machine_translation/venv/lib/python3.7/site-packages/tensorflow/python/eager/def_function.py\u001b[0m in \u001b[0;36m_call\u001b[0;34m(self, *args, **kwds)\u001b[0m\n\u001b[1;32m    616\u001b[0m       \u001b[0;31m# In this case we have not created variables on the first call. So we can\u001b[0m\u001b[0;34m\u001b[0m\u001b[0;34m\u001b[0m\u001b[0;34m\u001b[0m\u001b[0m\n\u001b[1;32m    617\u001b[0m       \u001b[0;31m# run the first trace but we should fail if variables are created.\u001b[0m\u001b[0;34m\u001b[0m\u001b[0;34m\u001b[0m\u001b[0;34m\u001b[0m\u001b[0m\n\u001b[0;32m--> 618\u001b[0;31m       \u001b[0mresults\u001b[0m \u001b[0;34m=\u001b[0m \u001b[0mself\u001b[0m\u001b[0;34m.\u001b[0m\u001b[0m_stateful_fn\u001b[0m\u001b[0;34m(\u001b[0m\u001b[0;34m*\u001b[0m\u001b[0margs\u001b[0m\u001b[0;34m,\u001b[0m \u001b[0;34m**\u001b[0m\u001b[0mkwds\u001b[0m\u001b[0;34m)\u001b[0m\u001b[0;34m\u001b[0m\u001b[0;34m\u001b[0m\u001b[0m\n\u001b[0m\u001b[1;32m    619\u001b[0m       \u001b[0;32mif\u001b[0m \u001b[0mself\u001b[0m\u001b[0;34m.\u001b[0m\u001b[0m_created_variables\u001b[0m\u001b[0;34m:\u001b[0m\u001b[0;34m\u001b[0m\u001b[0;34m\u001b[0m\u001b[0m\n\u001b[1;32m    620\u001b[0m         raise ValueError(\"Creating variables on a non-first call to a function\"\n",
      "\u001b[0;32m~/projects/nlp_machine_translation/basic_machine_translation/venv/lib/python3.7/site-packages/tensorflow/python/eager/function.py\u001b[0m in \u001b[0;36m__call__\u001b[0;34m(self, *args, **kwargs)\u001b[0m\n\u001b[1;32m   2418\u001b[0m     \u001b[0;32mwith\u001b[0m \u001b[0mself\u001b[0m\u001b[0;34m.\u001b[0m\u001b[0m_lock\u001b[0m\u001b[0;34m:\u001b[0m\u001b[0;34m\u001b[0m\u001b[0;34m\u001b[0m\u001b[0m\n\u001b[1;32m   2419\u001b[0m       \u001b[0mgraph_function\u001b[0m\u001b[0;34m,\u001b[0m \u001b[0margs\u001b[0m\u001b[0;34m,\u001b[0m \u001b[0mkwargs\u001b[0m \u001b[0;34m=\u001b[0m \u001b[0mself\u001b[0m\u001b[0;34m.\u001b[0m\u001b[0m_maybe_define_function\u001b[0m\u001b[0;34m(\u001b[0m\u001b[0margs\u001b[0m\u001b[0;34m,\u001b[0m \u001b[0mkwargs\u001b[0m\u001b[0;34m)\u001b[0m\u001b[0;34m\u001b[0m\u001b[0;34m\u001b[0m\u001b[0m\n\u001b[0;32m-> 2420\u001b[0;31m     \u001b[0;32mreturn\u001b[0m \u001b[0mgraph_function\u001b[0m\u001b[0;34m.\u001b[0m\u001b[0m_filtered_call\u001b[0m\u001b[0;34m(\u001b[0m\u001b[0margs\u001b[0m\u001b[0;34m,\u001b[0m \u001b[0mkwargs\u001b[0m\u001b[0;34m)\u001b[0m  \u001b[0;31m# pylint: disable=protected-access\u001b[0m\u001b[0;34m\u001b[0m\u001b[0;34m\u001b[0m\u001b[0m\n\u001b[0m\u001b[1;32m   2421\u001b[0m \u001b[0;34m\u001b[0m\u001b[0m\n\u001b[1;32m   2422\u001b[0m   \u001b[0;34m@\u001b[0m\u001b[0mproperty\u001b[0m\u001b[0;34m\u001b[0m\u001b[0;34m\u001b[0m\u001b[0m\n",
      "\u001b[0;32m~/projects/nlp_machine_translation/basic_machine_translation/venv/lib/python3.7/site-packages/tensorflow/python/eager/function.py\u001b[0m in \u001b[0;36m_filtered_call\u001b[0;34m(self, args, kwargs)\u001b[0m\n\u001b[1;32m   1663\u001b[0m          if isinstance(t, (ops.Tensor,\n\u001b[1;32m   1664\u001b[0m                            resource_variable_ops.BaseResourceVariable))),\n\u001b[0;32m-> 1665\u001b[0;31m         self.captured_inputs)\n\u001b[0m\u001b[1;32m   1666\u001b[0m \u001b[0;34m\u001b[0m\u001b[0m\n\u001b[1;32m   1667\u001b[0m   \u001b[0;32mdef\u001b[0m \u001b[0m_call_flat\u001b[0m\u001b[0;34m(\u001b[0m\u001b[0mself\u001b[0m\u001b[0;34m,\u001b[0m \u001b[0margs\u001b[0m\u001b[0;34m,\u001b[0m \u001b[0mcaptured_inputs\u001b[0m\u001b[0;34m,\u001b[0m \u001b[0mcancellation_manager\u001b[0m\u001b[0;34m=\u001b[0m\u001b[0;32mNone\u001b[0m\u001b[0;34m)\u001b[0m\u001b[0;34m:\u001b[0m\u001b[0;34m\u001b[0m\u001b[0;34m\u001b[0m\u001b[0m\n",
      "\u001b[0;32m~/projects/nlp_machine_translation/basic_machine_translation/venv/lib/python3.7/site-packages/tensorflow/python/eager/function.py\u001b[0m in \u001b[0;36m_call_flat\u001b[0;34m(self, args, captured_inputs, cancellation_manager)\u001b[0m\n\u001b[1;32m   1744\u001b[0m       \u001b[0;31m# No tape is watching; skip to running the function.\u001b[0m\u001b[0;34m\u001b[0m\u001b[0;34m\u001b[0m\u001b[0;34m\u001b[0m\u001b[0m\n\u001b[1;32m   1745\u001b[0m       return self._build_call_outputs(self._inference_function.call(\n\u001b[0;32m-> 1746\u001b[0;31m           ctx, args, cancellation_manager=cancellation_manager))\n\u001b[0m\u001b[1;32m   1747\u001b[0m     forward_backward = self._select_forward_and_backward_functions(\n\u001b[1;32m   1748\u001b[0m         \u001b[0margs\u001b[0m\u001b[0;34m,\u001b[0m\u001b[0;34m\u001b[0m\u001b[0;34m\u001b[0m\u001b[0m\n",
      "\u001b[0;32m~/projects/nlp_machine_translation/basic_machine_translation/venv/lib/python3.7/site-packages/tensorflow/python/eager/function.py\u001b[0m in \u001b[0;36mcall\u001b[0;34m(self, ctx, args, cancellation_manager)\u001b[0m\n\u001b[1;32m    596\u001b[0m               \u001b[0minputs\u001b[0m\u001b[0;34m=\u001b[0m\u001b[0margs\u001b[0m\u001b[0;34m,\u001b[0m\u001b[0;34m\u001b[0m\u001b[0;34m\u001b[0m\u001b[0m\n\u001b[1;32m    597\u001b[0m               \u001b[0mattrs\u001b[0m\u001b[0;34m=\u001b[0m\u001b[0mattrs\u001b[0m\u001b[0;34m,\u001b[0m\u001b[0;34m\u001b[0m\u001b[0;34m\u001b[0m\u001b[0m\n\u001b[0;32m--> 598\u001b[0;31m               ctx=ctx)\n\u001b[0m\u001b[1;32m    599\u001b[0m         \u001b[0;32melse\u001b[0m\u001b[0;34m:\u001b[0m\u001b[0;34m\u001b[0m\u001b[0;34m\u001b[0m\u001b[0m\n\u001b[1;32m    600\u001b[0m           outputs = execute.execute_with_cancellation(\n",
      "\u001b[0;32m~/projects/nlp_machine_translation/basic_machine_translation/venv/lib/python3.7/site-packages/tensorflow/python/eager/execute.py\u001b[0m in \u001b[0;36mquick_execute\u001b[0;34m(op_name, num_outputs, inputs, attrs, ctx, name)\u001b[0m\n\u001b[1;32m     58\u001b[0m     \u001b[0mctx\u001b[0m\u001b[0;34m.\u001b[0m\u001b[0mensure_initialized\u001b[0m\u001b[0;34m(\u001b[0m\u001b[0;34m)\u001b[0m\u001b[0;34m\u001b[0m\u001b[0;34m\u001b[0m\u001b[0m\n\u001b[1;32m     59\u001b[0m     tensors = pywrap_tfe.TFE_Py_Execute(ctx._handle, device_name, op_name,\n\u001b[0;32m---> 60\u001b[0;31m                                         inputs, attrs, num_outputs)\n\u001b[0m\u001b[1;32m     61\u001b[0m   \u001b[0;32mexcept\u001b[0m \u001b[0mcore\u001b[0m\u001b[0;34m.\u001b[0m\u001b[0m_NotOkStatusException\u001b[0m \u001b[0;32mas\u001b[0m \u001b[0me\u001b[0m\u001b[0;34m:\u001b[0m\u001b[0;34m\u001b[0m\u001b[0;34m\u001b[0m\u001b[0m\n\u001b[1;32m     62\u001b[0m     \u001b[0;32mif\u001b[0m \u001b[0mname\u001b[0m \u001b[0;32mis\u001b[0m \u001b[0;32mnot\u001b[0m \u001b[0;32mNone\u001b[0m\u001b[0;34m:\u001b[0m\u001b[0;34m\u001b[0m\u001b[0;34m\u001b[0m\u001b[0m\n",
      "\u001b[0;31mInvalidArgumentError\u001b[0m:  Received a label value of 344 which is outside the valid range of [0, 344).  Label values: 7 88 1 64 16 13 14 5 7 83 1 40 13 14 0 0 0 0 0 0 0 11 30 1 67 15 25 22 47 6 3 1 58 69 2 56 0 0 0 0 0 0 62 1 92 2 41 5 3 1 9 21 26 11 24 0 0 0 0 0 0 0 0 7 33 1 9 7 102 2 51 5 3 1 18 2 45 0 0 0 0 0 0 0 29 1 65 37 11 44 6 3 1 9 21 2 52 0 0 0 0 0 0 0 0 10 38 1 20 16 17 13 5 10 82 1 20 13 17 0 0 0 0 0 0 0 36 1 12 67 37 11 46 5 3 1 18 2 44 0 0 0 0 0 0 0 0 27 145 7 97 134 154 0 0 0 0 0 0 0 0 0 0 0 0 0 0 0 3 113 115 184 110 176 0 0 0 0 0 0 0 0 0 0 0 0 0 0 0 3 94 4 28 4 73 6 4 78 0 0 0 0 0 0 0 0 0 0 0 0 11 30 1 19 15 25 79 56 5 3 1 68 2 41 0 0 0 0 0 0 0 3 55 4 72 4 28 76 6 4 28 0 0 0 0 0 0 0 0 0 0 0 3 55 4 78 4 74 6 4 73 0 0 0 0 0 0 0 0 0 0 0 0 3 55 4 28 4 70 6 4 72 0 0 0 0 0 0 0 0 0 0 0 0 11 30 1 12 57 15 25 22 45 6 3 1 12 18 2 47 0 0 0 0 0 4 32 31 1 8 68 15 25 22 47 5 3 1 8 21 2 41 0 0 0 0 10 82 1 61 16 17 5 7 86 1 40 93 0 0 0 0 0 0 0 0 0 10 85 1 20 16 17 13 5 7 83 1 61 13 17 0 0 0 0 0 0 0 10 38 1 40 16 17 5 7 89 1 39 17 0 0 0 0 0 0 0 0 0 62 1 12 63 2 41 5 3 1 8 60 26 11 24 0 0 0 0 0 0 0 99 124 4 70 4 73 6 28 76 0 0 0 0 0 0 0 0 0 0 0 0 7 89 1 39 16 13 14 5 7 90 27 1 13 14 0 0 0 0 0 0 0 10 85 1 39 13 14 108 96 5 10 82 1 20 13 14 0 0 0 0 0 0 36 1 8 18 2 43 5 3 1 12 66 2 48 0 0 0 0 0 0 0 0 20 13 16 17 1 7 88 5 39 17 13 1 10 82 0 0 0 0 0 0 0 20 16 10 23 14 1 10 85 5 61 23 14 1 7 90 0 0 0 0 0 0 35 34 1 8 19 2 43 5 3 1 8 18 2 49 0 0 0 0 0 0 0 4 32 31 1 9 57 37 11 46 5 3 1 18 2 41 0 0 0 0 0 0 36 1 8 57 2 52 5 3 1 8 59 2 46 0 0 0 0 0 0 0 0 3 94 4 71 4 74 6 4 78 0 0 0 0 0 0 0 0 0 0 0 0 64 16 17 1 10 270 5 61 17 1 7 86 0 0 0 0 0 0 0 0 0 29 1 19 2 52 6 3 1 9 60 2 46 0 0 0 0 0 0 0 0 0 29 1 8 66 2 41 5 3 1 12 60 26 11 24 0 0 0 0 0 0 0 29 1 12 21 37 11 24 5 3 1 9 65 2 51 0 0 0 0 0 0 0 29 1 8 66 15 111 22 11 24 6 3 1 9 26 63 2 53 0 0 0 0 4 32 31 1 21 2 43 5 3 1 9 117 2 47 0 0 0 0 0 0 0 7 36 1 8 65 37 11 46 5 3 1 63 2 44 0 0 0 0 0 0 0 33 1 57 2 49 5 3 1 18 2 47 0 0 0 0 0 0 0 0 0 0 7 33 1 8 63 2 50 6 3 1 12 18 2 49 0 0 0 0 0 0 0 36 1 69 21 2 50 6 3 1 8 63 26 11 24 0 0 0 0 0 0 0 7 33 1 12 65 2 54 6 3 1 19 2 41 0 0 0 0 0 0 0 0 20 16 17 1 13 7 86 5 40 13 17 1 10 85 0 0 0 0 0 0 0 39 109 17 1 13 146 11 237 0 0 0 0 0 0 0 0 0 0 0 0 0 7 88 1 7 13 14 108 96 5 10 85 1 64 13 14 0 0 0 0 0 0 64 16 17 13 1 10 38 5 40 13 140 1 84 0 0 0 0 0 0 0 0 62 1 21 2 50 5 3 1 12 18 2 53 0 0 0 0 0 0 0 0 0 35 34 1 66 2 41 5 3 1 12 67 26 11 24 0 0 0 0 0 0 0 4 32 31 105 131 9 190 2 45 5 3 1 18 2 44 0 0 0 0 0 0 27 94 7 148 97 162 0 0 0 0 0 0 0 0 0 0 0 0 0 0 0 29 1 58 69 2 50 5 3 1 12 19 2 53 0 0 0 0 0 0 0 0 99 127 91 28 76 4 70 6 4 74 0 0 0 0 0 0 0 0 0 0 0 4 32 31 1 12 63 37 11 24 6 3 1 8 58 2 41 0 0 0 0 0 27 55 4 75 4 73 6 10 38 0 0 0 0 0 0 0 0 0 0 0 0 4 32 31 1 8 21 37 11 24 6 3 1 12 67 2 52 0 0 0 0 0 62 1 12 65 37 11 44 6 3 1 8 10 81 2 50 0 0 0 0 0 0 11 30 1 12 18 15 25 79 56 5 3 1 8 18 2 46 0 0 0 0 0 101 1 12 18 15 25 22 47 6 3 1 60 2 52 0 0 0 0 0 0 0 29 1 19 2 41 6 3 1 12 19 2 53 0 0 0 0 0 0 0 0 0 7 33 1 9 18 26 98 6 3 1 8 67 2 44 0 0 0 0 0 0 0 62 105 103 9 19 2 51 6 3 1 8 63 2 49 0 0 0 0 0 0 0 135 28 76 4 28 6 4 78 0 0 0 0 0 0 0 0 0 0 0 0 0 3 55 4 73 4 70 6 4 75 0 0 0 0 0 0 0 0 0 0 0 0 7 90 1 61 16 10 23 119 5 7 89 1 39 23 14 0 0 0 0 0 0 3 180 35 34 24 114 0 0 0 0 0 0 0 0 0 0 0 0 0 0 0 27 94 4 78 4 77 6 4 74 0 0 0 0 0 0 0 0 0 0 0 0 36 105 103 9 19 2 24 6 3 1 12 59 2 54 0 0 0 0 0 0 0 11 30 1 19 2 49 5 3 157 2 43 0 0 0 0 0 0 0 0 0 0 3 55 10 163 110 134 0 0 0 0 0 0 0 0 0 0 0 0 0 0 0 11 30 1 19 15 42 5 3 1 8 59 2 54 0 0 0 0 0 0 0 0 35 34 1 58 8 2 54 6 3 1 9 66 2 44 0 0 0 0 0 0 0 7 86 1 39 16 17 13 5 10 82 1 64 13 17 0 0 0 0 0 0 0 84 1 39 16 13 14 5 7 88 27 1 13 14 0 0 0 0 0 0 0 0 4 32 31 1 8 65 15 25 79 56 5 3 1 67 2 45 0 0 0 0 0 36 1 12 18 2 52 5 3 1 8 65 2 56 0 0 0 0 0 0 0 0 11 30 1 19 15 42 6 3 1 12 59 2 44 0 0 0 0 0 0 0 0 29 1 12 57 2 54 6 3 1 8 21 2 53 0 0 0 0 0 0 0 0 7 86 1 61 16 13 14 5 7 88 1 39 13 14 0 0 0 0 0 0 0 35 34 1 12 18 2 49 5 3 1 9 18 2 54 0 0 0 0 0 0 0 107 126 4 77 28 76 6 72 0 0 0 0 0 0 0 0 0 0 0 0 0 29 1 65 2 52 5 3 1 63 2 48 0 0 0 0 0 0 0 0 0 0 11 30 1 12 67 15 111 22 11 24 5 3 1 12 65 2 45 0 0 0 0 20 16 1 13 14 7 87 5 27 1 13 14 7 83 0 0 0 0 0 0 0 7 62 1 9 58 26 98 6 3 1 8 21 2 51 0 0 0 0 0 0 0 11 30 1 58 2 53 5 3 1 8 19 2 45 0 0 0 0 0 0 0 0 4 32 31 1 18 26 98 6 3 1 8 21 15 42 0 0 0 0 0 0 0 107 132 10 38 4 71 6 4 28 76 0 0 0 0 0 0 0 0 0 0 0 35 34 1 12 68 2 50 5 3 1 59 2 49 0 0 0 0 0 0 0 0 27 55 4 75 10 38 6 4 78 0 0 0 0 0 0 0 0 0 0 0 0 40 109 17 1 146 7 201 0 0 0 0 0 0 0 0 0 0 0 0 0 0 20 16 1 13 14 7 83 5 64 13 14 1 7 90 0 0 0 0 0 0 0 3 55 4 72 4 71 6 4 75 0 0 0 0 0 0 0 0 0 0 0 0 11 30 1 10 81 2 50 5 3 1 8 60 26 11 24 0 0 0 0 0 0 4 32 31 1 12 60 2 50 5 3 1 9 18 2 44 0 0 0 0 0 0 62 1 12 63 2 48 5 3 1 69 21 2 46 0 0 0 0 0 0 0 0 62 1 8 104 2 45 6 3 1 67 2 52 0 0 0 0 0 0 0 0 0 7 83 1 20 16 10 23 14 5 7 90 1 40 23 14 0 0 0 0 0 0 29 1 8 19 2 45 6 3 1 12 63 26 11 24 0 0 0 0 0 0 0 40 13 14 108 96 1 7 90 5 61 13 14 1 10 38 0 0 0 0 0 0 7 88 1 61 16 17 5 84 1 20 93 0 0 0 0 0 0 0 0 0 0 7 62 1 58 8 26 98 6 3 1 8 104 2 51 0 0 0 0 0 0 0 11 30 1 9 58 15 25 22 47 5 3 1 12 19 15 42 0 0 0 0 0 7 194 161 10 189 6 10 186 1 196 0 0 0 0 0 0 0 0 0 0 0 7 33 1 12 67 2 45 6 3 95 69 2 43 0 0 0 0 0 0 0 0 7 33 1 12 18 2 54 5 3 1 21 2 46 0 0 0 0 0 0 0 0 29 1 8 104 15 25 22 51 6 3 1 60 2 47 0 0 0 0 0 0 0 7 83 1 40 16 13 14 5 10 38 1 61 13 14 0 0 0 0 0 0 0 115 221 1 40 109 17 13 0 0 0 0 0 0 0 0 0 0 0 0 0 0 35 34 1 104 2 49 5 3 95 9 2 51 0 0 0 0 0 0 0 0 0 29 1 7 102 15 111 22 11 24 5 3 1 12 57 2 44 0 0 0 0 0 3 118 113 10 200 110 166 0 0 0 0 0 0 0 0 0 0 0 0 0 0 29 1 8 60 2 45 6 3 1 9 68 2 41 0 0 0 0 0 0 0 0 35 34 1 12 59 2 41 6 3 157 2 47 0 0 0 0 0 0 0 0 0 61 16 17 1 13 10 85 5 64 13 17 1 7 83 0 0 0 0 0 0 0 4 32 31 1 63 37 11 44 5 3 1 12 18 2 53 0 0 0 0 0 0 29 1 9 57 2 43 5 3 1 9 65 2 41 0 0 0 0 0 0 0 0 29 1 8 19 2 43 5 3 1 18 2 46 0 0 0 0 0 0 0 0 0 27 55 4 70 4 74 6 4 78 0 0 0 0 0 0 0 0 0 0 0 0 29 1 12 67 2 50 6 3 1 9 68 26 11 24 0 0 0 0 0 0 0 3 55 4 28 4 78 6 4 73 0 0 0 0 0 0 0 0 0 0 0 0 61 16 17 1 84 5 39 17 1 10 82 0 0 0 0 0 0 0 0 0 0 39 16 17 1 7 88 5 64 93 1 10 85 0 0 0 0 0 0 0 0 0 7 80 1 40 16 17 13 5 10 85 1 20 13 17 0 0 0 0 0 0 0 20 16 1 13 14 7 86 5 61 13 14 1 7 80 0 0 0 0 0 0 0 29 1 10 81 37 11 46 5 3 1 112 26 11 24 0 0 0 0 0 0 0 10 82 1 39 16 17 5 7 89 1 61 17 0 0 0 0 0 0 0 0 0 7 33 1 9 18 15 25 22 47 5 3 105 103 9 19 2 49 0 0 0 0 10 85 1 40 16 17 13 5 7 83 1 20 13 17 0 0 0 0 0 0 0 29 1 66 15 25 22 51 6 3 1 9 125 2 53 0 0 0 0 0 0 0 99 124 4 28 6 4 75 0 0 0 0 0 0 0 0 0 0 0 0 0 0 20 16 10 23 14 1 7 87 5 39 23 14 1 84 0 0 0 0 0 0 0 3 55 4 78 6 4 77 0 0 0 0 0 0 0 0 0 0 0 0 0 0 29 1 8 59 2 50 5 3 1 19 26 11 24 0 0 0 0 0 0 0 0 7 36 1 12 57 15 25 22 47 5 3 1 18 2 43 0 0 0 0 0 0 99 127 91 4 77 4 75 6 4 28 76 0 0 0 0 0 0 0 0 0 0 29 1 8 67 2 52 6 3 95 9 2 56 0 0 0 0 0 0 0 0 0 7 33 1 8 58 2 54 5 3 95 9 26 11 24 0 0 0 0 0 0 0 36 1 9 66 37 11 44 6 3 1 12 68 2 52 0 0 0 0 0 0 0 10 38 1 20 16 17 5 7 83 1 20 93 0 0 0 0 0 0 0 0 0 35 34 1 9 58 2 49 6 3 1 68 2 43 0 0 0 0 0 0 0 0 27 94 115 110 172 169 0 0 0 0 0 0 0 0 0 0 0 0 0 0 0 20 16 1 13 14 7 87 5 39 13 14 1 7 83 0 0 0 0 0 0 0 7 36 1 8 60 37 11 44 5 3 1 21 26 11 24 0 0 0 0 0 0 39 16 1 13 14 10 85 5 40 13 14 1 7 89 0 0 0 0 0 0 0 29 1 58 69 2 48 6 3 1 12 19 2 41 0 0 0 0 0 0 0 0 4 32 31 1 8 18 15 25 79 56 5 3 1 12 66 2 51 0 0 0 0 35 34 1 12 18 15 25 22 47 5 3 1 8 57 2 44 0 0 0 0 0 7 33 1 18 15 42 6 3 1 8 137 2 56 0 0 0 0 0 0 0 0 4 32 31 1 58 2 50 6 3 1 12 68 2 56 0 0 0 0 0 0 0 36 1 60 2 54 6 3 1 9 57 2 47 0 0 0 0 0 0 0 0 0 27 94 4 77 4 75 6 4 71 0 0 0 0 0 0 0 0 0 0 0 0 4 32 31 1 12 18 37 11 44 6 3 1 112 2 51 0 0 0 0 0 0 29 1 9 60 15 25 79 56 6 3 1 8 112 26 11 24 0 0 0 0 0 36 1 8 19 2 54 5 3 1 12 59 2 44 0 0 0 0 0 0 0 0 3 55 4 73 4 70 6 4 28 76 0 0 0 0 0 0 0 0 0 0 0 107 208 22 136 7 33 26 11 24 114 0 0 0 0 0 0 0 0 0 0 0 7 36 1 8 63 37 11 44 6 3 1 8 19 2 47 0 0 0 0 0 0 20 16 10 23 14 1 7 90 5 40 23 14 1 10 82 0 0 0 0 0 0 11 30 1 66 37 11 24 6 3 1 57 2 50 0 0 0 0 0 0 0 0 7 33 1 12 68 2 43 5 3 1 9 18 2 44 0 0 0 0 0 0 0 11 30 1 26 63 37 11 44 6 3 1 8 19 2 41 0 0 0 0 0 0 7 86 1 20 16 10 23 14 5 7 80 1 39 23 14 0 0 0 0 0 0 29 1 9 60 15 42 6 3 1 9 117 2 41 0 0 0 0 0 0 0 0 61 13 14 16 1 84 5 39 13 14 1 10 82 0 0 0 0 0 0 0 0 7 83 1 61 16 17 13 5 10 85 1 40 17 13 0 0 0 0 0 0 0 7 33 1 9 18 2 43 6 3 1 9 66 2 47 0 0 0 0 0 0 0 62 1 9 7 102 2 49 6 3 1 67 2 45 0 0 0 0 0 0 0 0 36 1 104 2 24 5 3 1 60 2 54 0 0 0 0 0 0 0 0 0 0 40 109 10 23 156 1 115 214 0 0 0 0 0 0 0 0 0 0 0 0 0 20 16 17 1 13 7 86 5 40 13 140 1 7 89 0 0 0 0 0 0 0 7 87 1 64 16 17 5 7 88 1 39 17 0 0 0 0 0 0 0 0 0 3 1 198 22 164 161 186 6 187 0 0 0 0 0 0 0 0 0 0 0 0 84 1 20 16 17 5 7 87 1 64 93 0 0 0 0 0 0 0 0 0 0 11 30 1 58 2 49 6 3 1 8 21 26 11 24 0 0 0 0 0 0 0 11 30 1 9 18 2 51 6 3 1 12 60 2 56 0 0 0 0 0 0 0 129 96 10 23 14 1 7 80 5 20 23 14 1 7 83 0 0 0 0 0 0 27 1 15 230 79 120 97 150 174 0 0 0 0 0 0 0 0 0 0 0 0 61 16 17 1 7 90 5 40 93 1 7 88 0 0 0 0 0 0 0 0 0 4 32 31 1 19 2 52 5 3 1 12 92 2 45 0 0 0 0 0 0 0 27 94 4 71 4 28 6 4 73 0 0 0 0 0 0 0 0 0 0 0 0 27 55 10 82 10 38 6 4 70 0 0 0 0 0 0 0 0 0 0 0 0 3 55 4 28 4 73 6 4 74 0 0 0 0 0 0 0 0 0 0 0 0 35 34 1 9 18 2 43 6 3 1 12 59 2 41 0 0 0 0 0 0 0 10 85 1 40 16 17 5 7 86 1 39 17 0 0 0 0 0 0 0 0 0 27 94 4 72 4 75 6 4 70 0 0 0 0 0 0 0 0 0 0 0 0 7 33 1 8 19 2 50 6 3 1 8 92 15 42 0 0 0 0 0 0 0 4 32 31 1 12 19 2 51 6 3 1 8 21 2 41 0 0 0 0 0 0 4 32 31 1 9 60 2 49 5 3 1 69 21 2 47 0 0 0 0 0 0 3 113 7 168 97 155 0 0 0 0 0 0 0 0 0 0 0 0 0 0 0 7 36 1 8 104 26 98 5 3 1 19 2 47 0 0 0 0 0 0 0 0 36 1 12 92 2 49 5 9 26 63 2 51 0 0 0 0 0 0 0 0 0 35 34 105 95 2 41 6 3 1 12 59 2 49 0 0 0 0 0 0 0 0 27 94 4 28 4 70 6 4 73 0 0 0 0 0 0 0 0 0 0 0 0 11 30 1 9 18 2 41 6 3 1 67 2 49 0 0 0 0 0 0 0 0 20 16 17 1 7 80 5 40 93 1 7 90 0 0 0 0 0 0 0 0 0 3 203 123 2 62 15 42 142 0 0 0 0 0 0 0 0 0 0 0 0 0 36 1 21 2 54 6 3 1 8 18 2 44 0 0 0 0 0 0 0 0 0 3 100 4 74 4 28 6 4 75 0 0 0 0 0 0 0 0 0 0 0 0 7 33 1 8 58 2 43 6 3 1 12 60 2 56 0 0 0 0 0 0 0 7 83 1 39 16 17 0 0 0 0 0 0 0 0 0 0 0 0 0 0 0 27 55 4 70 4 77 6 4 71 0 0 0 0 0 0 0 0 0 0 0 0 35 34 1 18 2 41 6 3 1 8 10 81 2 46 0 0 0 0 0 0 0 36 1 19 2 43 5 3 1 8 10 81 15 42 0 0 0 0 0 0 0 0 10 85 1 61 16 13 14 5 7 90 1 20 13 14 0 0 0 0 0 0 0 170 323 141 131 108 257 175 0 0 0 0 0 0 0 0 0 0 0 0 0 0 35 34 1 12 65 2 43 6 3 157 2 47 0 0 0 0 0 0 0 0 0 36 1 19 37 11 44 5 3 1 67 2 48 0 0 0 0 0 0 0 0 0 7 90 1 39 16 10 23 14 5 84 1 40 23 14 0 0 0 0 0 0 0 20 16 10 23 14 1 7 83 5 39 23 14 1 7 86 0 0 0 0 0 0 10 82 1 39 16 17 5 7 87 1 64 93 0 0 0 0 0 0 0 0 0 101 1 9 59 2 49 5 3 1 19 2 45 0 0 0 0 0 0 0 0 0 27 55 4 71 4 28 6 4 70 0 0 0 0 0 0 0 0 0 0 0 0 3 118 149 244 182 154 0 0 0 0 0 0 0 0 0 0 0 0 0 0 0 11 30 1 12 63 2 53 5 3 1 9 60 2 43 0 0 0 0 0 0 0 10 82 1 61 16 17 5 10 85 1 20 93 0 0 0 0 0 0 0 0 0 7 90 1 13 20 16 17 5 7 80 1 40 17 13 0 0 0 0 0 0 0 29 1 8 66 37 11 46 6 3 1 12 65 2 56 0 0 0 0 0 0 0 35 34 1 8 19 2 43 6 3 1 21 2 52 0 0 0 0 0 0 0 0 27 100 120 148 97 153 0 0 0 0 0 0 0 0 0 0 0 0 0 0 0 29 1 10 81 69 2 54 6 3 1 12 65 2 48 0 0 0 0 0 0 0 62 1 12 66 2 54 5 3 1 9 68 2 46 0 0 0 0 0 0 0 0 107 126 28 76 4 74 6 4 28 0 0 0 0 0 0 0 0 0 0 0 0 191 96 13 14 1 10 38 5 61 13 14 1 7 80 0 0 0 0 0 0 0 11 30 1 69 21 15 42 5 3 1 9 117 2 52 0 0 0 0 0 0 0 35 34 1 58 2 43 6 3 1 8 63 26 11 24 0 0 0 0 0 0 0 135 4 70 4 72 6 4 74 0 0 0 0 0 0 0 0 0 0 0 0 0 7 33 1 9 60 2 49 6 3 1 8 63 2 46 0 0 0 0 0 0 0 7 33 1 8 19 15 42 5 3 1 8 18 2 50 0 0 0 0 0 0 0 4 32 31 1 21 37 11 46 6 3 1 9 68 2 41 0 0 0 0 0 0 7 80 1 39 13 14 108 96 5 7 88 1 61 13 14 0 0 0 0 0 0 33 1 21 15 25 22 47 5 3 1 9 60 2 43 0 0 0 0 0 0 0 29 1 195 26 98 6 3 1 59 2 47 0 0 0 0 0 0 0 0 0 0 29 1 12 60 2 54 6 3 1 58 69 2 50 0 0 0 0 0 0 0 0 4 32 31 1 59 15 25 22 47 5 3 1 12 67 2 41 0 0 0 0 0 20 16 10 23 14 1 7 83 5 20 23 14 1 7 88 0 0 0 0 0 0 35 34 1 12 60 2 45 5 3 1 9 59 2 47 0 0 0 0 0 0 0 27 55 4 74 28 76 6 4 71 0 0 0 0 0 0 0 0 0 0 0 0 3 145 115 163 110 172 0 0 0 0 0 0 0 0 0 0 0 0 0 0 0 29 1 12 67 2 50 6 3 1 9 66 2 51 0 0 0 0 0 0 0 0 62 1 8 57 37 11 44 5 9 108 177 2 50 0 0 0 0 0 0 0 0 35 34 1 8 66 37 11 46 5 3 1 9 21 2 43 0 0 0 0 0 0 29 1 9 58 15 25 22 51 5 3 1 19 2 47 0 0 0 0 0 0 0 29 1 9 57 37 11 44 5 9 22 102 2 41 0 0 0 0 0 0 0 0 39 16 17 1 7 90 0 0 0 0 0 0 0 0 0 0 0 0 0 0 0 62 1 18 2 49 5 3 1 58 8 2 43 0 0 0 0 0 0 0 0 0 40 16 17 1 10 85 5 20 17 1 10 38 0 0 0 0 0 0 0 0 0 11 30 1 8 63 2 50 6 3 1 9 19 2 41 0 0 0 0 0 0 0 3 55 91 7 147 97 162 0 0 0 0 0 0 0 0 0 0 0 0 0 0 29 1 8 21 2 41 5 3 1 8 21 2 54 0 0 0 0 0 0 0 0 11 30 1 9 58 26 98 5 3 1 9 226 22 227 26 11 24 0 0 0 0 99 124 10 38 4 74 6 4 77 0 0 0 0 0 0 0 0 0 0 0 0 99 127 4 74 4 73 6 4 71 0 0 0 0 0 0 0 0 0 0 0 0 29 1 12 18 2 52 6 3 1 8 58 2 54 0 0 0 0 0 0 0 0 35 34 1 9 66 15 42 6 3 1 58 69 2 52 0 0 0 0 0 0 0 29 1 9 67 37 11 46 5 3 1 18 2 50 0 0 0 0 0 0 0 0 27 55 4 73 4 71 6 4 75 0 0 0 0 0 0 0 0 0 0 0 0 20 16 1 13 14 7 88 5 64 13 14 1 7 89 0 0 0 0 0 0 0 10 38 1 20 16 17 5 7 83 1 39 17 0 0 0 0 0 0 0 0 0 99 124 4 72 4 77 6 4 75 0 0 0 0 0 0 0 0 0 0 0 0 20 16 1 13 14 84 5 39 13 14 1 7 86 0 0 0 0 0 0 0 0 3 55 91 10 38 4 73 6 4 71 0 0 0 0 0 0 0 0 0 0 0 101 1 9 18 2 48 6 3 1 12 19 2 53 0 0 0 0 0 0 0 0 10 85 1 61 16 13 14 5 7 86 27 1 13 14 0 0 0 0 0 0 0 20 109 10 23 14 1 192 236 0 0 0 0 0 0 0 0 0 0 0 0 0 29 1 21 2 45 6 3 1 8 139 26 11 24 0 0 0 0 0 0 0 0 27 145 121 148 97 153 0 0 0 0 0 0 0 0 0 0 0 0 0 0 0 3 55 4 78 4 72 6 4 74 0 0 0 0 0 0 0 0 0 0 0 0 3 55 4 75 4 78 6 4 73 0 0 0 0 0 0 0 0 0 0 0 0 101 1 58 69 2 43 5 3 1 12 65 2 56 0 0 0 0 0 0 0 0 11 30 1 12 59 2 53 5 3 1 9 60 2 52 0 0 0 0 0 0 0 7 36 1 10 81 69 15 42 5 3 1 8 137 2 43 0 0 0 0 0 0 3 55 4 78 4 70 6 4 28 76 0 0 0 0 0 0 0 0 0 0 0 36 1 19 37 11 44 6 3 1 8 63 2 45 0 0 0 0 0 0 0 0 11 30 1 9 125 2 52 5 3 1 8 10 81 2 53 0 0 0 0 0 0 191 96 13 14 1 7 83 5 64 13 14 1 7 80 0 0 0 0 0 0 0 11 30 1 8 7 102 2 43 6 3 1 21 2 49 0 0 0 0 0 0 0 3 100 4 72 10 38 6 4 75 0 0 0 0 0 0 0 0 0 0 0 0 7 80 1 20 16 10 23 14 5 7 86 1 61 23 14 0 0 0 0 0 0 4 32 31 1 9 66 2 48 6 3 1 67 2 51 0 0 0 0 0 0 0 27 55 4 74 10 38 6 4 71 0 0 0 0 0 0 0 0 0 0 0 0 39 13 14 1 10 16 22 38 5 27 1 13 14 84 0 0 0 0 0 0 0 11 30 1 8 65 37 11 46 6 3 1 8 19 2 52 0 0 0 0 0 0 27 143 121 151 97 134 0 0 0 0 0 0 0 0 0 0 0 0 0 0 0 3 158 91 7 147 97 162 0 0 0 0 0 0 0 0 0 0 0 0 0 0 146 10 218 1 40 109 10 23 14 0 0 0 0 0 0 0 0 0 0 0 0 10 220 1 20 109 10 23 14 0 0 0 0 0 0 0 0 0 0 0 0 0 29 1 12 19 15 25 22 47 6 3 1 9 57 2 50 0 0 0 0 0 0 7 33 1 9 18 2 46 5 3 1 12 67 2 43 0 0 0 0 0 0 0 101 1 9 65 15 25 22 51 5 3 1 21 2 54 0 0 0 0 0 0 0 35 34 1 9 66 2 48 5 3 1 8 68 15 42 0 0 0 0 0 0 0 62 1 8 60 2 43 5 3 1 12 67 2 52 0 0 0 0 0 0 0 0 7 33 1 12 21 2 41 5 3 1 8 67 2 54 0 0 0 0 0 0 0 10 82 1 20 16 10 23 14 5 7 90 27 1 10 23 14 0 0 0 0 0 1 3 223 15 35 34 0 0 0 0 0 0 0 0 0 0 0 0 0 0 0 4 32 31 1 9 58 15 25 22 48 6 3 1 8 60 26 11 24 0 0 0 20 16 17 1 7 88 5 20 17 1 10 85 0 0 0 0 0 0 0 0 0 11 30 1 59 15 25 22 53 6 3 1 21 2 43 0 0 0 0 0 0 0 3 158 91 144 163 110 166 0 0 0 0 0 0 0 0 0 0 0 0 0 0 7 86 1 64 16 17 5 7 83 1 20 93 0 0 0 0 0 0 0 0 0 35 34 1 19 15 25 22 45 5 3 1 12 18 2 48 0 0 0 0 0 0 11 30 1 104 15 42 6 3 105 103 9 19 2 49 0 0 0 0 0 0 0 20 16 10 23 14 1 84 5 40 23 14 1 7 90 0 0 0 0 0 0 0 62 105 103 9 19 15 25 22 45 5 3 1 8 21 26 11 24 0 0 0 0 3 113 120 168 97 155 0 0 0 0 0 0 0 0 0 0 0 0 0 0 0 64 16 17 1 10 38 5 39 17 1 7 86 0 0 0 0 0 0 0 0 0 35 34 1 9 66 15 111 22 11 24 6 3 1 8 68 2 43 0 0 0 0 33 1 66 37 11 24 6 3 1 8 10 81 2 53 0 0 0 0 0 0 0 4 32 31 1 12 21 2 52 6 3 1 8 18 2 41 0 0 0 0 0 0 29 1 9 59 2 43 6 3 1 12 63 2 45 0 0 0 0 0 0 0 0 29 1 8 60 15 25 22 48 5 3 1 8 19 2 44 0 0 0 0 0 0 35 34 1 12 59 26 98 5 3 1 9 18 2 47 0 0 0 0 0 0 0 36 1 9 7 102 2 49 6 3 1 8 59 2 47 0 0 0 0 0 0 0 7 33 1 8 58 2 48 6 3 1 67 2 43 0 0 0 0 0 0 0 0 62 1 8 57 2 50 5 3 1 8 68 2 56 0 0 0 0 0 0 0 0 35 34 1 9 18 2 43 5 3 1 21 2 52 0 0 0 0 0 0 0 0 62 1 8 104 15 42 6 3 1 12 57 26 11 24 0 0 0 0 0 0 0 107 126 10 38 4 70 6 4 78 0 0 0 0 0 0 0 0 0 0 0 0 36 1 9 59 37 11 46 5 3 1 8 19 2 51 0 0 0 0 0 0 0 7 33 1 10 81 2 41 6 3 1 57 26 11 24 0 0 0 0 0 0 0 35 34 1 60 2 41 5 3 1 8 59 2 50 0 0 0 0 0 0 0 0 7 83 1 10 16 10 23 14 64 5 10 82 1 10 23 14 0 0 0 0 0 84 1 20 16 17 13 5 7 88 1 61 13 17 0 0 0 0 0 0 0 0 99 127 91 28 76 4 77 6 4 71 0 0 0 0 0 0 0 0 0 0 0 7 36 1 8 10 81 2 48 6 3 1 9 19 2 52 0 0 0 0 0 0 29 1 8 10 81 2 43 5 3 1 19 2 50 0 0 0 0 0 0 0 0 4 32 31 1 9 117 2 50 6 3 1 65 2 51 0 0 0 0 0 0 0 101 1 8 18 2 53 5 3 1 8 19 15 42 0 0 0 0 0 0 0 0 7 33 1 9 60 2 48 5 3 1 19 2 47 0 0 0 0 0 0 0 0 99 127 91 4 77 4 74 6 4 75 0 0 0 0 0 0 0 0 0 0 0 39 16 10 23 14 1 7 87 5 64 23 14 1 10 85 0 0 0 0 0 0 7 33 1 60 26 98 5 3 1 12 92 2 41 0 0 0 0 0 0 0 0 11 30 1 104 26 98 5 3 1 9 59 2 49 0 0 0 0 0 0 0 0 29 1 59 26 98 5 3 1 58 2 52 0 0 0 0 0 0 0 0 0 0 3 55 4 73 4 28 6 4 28 76 0 0 0 0 0 0 0 0 0 0 0 36 1 19 2 52 5 3 1 21 2 50 0 0 0 0 0 0 0 0 0 0 29 1 12 59 2 49 6 3 1 9 22 102 2 41 0 0 0 0 0 0 0 7 89 1 20 16 17 13 5 7 86 1 39 17 13 0 0 0 0 0 0 0 10 85 1 20 16 13 14 5 7 88 1 61 13 14 0 0 0 0 0 0 0 29 1 57 15 25 22 48 5 3 1 65 26 11 24 0 0 0 0 0 0 0 106 130 4 74 6 4 71 0 0 0 0 0 0 0 0 0 0 0 0 0 0 101 1 8 18 37 11 44 5 3 1 67 2 43 0 0 0 0 0 0 0 0 4 32 31 1 9 68 2 54 5 3 1 8 19 2 51 0 0 0 0 0 0 20 16 1 13 14 7 83 5 61 13 14 1 7 88 0 0 0 0 0 0 0 99 127 10 38 4 75 6 4 70 0 0 0 0 0 0 0 0 0 0 0 0 99 127 4 75 28 76 6 4 71 0 0 0 0 0 0 0 0 0 0 0 0 40 16 17 13 1 10 38 5 64 13 17 1 7 80 0 0 0 0 0 0 0 29 1 8 18 37 11 44 5 3 1 9 19 2 43 0 0 0 0 0 0 0 4 32 31 1 12 18 15 42 5 3 1 8 66 26 11 24 0 0 0 0 0 36 1 104 2 45 6 3 1 8 18 2 46 0 0 0 0 0 0 0 0 0 116 100 4 78 4 77 6 4 71 0 0 0 0 0 0 0 0 0 0 0 0 3 94 4 71 4 78 6 4 75 0 0 0 0 0 0 0 0 0 0 0 0 3 55 91 4 77 6 4 74 0 0 0 0 0 0 0 0 0 0 0 0 0 11 30 1 243 15 42 6 3 1 9 65 2 56 0 0 0 0 0 0 0 0 33 105 103 9 19 2 41 5 3 1 69 21 2 48 0 0 0 0 0 0 0 7 89 1 39 13 14 108 96 5 10 85 1 61 13 14 0 0 0 0 0 0 7 80 1 20 13 14 108 96 5 7 87 1 39 13 14 0 0 0 0 0 0 4 32 31 1 19 37 11 44 5 3 1 21 15 42 0 0 0 0 0 0 0 35 34 1 58 8 2 49 5 3 95 69 2 56 0 0 0 0 0 0 0 0 4 32 31 1 9 66 2 49 6 3 1 8 92 2 53 0 0 0 0 0 0 35 34 1 9 18 2 52 5 3 1 9 60 26 11 24 0 0 0 0 0 0 3 55 10 38 28 76 6 4 77 0 0 0 0 0 0 0 0 0 0 0 0 4 32 31 1 9 125 2 43 6 3 1 65 2 44 0 0 0 0 0 0 0 3 118 113 7 97 150 174 0 0 0 0 0 0 0 0 0 0 0 0 0 0 64 16 1 13 14 10 82 5 20 13 14 1 10 38 0 0 0 0 0 0 0 4 32 31 1 9 65 2 49 6 3 1 8 57 2 50 0 0 0 0 0 0 3 55 91 28 76 10 38 6 4 28 0 0 0 0 0 0 0 0 0 0 0 11 30 1 12 92 15 25 79 56 5 3 1 21 2 47 0 0 0 0 0 0 27 143 7 151 97 153 0 0 0 0 0 0 0 0 0 0 0 0 0 0 0 62 1 9 63 2 50 5 3 1 68 2 54 0 0 0 0 0 0 0 0 0 35 34 1 9 57 2 54 5 3 1 9 21 2 41 0 0 0 0 0 0 0 20 16 17 1 13 7 88 5 20 13 17 1 10 38 0 0 0 0 0 0 0 36 1 12 18 2 41 6 3 1 12 63 2 50 0 0 0 0 0 0 0 0 11 30 1 12 19 15 42 5 3 1 57 2 47 0 0 0 0 0 0 0 0 212 99 124 278 0 0 0 0 0 0 0 0 0 0 0 0 0 0 0 0 0 7 87 1 20 16 10 23 14 5 7 89 1 64 23 14 0 0 0 0 0 0 3 94 4 70 4 78 6 4 73 0 0 0 0 0 0 0 0 0 0 0 0 135 4 74 4 73 6 4 28 0 0 0 0 0 0 0 0 0 0 0 0 0 11 30 1 9 19 2 50 5 3 1 21 2 49 0 0 0 0 0 0 0 0 27 94 4 28 4 77 6 28 76 0 0 0 0 0 0 0 0 0 0 0 0 29 1 9 26 63 15 42 6 3 1 9 65 2 43 0 0 0 0 0 0 0 7 90 1 20 16 17 5 10 85 1 39 17 0 0 0 0 0 0 0 0 0 36 1 9 125 2 50 5 3 1 60 2 51 0 0 0 0 0 0 0 0 0 7 90 1 64 16 17 13 5 7 89 1 20 13 17 0 0 0 0 0 0 0 7 33 1 104 2 24 6 3 1 9 59 2 44 0 0 0 0 0 0 0 0 27 55 7 288 153 193 0 0 0 0 0 0 0 0 0 0 0 0 0 0 0 11 30 1 9 21 15 42 6 3 1 68 2 50 0 0 0 0 0 0 0 0 20 16 17 1 10 38 5 61 17 1 7 80 0 0 0 0 0 0 0 0 0 11 30 1 104 2 50 6 3 95 9 2 56 0 0 0 0 0 0 0 0 0 7 62 1 10 81 2 49 6 3 1 9 65 2 56 0 0 0 0 0 0 0 3 55 4 70 6 4 75 0 0 0 0 0 0 0 0 0 0 0 0 0 0 27 113 120 148 97 150 0 0 0 0 0 0 0 0 0 0 0 0 0 0 0 106 130 28 76 4 74 6 4 73 0 0 0 0 0 0 0 0 0 0 0 0 20 16 10 23 14 1 10 85 5 61 23 14 1 7 89 0 0 0 0 0 0 4 32 31 1 9 19 15 25 22 47 5 3 1 8 67 2 50 0 0 0 0 27 55 4 77 4 74 6 4 78 0 0 0 0 0 0 0 0 0 0 0 0 29 1 69 21 2 41 6 3 1 8 10 81 2 53 0 0 0 0 0 0 0 116 100 4 74 4 72 6 4 77 0 0 0 0 0 0 0 0 0 0 0 0 29 1 9 66 15 111 22 11 24 5 9 22 102 2 52 0 0 0 0 0 0 129 96 10 23 14 1 7 80 5 61 23 14 1 7 88 0 0 0 0 0 0 29 1 12 66 15 25 22 51 5 3 1 9 18 2 48 0 0 0 0 0 0 146 7 201 1 39 109 10 23 156 0 0 0 0 0 0 0 0 0 0 0 0 4 32 31 1 9 19 2 41 6 3 1 8 59 26 11 24 0 0 0 0 0 27 55 4 74 4 70 6 4 28 0 0 0 0 0 0 0 0 0 0 0 0 29 1 8 112 15 25 22 51 5 3 1 66 2 50 0 0 0 0 0 0 0 3 160 171 1 198 22 164 185 187 0 0 0 0 0 0 0 0 0 0 0 0 27 55 4 77 78 6 28 0 0 0 0 0 0 0 0 0 0 0 0 0 0 3 100 4 75 28 76 6 4 74 0 0 0 0 0 0 0 0 0 0 0 0 11 30 1 9 59 37 11 44 5 3 1 8 18 2 52 0 0 0 0 0 0 106 130 28 76 4 73 6 4 28 0 0 0 0 0 0 0 0 0 0 0 0 4 32 31 1 8 21 15 25 79 56 5 3 1 8 60 2 46 0 0 0 0 11 30 1 7 102 2 54 5 3 1 9 21 2 56 0 0 0 0 0 0 0 27 94 10 38 4 71 6 4 78 0 0 0 0 0 0 0 0 0 0 0 0 116 100 38 4 71 6 4 78 0 0 0 0 0 0 0 0 0 0 0 0 0 20 16 1 13 14 7 87 5 40 13 14 1 10 38 0 0 0 0 0 0 0 36 1 8 63 37 11 46 5 3 1 21 2 53 0 0 0 0 0 0 0 0 84 1 20 16 10 23 14 5 7 83 1 64 23 14 0 0 0 0 0 0 0 7 90 1 61 16 13 14 5 7 83 1 64 13 14 0 0 0 0 0 0 0 29 1 68 2 52 6 3 1 8 19 2 41 0 0 0 0 0 0 0 0 0 27 55 4 70 4 74 6 4 77 0 0 0 0 0 0 0 0 0 0 0 0 11 30 1 18 2 52 5 3 1 12 57 2 43 0 0 0 0 0 0 0 0 29 1 9 19 2 52 6 3 1 9 57 2 49 0 0 0 0 0 0 0 0 36 105 103 9 19 15 25 79 56 5 3 1 58 69 2 44 0 0 0 0 0 20 16 10 23 14 1 7 86 5 39 23 14 1 7 87 0 0 0 0 0 0 135 4 73 4 28 76 6 4 74 0 0 0 0 0 0 0 0 0 0 0 0 29 1 9 58 2 53 5 3 1 9 21 2 48 0 0 0 0 0 0 0 0 35 34 1 8 21 2 49 6 3 1 59 2 43 0 0 0 0 0 0 0 0 29 1 8 63 2 49 5 3 1 12 66 2 53 0 0 0 0 0 0 0 0 36 1 63 2 52 5 3 1 8 21 2 53 0 0 0 0 0 0 0 0 0 29 1 68 15 25 22 51 5 3 1 8 65 26 11 24 0 0 0 0 0 0 7 80 1 64 16 17 5 10 38 1 61 17 0 0 0 0 0 0 0 0 0 7 33 1 12 59 2 43 5 3 1 12 68 26 11 24 0 0 0 0 0 0 116 207 22 136 7 36 2 46 0 0 0 0 0 0 0 0 0 0 0 0 0 64 16 17 1 10 38 5 20 17 1 7 88 0 0 0 0 0 0 0 0 0 3 55 115 248 110 176 0 0 0 0 0 0 0 0 0 0 0 0 0 0 0 35 34 1 9 117 15 42 6 3 1 21 2 48 0 0 0 0 0 0 0 0 35 34 1 19 2 54 5 3 1 9 59 2 41 0 0 0 0 0 0 0 0 27 94 4 75 6 4 78 0 0 0 0 0 0 0 0 0 0 0 0 0 0 3 94 121 147 97 153 0 0 0 0 0 0 0 0 0 0 0 0 0 0 0 36 1 8 18 2 54 6 3 1 18 15 42 0 0 0 0 0 0 0 0 0 29 1 9 138 2 50 5 9 26 63 26 11 24 0 0 0 0 0 0 0 0 99 131 233 2 36 11 24 142 0 0 0 0 0 0 0 0 0 0 0 0 0 11 30 1 8 59 2 50 6 3 1 112 2 45 0 0 0 0 0 0 0 0 101 1 9 65 2 41 5 3 1 8 67 26 11 24 0 0 0 0 0 0 0 35 34 105 103 9 19 15 111 22 11 24 6 3 1 60 2 43 0 0 0 0 29 1 9 18 26 98 6 3 1 12 19 2 46 0 0 0 0 0 0 0 0 61 16 17 13 1 7 83 5 40 13 140 1 7 89 0 0 0 0 0 0 0 3 100 4 74 4 78 6 10 38 0 0 0 0 0 0 0 0 0 0 0 0 4 32 31 1 12 67 37 11 46 6 3 1 8 18 26 11 24 0 0 0 0 62 1 8 92 2 49 6 3 1 66 15 42 0 0 0 0 0 0 0 0 0 27 55 4 78 4 28 6 4 70 0 0 0 0 0 0 0 0 0 0 0 0 135 4 71 6 4 77 0 0 0 0 0 0 0 0 0 0 0 0 0 0 0 7 33 1 12 63 15 111 22 11 24 5 3 95 15 42 0 0 0 0 0 0 7 33 1 8 10 81 2 48 6 3 1 8 63 2 41 0 0 0 0 0 0 29 1 9 22 102 15 25 22 47 5 3 1 58 69 2 50 0 0 0 0 0 20 16 1 13 14 10 82 5 64 13 14 1 7 83 0 0 0 0 0 0 0 11 30 1 12 68 2 24 5 3 1 8 18 2 45 0 0 0 0 0 0 0 129 96 13 14 1 7 83 5 39 13 14 1 84 0 0 0 0 0 0 0 0 135 10 38 4 77 6 4 70 0 0 0 0 0 0 0 0 0 0 0 0 0 3 55 4 28 4 73 6 4 71 0 0 0 0 0 0 0 0 0 0 0 0 35 34 1 8 21 2 48 5 3 1 19 2 56 0 0 0 0 0 0 0 0 11 30 1 12 68 15 25 79 56 5 9 22 102 2 48 0 0 0 0 0 0 99 124 10 38 6 4 75 0 0 0 0 0 0 0 0 0 0 0 0 0 0 29 1 9 58 37 11 44 6 3 95 2 53 0 0 0 0 0 0 0 0 0 29 1 8 19 2 41 6 3 157 26 11 24 0 0 0 0 0 0 0 0 0 7 62 1 9 10 81 2 49 5 3 1 8 18 2 51 0 0 0 0 0 0 36 1 58 26 98 5 3 1 8 21 2 45 0 0 0 0 0 0 0 0 0 40 16 10 23 14 1 84 5 20 23 14 1 10 38 0 0 0 0 0 0 0 27 143 146 165 97 134 0 0 0 0 0 0 0 0 0 0 0 0 0 0 0 7 86 1 61 16 13 14 5 7 88 1 64 13 14 0 0 0 0 0 0 0 11 30 1 8 21 37 11 46 5 3 1 12 92 2 48 0 0 0 0 0 0 115 216 122 20 109 17 13 0 0 0 0 0 0 0 0 0 0 0 0 0 0 107 126 4 77 4 75 6 4 72 0 0 0 0 0 0 0 0 0 0 0 0 107 126 4 78 4 74 6 4 70 0 0 0 0 0 0 0 0 0 0 0 0 3 143 10 248 110 134 0 0 0 0 0 0 0 0 0 0 0 0 0 0 0 11 30 1 10 81 2 45 5 3 1 8 67 2 53 0 0 0 0 0 0 0 35 34 1 9 65 2 52 5 3 1 9 19 2 48 0 0 0 0 0 0 0 27 1 10 344 22 7 224 97 134 0 0 0 0 0 0 0 0 0 0 0 0 62 1 9 19 2 41 5 3 1 12 65 2 56 0 0 0 0 0 0 0 0 10 82 1 64 16 17 13 5 7 88 1 20 13 17 0 0 0 0 0 0 0 35 34 1 10 81 37 11 46 5 3 1 8 63 2 49 0 0 0 0 0 0 27 178 22 167 181 2 62 2 50 0 0 0 0 0 0 0 0 0 0 0 0 4 32 31 1 21 15 25 22 53 6 3 1 12 21 2 41 0 0 0 0 0 27 55 4 71 4 28 6 4 28 76 0 0 0 0 0 0 0 0 0 0 0 3 55 91 10 38 4 71 6 4 28 0 0 0 0 0 0 0 0 0 0 0 20 16 17 1 10 85 5 40 93 1 7 83 0 0 0 0 0 0 0 0 0 7 33 1 9 58 2 49 6 3 1 12 19 2 41 0 0 0 0 0 0 0 263 179 209 141 175 0 0 0 0 0 0 0 0 0 0 0 0 0 0 0 0 4 32 31 1 7 102 2 45 5 3 105 103 9 19 2 52 0 0 0 0 0 7 33 1 12 18 2 43 5 3 95 9 2 49 0 0 0 0 0 0 0 0 62 1 69 21 15 42 5 9 108 177 2 54 0 0 0 0 0 0 0 0 0 36 1 9 117 2 43 6 3 1 8 65 2 44 0 0 0 0 0 0 0 0 4 32 31 1 8 21 2 52 6 3 1 8 57 26 11 24 0 0 0 0 0 64 16 17 1 84 5 20 93 1 7 88 0 0 0 0 0 0 0 0 0 0 20 16 17 13 1 7 80 5 39 17 13 1 7 90 0 0 0 0 0 0 0 99 124 4 72 4 28 6 4 159 0 0 0 0 0 0 0 0 0 0 0 0 35 34 1 21 2 52 5 3 1 8 21 2 54 0 0 0 0 0 0 0 0 7 36 1 8 306 2 50 6 3 1 8 112 2 52 0 0 0 0 0 0 0 4 32 31 1 21 15 25 22 45 5 3 1 8 21 15 42 0 0 0 0 0 40 16 1 13 14 7 80 5 61 13 14 1 7 86 0 0 0 0 0 0 0 35 34 1 12 60 2 51 6 3 1 12 65 2 43 0 0 0 0 0 0 0 7 33 1 9 18 15 25 22 47 5 3 1 8 66 2 51 0 0 0 0 0 35 34 1 12 63 15 111 22 11 24 5 3 1 8 66 2 56 0 0 0 0 33 1 57 2 43 6 3 1 12 19 2 50 0 0 0 0 0 0 0 0 0 29 1 12 59 2 52 6 3 1 9 65 2 45 0 0 0 0 0 0 0 0 20 16 10 23 14 1 10 38 5 61 23 14 1 10 82 0 0 0 0 0 0 135 4 71 4 72 6 10 38 0 0 0 0 0 0 0 0 0 0 0 0 0 39 16 17 1 7 80 5 20 17 1 10 85 0 0 0 0 0 0 0 0 0 7 33 1 9 19 2 48 6 3 1 57 2 50 0 0 0 0 0 0 0 0 11 30 1 8 18 15 25 22 47 6 3 95 9 2 41 0 0 0 0 0 0 7 89 1 20 16 13 14 0 0 0 0 0 0 0 0 0 0 0 0 0 0 62 1 12 63 2 50 5 3 1 12 19 2 48 0 0 0 0 0 0 0 0 35 34 1 63 37 11 44 6 3 1 9 68 2 50 0 0 0 0 0 0 0 64 16 17 1 13 84 5 39 17 13 1 7 90 0 0 0 0 0 0 0 0 29 1 9 125 2 48 6 3 1 67 26 11 24 0 0 0 0 0 0 0 0 29 1 8 18 2 41 6 3 1 9 68 2 43 0 0 0 0 0 0 0 0 27 145 120 148 97 150 0 0 0 0 0 0 0 0 0 0 0 0 0 0 0 146 11 219 122 20 109 10 23 14 0 0 0 0 0 0 0 0 0 0 0 0 99 124 4 71 4 73 6 4 74 0 0 0 0 0 0 0 0 0 0 0 0 35 34 1 7 102 2 41 6 3 1 8 137 2 52 0 0 0 0 0 0 0 29 1 8 112 37 11 46 6 3 1 9 21 2 48 0 0 0 0 0 0 0 3 94 4 71 10 38 6 4 74 0 0 0 0 0 0 0 0 0 0 0 0 106 130 4 73 4 72 6 4 28 76 0 0 0 0 0 0 0 0 0 0 0 27 55 28 76 4 28 6 4 77 0 0 0 0 0 0 0 0 0 0 0 0 4 32 31 1 12 18 2 52 5 3 1 12 21 2 53 0 0 0 0 0 0 33 1 21 2 54 6 3 1 9 57 2 43 0 0 0 0 0 0 0 0 0 27 158 91 144 183 110 172 0 0 0 0 0 0 0 0 0 0 0 0 0 0 3 55 4 70 4 75 6 4 28 0 0 0 0 0 0 0 0 0 0 0 0 3 94 4 70 4 28 6 4 74 0 0 0 0 0 0 0 0 0 0 0 0 29 1 9 66 2 48 5 3 1 9 125 2 44 0 0 0 0 0 0 0 0 11 30 1 12 60 2 51 6 3 1 8 18 26 11 24 0 0 0 0 0 0 3 118 113 144 200 110 133 0 0 0 0 0 0 0 0 0 0 0 0 0 0 99 124 4 78 4 77 6 4 74 0 0 0 0 0 0 0 0 0 0 0 0 40 16 17 13 1 7 83 5 61 13 17 1 7 80 0 0 0 0 0 0 0 62 1 8 104 26 98 5 3 1 60 2 45 0 0 0 0 0 0 0 0 0 20 16 17 1 7 88 5 40 93 1 7 87 0 0 0 0 0 0 0 0 0 27 158 91 7 151 97 153 0 0 0 0 0 0 0 0 0 0 0 0 0 0 36 1 8 66 2 50 6 3 1 12 19 15 42 0 0 0 0 0 0 0 0 7 33 1 10 81 2 43 5 3 1 59 2 47 0 0 0 0 0 0 0 0 39 16 17 1 7 83 5 20 93 1 7 88 0 0 0 0 0 0 0 0 0 4 32 31 1 9 60 15 25 22 51 5 3 1 9 21 2 45 0 0 0 0 101 1 8 18 15 25 22 47 5 3 95 69 2 52 0 0 0 0 0 0 0 7 33 1 8 63 2 48 5 3 1 8 57 2 52 0 0 0 0 0 0 0 107 132 4 71 6 4 28 0 0 0 0 0 0 0 0 0 0 0 0 0 0 11 30 1 9 22 102 2 45 6 3 1 8 18 15 42 0 0 0 0 0 0 27 55 121 148 97 150 0 0 0 0 0 0 0 0 0 0 0 0 0 0 0 4 32 31 1 12 66 2 53 6 3 1 9 58 2 41 0 0 0 0 0 0 10 85 1 64 16 17 13 5 7 89 1 40 17 13 0 0 0 0 0 0 0 35 34 1 9 65 2 48 6 3 1 8 66 15 42 0 0 0 0 0 0 0 7 33 1 9 19 2 45 5 9 108 177 2 43 0 0 0 0 0 0 0 0 35 34 1 18 2 41 6 3 1 8 59 2 54 0 0 0 0 0 0 0 0 27 55 120 97 155 174 0 0 0 0 0 0 0 0 0 0 0 0 0 0 0 4 32 31 1 12 92 37 11 24 5 3 1 9 19 2 53 0 0 0 0 0 4 32 31 1 8 19 37 11 44 6 3 1 8 65 2 49 0 0 0 0 0 29 1 12 92 2 48 6 3 1 21 26 11 24 0 0 0 0 0 0 0 0 4 32 31 1 12 18 2 41 6 3 1 8 66 2 24 0 0 0 0 0 0 61 16 17 1 10 38 5 40 93 1 10 82 0 0 0 0 0 0 0 0 0 4 32 31 1 9 104 26 98 6 3 1 8 57 2 50 0 0 0 0 0 0 263 179 209 141 4 13 175 0 0 0 0 0 0 0 0 0 0 0 0 0 0 7 33 1 8 58 2 41 5 3 1 69 21 2 54 0 0 0 0 0 0 0 36 1 8 137 2 54 5 3 1 12 59 2 49 0 0 0 0 0 0 0 0 106 128 91 4 28 4 78 6 4 77 0 0 0 0 0 0 0 0 0 0 0 40 16 10 23 14 1 10 38 5 39 23 14 1 7 83 0 0 0 0 0 0 62 1 8 67 2 49 5 9 59 2 54 0 0 0 0 0 0 0 0 0 0 7 33 1 8 92 2 50 6 3 1 8 57 2 46 0 0 0 0 0 0 0 4 32 31 1 9 21 15 25 79 54 5 3 1 67 2 53 0 0 0 0 0 29 1 8 18 15 25 79 56 5 3 1 12 19 2 53 0 0 0 0 0 0 7 36 1 8 92 2 54 6 3 1 9 57 2 41 0 0 0 0 0 0 0 11 30 1 12 18 2 24 5 3 1 9 57 2 46 0 0 0 0 0 0 0 11 30 1 19 2 54 5 3 1 12 18 2 56 0 0 0 0 0 0 0 0 106 130 4 73 4 28 6 4 77 0 0 0 0 0 0 0 0 0 0 0 0 235 1 115 290 180 10 277 0 0 0 0 0 0 0 0 0 0 0 0 0 0 35 34 1 10 81 69 26 98 6 3 1 8 59 2 49 0 0 0 0 0 0 36 1 9 10 81 37 11 24 6 3 1 12 18 2 52 0 0 0 0 0 0 61 16 1 13 14 10 85 5 27 1 13 14 7 80 0 0 0 0 0 0 0 62 1 9 7 102 2 52 6 3 1 9 68 2 47 0 0 0 0 0 0 0 101 1 9 195 37 11 44 6 3 1 8 18 26 11 24 0 0 0 0 0 0 40 13 14 1 10 16 22 38 5 39 13 14 1 7 80 0 0 0 0 0 0 29 1 12 67 15 111 22 11 24 6 3 1 21 2 54 0 0 0 0 0 0 35 34 1 8 67 15 42 5 3 1 9 68 2 56 0 0 0 0 0 0 0 20 16 1 13 14 7 80 5 39 13 14 1 7 87 0 0 0 0 0 0 0 3 55 4 70 4 28 76 6 4 78 0 0 0 0 0 0 0 0 0 0 0 7 33 1 9 104 26 98 6 3 1 67 2 41 0 0 0 0 0 0 0 0 27 55 121 151 97 153 0 0 0 0 0 0 0 0 0 0 0 0 0 0 0 7 33 1 12 68 15 42 6 3 1 8 57 2 54 0 0 0 0 0 0 0 62 1 8 60 2 54 6 3 1 8 137 2 51 0 0 0 0 0 0 0 0 7 33 1 9 104 15 42 6 3 1 9 65 2 46 0 0 0 0 0 0 0 4 32 31 1 10 81 69 2 53 5 3 1 9 18 15 42 0 0 0 0 0 10 38 1 64 16 17 13 5 7 80 1 61 13 17 0 0 0 0 0 0 0 106 130 4 73 4 72 6 4 70 0 0 0 0 0 0 0 0 0 0 0 0 129 96 13 14 1 7 86 5 20 13 14 1 84 0 0 0 0 0 0 0 0 4 32 31 1 8 59 2 49 5 3 1 8 65 26 11 24 0 0 0 0 0 106 130 4 28 4 71 6 10 38 0 0 0 0 0 0 0 0 0 0 0 0 84 1 13 39 16 17 5 7 88 1 20 13 17 0 0 0 0 0 0 0 0 27 204 123 15 35 34 0 0 0 0 0 0 0 0 0 0 0 0 0 0 0 27 118 149 121 97 166 154 0 0 0 0 0 0 0 0 0 0 0 0 0 0 7 62 1 10 81 69 2 45 6 3 1 12 92 2 56 0 0 0 0 0 0 20 16 1 13 14 10 85 5 40 13 14 1 7 88 0 0 0 0 0 0 0 7 201 1 20 109 17 13 0 0 0 0 0 0 0 0 0 0 0 0 0 0 29 1 21 15 25 22 47 6 3 103 19 15 42 0 0 0 0 0 0 0 0 35 34 1 60 15 25 22 45 5 3 1 65 26 11 24 0 0 0 0 0 0 11 30 1 63 15 111 22 11 24 6 3 1 8 67 2 54 0 0 0 0 0 3 55 91 4 73 4 28 76 6 72 0 0 0 0 0 0 0 0 0 0 0 40 16 10 23 14 1 7 86 5 20 23 14 1 7 87 0 0 0 0 0 0 29 1 8 18 15 42 6 3 1 8 21 2 43 0 0 0 0 0 0 0 0 10 85 1 20 16 17 13 5 10 82 1 64 13 17 0 0 0 0 0 0 0 4 32 31 1 8 65 2 41 6 3 103 19 2 49 0 0 0 0 0 0 0 11 30 1 9 60 26 98 5 3 1 12 63 2 50 0 0 0 0 0 0 0 61 13 14 16 1 10 82 5 39 13 14 1 7 80 0 0 0 0 0 0 0 106 128 91 4 78 4 28 76 6 4 71 0 0 0 0 0 0 0 0 0 0 7 90 1 20 16 13 14 5 10 38 253 1 13 14 0 0 0 0 0 0 0 36 1 9 138 2 51 6 3 1 12 63 2 49 0 0 0 0 0 0 0 0 64 16 17 1 13 7 86 0 0 0 0 0 0 0 0 0 0 0 0 0 0 7 86 1 20 16 17 13 5 7 88 1 64 13 140 0 0 0 0 0 0 0 4 32 31 1 58 8 15 25 22 45 6 3 1 67 2 54 0 0 0 0 0 29 1 8 21 15 25 22 51 6 3 1 60 2 41 0 0 0 0 0 0 0 35 34 1 12 63 2 51 6 3 103 19 2 44 0 0 0 0 0 0 0 0 29 1 9 67 15 25 79 56 5 3 1 9 125 2 52 0 0 0 0 0 0 101 1 8 67 2 53 5 3 1 19 2 51 0 0 0 0 0 0 0 0 0 20 16 17 13 1 7 80 5 39 17 1 10 13 38 0 0 0 0 0 0 0 61 16 17 1 7 83 5 20 93 1 7 88 0 0 0 0 0 0 0 0 0 35 34 1 8 63 37 11 46 5 3 1 12 60 2 49 0 0 0 0 0 0 35 34 1 9 58 26 98 5 3 1 9 18 2 53 0 0 0 0 0 0 0 3 113 121 168 97 133 0 0 0 0 0 0 0 0 0 0 0 0 0 0 0 11 30 1 8 59 2 49 5 3 1 21 2 44 0 0 0 0 0 0 0 0 3 100 4 75 4 72 4 28 6 4 0 0 0 0 0 0 0 0 0 0 0 7 87 1 64 16 13 14 5 7 90 1 20 13 14 0 0 0 0 0 0 0 7 80 1 40 16 10 23 14 5 7 90 1 64 23 14 0 0 0 0 0 0 36 1 7 102 15 42 6 3 1 12 19 2 53 0 0 0 0 0 0 0 0 29 1 12 18 2 45 5 3 1 12 60 2 48 0 0 0 0 0 0 0 0 29 1 12 63 37 11 44 5 3 1 9 18 2 52 0 0 0 0 0 0 0 29 1 60 15 111 285 42 6 3 1 8 21 2 45 0 0 0 0 0 0 0 62 1 8 19 15 25 79 56 6 3 1 8 92 15 42 0 0 0 0 0 0 116 160 171 1 196 22 164 161 186 6 189 0 0 0 0 0 0 0 0 0 0 4 32 31 1 8 66 2 41 5 3 1 18 2 48 0 0 0 0 0 0 0 36 1 8 67 2 41 5 3 1 21 2 53 0 0 0 0 0 0 0 0 0 27 55 4 71 4 74 6 4 77 0 0 0 0 0 0 0 0 0 0 0 0 36 1 9 22 102 37 11 46 6 3 1 68 2 53 0 0 0 0 0 0 0 36 1 12 67 2 54 5 3 1 68 2 41 0 0 0 0 0 0 0 0 0 3 55 146 11 193 150 165 0 0 0 0 0 0 0 0 0 0 0 0 0 0 3 55 91 28 76 4 77 6 4 75 0 0 0 0 0 0 0 0 0 0 0 7 90 1 61 16 17 13 5 7 89 1 20 13 17 0 0 0 0 0 0 0 29 1 8 19 2 54 5 3 1 57 2 49 0 0 0 0 0 0 0 0 0 7 33 1 8 18 2 48 5 3 1 9 57 2 47 0 0 0 0 0 0 0 4 32 31 1 12 18 15 111 22 11 24 6 3 1 58 8 2 45 0 0 0 170 141 131 108 258 4 23 206 0 0 0 0 0 0 0 0 0 0 0 0 0 107 126 4 28 4 74 6 4 72 0 0 0 0 0 0 0 0 0 0 0 0 107 132 4 28 4 77 6 4 74 0 0 0 0 0 0 0 0 0 0 0 0 39 16 10 23 14 1 7 83 5 20 23 14 1 10 38 0 0 0 0 0 0 36 1 60 15 25 79 56 6 3 1 9 21 2 53 0 0 0 0 0 0 0 3 113 121 151 97 133 0 0 0 0 0 0 0 0 0 0 0 0 0 0 0 4 32 31 1 10 81 69 15 25 22 45 5 3 1 12 60 2 43 0 0 0 29 1 9 104 37 11 44 6 3 95 69 2 51 0 0 0 0 0 0 0 0 29 1 58 69 15 25 22 51 5 3 1 9 117 15 42 0 0 0 0 0 0 4 32 31 1 9 18 15 25 22 47 5 3 1 8 65 2 44 0 0 0 0 62 1 8 92 2 24 6 3 1 8 65 2 49 0 0 0 0 0 0 0 0 101 1 19 37 11 44 5 3 1 65 2 51 0 0 0 0 0 0 0 0 0 20 109 10 23 14 122 146 7 201 0 0 0 0 0 0 0 0 0 0 0 0 7 86 1 64 16 10 23 119 5 10 82 1 61 23 14 0 0 0 0 0 0 11 30 1 9 67 15 25 22 47 5 3 1 21 2 50 0 0 0 0 0 0 7 33 1 8 60 15 25 22 45 5 3 1 9 57 2 54 0 0 0 0 0 7 87 1 10 16 10 23 119 5 10 85 27 1 10 23 14 0 0 0 0 0 39 16 17 1 13 7 89 5 64 13 17 1 10 38 0 0 0 0 0 0 0 3 55 10 38 4 73 6 4 28 0 0 0 0 0 0 0 0 0 0 0 0 4 32 31 1 9 66 37 11 44 6 3 1 8 65 2 41 0 0 0 0 0 35 34 1 10 81 2 51 5 3 1 67 2 45 0 0 0 0 0 0 0 0 99 124 4 71 4 28 6 4 74 0 0 0 0 0 0 0 0 0 0 0 0 7 89 1 20 16 13 14 5 7 86 27 1 13 14 0 0 0 0 0 0 0 62 1 57 2 48 6 3 1 8 67 2 53 0 0 0 0 0 0 0 0 0 7 33 1 9 65 2 41 6 3 1 8 18 2 44 0 0 0 0 0 0 0 62 105 103 9 19 2 53 5 3 1 8 18 2 48 0 0 0 0 0 0 0 99 124 4 70 4 74 6 4 71 0 0 0 0 0 0 0 0 0 0 0 0 40 109 10 23 14 122 121 201 0 0 0 0 0 0 0 0 0 0 0 0 0 7 36 1 12 59 15 25 22 47 5 3 1 12 57 2 24 0 0 0 0 0 27 55 4 70 10 38 6 4 73 0 0 0 0 0 0 0 0 0 0 0 0 35 34 1 12 18 2 43 5 3 1 63 2 48 0 0 0 0 0 0 0 0 4 32 31 1 12 92 37 11 46 5 3 1 12 68 2 49 0 0 0 0 0 106 130 4 73 6 4 77 0 0 0 0 0 0 0 0 0 0 0 0 0 0 62 1 12 19 2 45 6 3 1 18 2 49 0 0 0 0 0 0 0 0 0 3 55 4 73 4 71 6 4 77 0 0 0 0 0 0 0 0 0 0 0 0 3 100 4 75 28 76 6 10 38 0 0 0 0 0 0 0 0 0 0 0 0 101 1 60 15 25 22 47 6 3 1 9 18 2 52 0 0 0 0 0 0 0 135 4 74 4 78 6 4 28 0 0 0 0 0 0 0 0 0 0 0 0 0 33 1 59 15 25 22 47 6 3 1 63 26 11 24 0 0 0 0 0 0 0 29 1 65 37 11 44 5 3 1 9 57 15 42 0 0 0 0 0 0 0 0 33 105 103 9 19 37 11 44 6 3 1 65 2 49 0 0 0 0 0 0 0 29 1 9 65 37 11 46 5 3 1 12 18 2 48 0 0 0 0 0 0 0 107 208 120 254 2 36 2 51 0 0 0 0 0 0 0 0 0 0 0 0 0 7 86 1 20 16 17 5 7 80 1 39 17 0 0 0 0 0 0 0 0 0 152 96 10 23 14 1 84 5 39 23 14 1 7 89 0 0 0 0 0 0 0 152 96 10 23 14 1 7 86 5 39 23 14 1 7 89 0 0 0 0 0 0 39 16 1 13 14 7 80 5 64 13 14 1 7 88 0 0 0 0 0 0 0 11 30 1 8 18 2 43 6 3 1 8 10 81 2 52 0 0 0 0 0 0 10 38 1 20 13 14 108 96 5 7 80 1 40 13 14 0 0 0 0 0 0 40 16 10 23 14 1 7 86 0 0 0 0 0 0 0 0 0 0 0 0 0 107 132 4 78 4 71 6 4 28 0 0 0 0 0 0 0 0 0 0 0 0 7 36 1 8 57 15 25 79 56 5 3 1 58 69 2 43 0 0 0 0 0 27 118 113 121 168 97 134 0 0 0 0 0 0 0 0 0 0 0 0 0 0 27 118 113 121 168 97 162 0 0 0 0 0 0 0 0 0 0 0 0 0 0 62 1 12 57 2 54 6 3 1 12 60 2 48 0 0 0 0 0 0 0 0 11 30 1 69 65 15 25 22 47 6 3 1 12 21 15 42 0 0 0 0 0 29 1 8 19 15 42 6 3 1 12 18 2 45 0 0 0 0 0 0 0 0 3 55 91 4 75 4 78 6 28 0 0 0 0 0 0 0 0 0 0 0 0 7 33 1 8 58 37 11 44 6 3 1 12 65 2 56 0 0 0 0 0 0 11 30 1 249 15 25 79 56 5 3 1 12 21 26 11 24 0 0 0 0 0 35 34 1 12 19 15 42 5 3 1 9 18 2 45 0 0 0 0 0 0 0 7 88 1 61 16 13 14 5 7 86 27 1 13 14 0 0 0 0 0 0 0 29 1 66 2 49 5 3 1 12 65 2 44 0 0 0 0 0 0 0 0 0 99 127 4 73 4 74 6 4 28 76 0 0 0 0 0 0 0 0 0 0 0 33 1 58 37 11 44 5 3 1 68 2 53 0 0 0 0 0 0 0 0 0 27 158 91 7 151 97 153 0 0 0 0 0 0 0 0 0 0 0 0 0 0 7 90 1 20 16 17 5 10 82 1 39 17 0 0 0 0 0 0 0 0 0 205 229 99 10 277 0 0 0 0 0 0 0 0 0 0 0 0 0 0 0 0 20 16 17 1 7 89 5 20 17 1 10 85 0 0 0 0 0 0 0 0 0 7 33 1 12 63 15 42 6 3 1 8 60 2 54 0 0 0 0 0 0 0 62 1 9 19 2 43 5 3 1 60 2 41 0 0 0 0 0 0 0 0 0 10 85 1 39 16 17 13 5 7 87 1 7 13 140 0 0 0 0 0 0 0 7 33 1 12 67 2 43 5 3 1 8 59 2 51 0 0 0 0 0 0 0 7 80 1 39 16 17 5 7 83 1 20 93 0 0 0 0 0 0 0 0 0 10 85 1 61 16 10 23 14 5 10 82 1 7 23 242 0 0 0 0 0 0 7 90 1 13 39 16 17 5 10 82 1 20 13 17 0 0 0 0 0 0 0 29 1 19 2 49 5 3 1 18 2 46 0 0 0 0 0 0 0 0 0 0 20 16 17 13 1 7 89 5 40 13 17 1 7 83 0 0 0 0 0 0 0 40 16 10 23 14 1 7 88 5 39 23 14 1 7 80 0 0 0 0 0 0 29 1 12 19 2 48 6 3 1 8 139 2 50 0 0 0 0 0 0 0 0 84 1 13 39 16 17 5 7 87 1 7 13 140 0 0 0 0 0 0 0 0 27 55 4 28 6 4 159 0 0 0 0 0 0 0 0 0 0 0 0 0 0 29 1 8 66 15 25 22 47 5 3 1 67 2 46 0 0 0 0 0 0 0 3 143 120 97 134 165 0 0 0 0 0 0 0 0 0 0 0 0 0 0 0 36 1 8 63 37 11 24 6 3 1 12 65 2 53 0 0 0 0 0 0 0 116 100 91 4 71 4 70 6 4 28 76 0 0 0 0 0 0 0 0 0 0 62 1 12 18 2 41 5 3 1 8 57 2 52 0 0 0 0 0 0 0 0 7 33 1 104 15 25 22 47 6 3 1 60 2 48 0 0 0 0 0 0 0 62 1 8 59 2 43 5 3 1 66 2 53 0 0 0 0 0 0 0 0 0 7 33 1 8 104 2 53 6 3 1 57 9 26 11 24 0 0 0 0 0 0 35 34 1 8 18 2 49 5 3 1 8 57 2 24 0 0 0 0 0 0 0 7 33 1 12 92 2 50 5 3 95 69 2 51 0 0 0 0 0 0 0 0 106 130 4 74 6 4 72 0 0 0 0 0 0 0 0 0 0 0 0 0 0 4 32 31 1 8 60 2 54 5 3 1 12 18 2 53 0 0 0 0 0 0 4 32 31 1 112 2 54 6 3 1 68 2 51 0 0 0 0 0 0 0 0 27 94 4 73 4 28 76 6 72 0 0 0 0 0 0 0 0 0 0 0 0 29 1 8 18 2 53 6 3 103 19 2 47 0 0 0 0 0 0 0 0 0 99 240 123 2 36 2 52 114 0 0 0 0 0 0 0 0 0 0 0 0 0 39 16 17 1 84 5 20 17 1 7 87 0 0 0 0 0 0 0 0 0 0 7 62 1 8 10 81 2 43 6 3 1 12 68 2 46 0 0 0 0 0 0 29 1 12 68 15 42 5 3 1 65 2 46 0 0 0 0 0 0 0 0 0 101 1 58 69 26 98 6 3 1 9 19 2 49 0 0 0 0 0 0 0 0 20 109 10 23 156 122 10 221 0 0 0 0 0 0 0 0 0 0 0 0 0 27 94 115 110 182 169 0 0 0 0 0 0 0 0 0 0 0 0 0 0 0 7 62 1 9 58 15 42 5 3 1 8 66 2 41 0 0 0 0 0 0 0 35 34 1 9 10 81 37 11 44 5 3 1 112 2 47 0 0 0 0 0 0 7 87 1 61 16 13 14 5 10 82 1 40 13 14 0 0 0 0 0 0 0 35 34 1 10 81 37 11 24 6 3 1 63 2 46 0 0 0 0 0 0 0 62 1 63 15 25 79 56 6 3 1 12 21 2 50 0 0 0 0 0 0 0 135 4 73 4 159 6 4 71 0 0 0 0 0 0 0 0 0 0 0 0 0 11 30 1 10 81 69 2 50 6 3 1 9 57 2 56 0 0 0 0 0 0 7 87 1 7 13 14 108 96 5 7 90 1 40 13 14 0 0 0 0 0 0 116 100 91 4 75 4 78 6 28 0 0 0 0 0 0 0 0 0 0 0 0 27 55 4 77 4 71 6 4 78 0 0 0 0 0 0 0 0 0 0 0 0 106 128 91 4 77 4 78 6 4 74 0 0 0 0 0 0 0 0 0 0 0 7 33 1 8 18 15 42 6 3 1 59 2 54 0 0 0 0 0 0 0 0 35 34 1 8 66 2 54 5 3 1 12 18 2 51 0 0 0 0 0 0 0 7 86 1 61 16 17 13 5 7 87 1 64 13 140 0 0 0 0 0 0 0 20 16 17 1 13 10 82 5 40 13 17 1 10 38 0 0 0 0 0 0 0 4 32 31 1 8 66 2 48 6 3 1 12 21 2 41 0 0 0 0 0 0 62 1 8 21 2 45 6 3 103 19 2 53 0 0 0 0 0 0 0 0 0 3 158 91 144 110 166 154 0 0 0 0 0 0 0 0 0 0 0 0 0 0 3 178 22 136 29 15 42 0 0 0 0 0 0 0 0 0 0 0 0 0 0 10 82 1 40 16 10 23 14 5 7 87 1 7 23 242 0 0 0 0 0 0 40 16 17 1 13 7 88 5 64 13 17 1 7 80 0 0 0 0 0 0 0 62 1 9 104 26 98 6 3 1 19 2 44 0 0 0 0 0 0 0 0 0 29 1 12 63 2 45 6 3 1 8 21 2 52 0 0 0 0 0 0 0 0 152 96 10 23 14 1 10 38 5 40 23 14 1 84 0 0 0 0 0 0 0 39 109 17 1 13 10 221 0 0 0 0 0 0 0 0 0 0 0 0 0 0 7 87 1 10 16 10 23 14 64 5 10 82 1 39 23 14 0 0 0 0 0 4 32 31 1 8 66 2 49 6 3 1 12 68 2 51 0 0 0 0 0 0 11 30 1 12 19 37 11 24 6 3 1 9 65 2 54 0 0 0 0 0 0 62 1 66 2 50 6 3 1 9 57 2 45 0 0 0 0 0 0 0 0 0 4 32 31 1 67 26 98 6 3 1 12 18 2 43 0 0 0 0 0 0 0 27 55 10 184 110 133 0 0 0 0 0 0 0 0 0 0 0 0 0 0 0 7 33 1 12 67 2 49 5 3 1 65 2 46 0 0 0 0 0 0 0 0 7 87 1 40 13 14 108 96 5 84 27 1 13 14 0 0 0 0 0 0 0 20 16 1 13 14 10 85 5 39 13 14 1 10 38 0 0 0 0 0 0 0 3 94 4 28 4 74 6 4 70 0 0 0 0 0 0 0 0 0 0 0 0 27 1 234 2 48 142 2 62 0 0 0 0 0 0 0 0 0 0 0 0 0 7 33 1 8 59 2 52 5 3 1 9 117 2 41 0 0 0 0 0 0 0 35 34 1 10 81 69 15 25 22 51 6 3 1 9 68 2 56 0 0 0 0 11 30 1 12 60 2 50 6 3 1 57 2 43 0 0 0 0 0 0 0 0 11 30 1 9 26 63 15 42 5 3 1 19 2 43 0 0 0 0 0 0 0 61 16 17 1 7 83 5 20 17 1 10 38 0 0 0 0 0 0 0 0 0 152 96 10 23 14 1 10 85 5 64 23 14 1 7 90 0 0 0 0 0 0 101 1 12 59 2 51 5 3 1 18 2 49 0 0 0 0 0 0 0 0 0 29 1 66 15 42 5 3 1 58 2 45 0 0 0 0 0 0 0 0 0 0 101 1 9 60 2 43 5 9 22 102 26 11 24 0 0 0 0 0 0 0 0 7 33 1 12 59 2 51 6 3 1 9 104 26 11 24 0 0 0 0 0 0 29 1 21 26 98 6 3 1 8 67 2 48 0 0 0 0 0 0 0 0 0 7 33 1 8 18 2 46 6 3 1 8 60 2 50 0 0 0 0 0 0 0 29 1 9 22 102 2 52 6 3 1 8 68 15 42 0 0 0 0 0 0 0 64 16 17 1 7 90 5 39 17 1 10 82 0 0 0 0 0 0 0 0 0 27 55 4 77 4 71 6 4 72 0 0 0 0 0 0 0 0 0 0 0 0 3 55 91 6 28 76 298 0 0 0 0 0 0 0 0 0 0 0 0 0 0 35 34 1 9 60 2 54 5 3 1 9 117 2 49 0 0 0 0 0 0 0 29 1 12 65 2 45 6 3 1 12 57 26 11 24 0 0 0 0 0 0 0 4 32 31 1 65 2 51 6 3 1 8 58 2 41 0 0 0 0 0 0 0 7 33 1 12 19 2 50 6 3 1 12 57 2 24 0 0 0 0 0 0 0 3 158 91 121 97 134 154 0 0 0 0 0 0 0 0 0 0 0 0 0 0 4 32 31 1 9 63 2 48 6 3 1 12 60 2 49 0 0 0 0 0 0 10 85 1 39 16 13 14 5 7 80 27 1 13 14 0 0 0 0 0 0 0 20 109 10 23 14 122 146 218 0 0 0 0 0 0 0 0 0 0 0 0 0 4 32 31 1 9 21 15 25 22 51 6 3 1 12 57 2 56 0 0 0 0 3 94 4 28 28 76 6 4 75 0 0 0 0 0 0 0 0 0 0 0 0 64 16 17 1 7 86 0 0 0 0 0 0 0 0 0 0 0 0 0 0 0 10 82 1 20 16 17 13 5 10 85 1 40 17 13 0 0 0 0 0 0 0 7 62 1 9 10 81 15 42 5 3 157 26 11 24 0 0 0 0 0 0 0 106 130 4 74 4 72 6 4 73 0 0 0 0 0 0 0 0 0 0 0 0 29 1 8 19 2 51 5 9 108 177 2 50 0 0 0 0 0 0 0 0 0 29 1 8 21 15 25 22 51 5 3 1 19 26 11 24 0 0 0 0 0 0 4 32 31 1 18 15 25 22 47 6 3 1 57 2 51 0 0 0 0 0 0 135 4 74 4 71 6 4 72 0 0 0 0 0 0 0 0 0 0 0 0 0 35 34 1 8 66 2 52 5 3 1 57 2 45 0 0 0 0 0 0 0 0 20 16 10 23 14 1 10 85 5 64 23 14 1 84 0 0 0 0 0 0 0 7 33 1 8 21 37 11 24 5 3 1 9 21 2 50 0 0 0 0 0 0 33 1 59 2 51 6 3 1 9 21 2 53 0 0 0 0 0 0 0 0 0 29 1 10 81 69 2 41 6 3 1 8 19 2 56 0 0 0 0 0 0 0 35 34 1 18 26 98 5 3 1 9 18 2 48 0 0 0 0 0 0 0 0 33 1 63 2 48 5 3 1 112 15 25 79 56 0 0 0 0 0 0 0 0 10 85 1 61 16 10 23 119 5 10 38 1 10 23 14 0 0 0 0 0 0 99 127 38 28 76 6 4 28 0 0 0 0 0 0 0 0 0 0 0 0 0 29 1 67 37 11 46 5 3 1 8 21 26 11 24 0 0 0 0 0 0 0 29 1 8 63 37 11 24 5 3 1 12 60 15 42 0 0 0 0 0 0 0 7 36 1 58 69 37 11 44 5 3 1 8 63 26 11 24 0 0 0 0 0 152 96 10 23 14 1 84 5 39 23 14 1 7 83 0 0 0 0 0 0 0 27 55 4 73 4 72 6 4 74 0 0 0 0 0 0 0 0 0 0 0 0 29 1 9 59 26 98 5 3 1 9 19 2 48 0 0 0 0 0 0 0 0 40 16 17 1 7 86 5 20 93 1 7 88 0 0 0 0 0 0 0 0 0 29 1 9 65 2 49 6 3 1 8 137 2 48 0 0 0 0 0 0 0 0 64 16 17 1 13 7 80 5 20 13 17 1 7 89 0 0 0 0 0 0 0 4 32 31 1 19 37 11 24 5 3 1 12 57 2 45 0 0 0 0 0 0 3 160 171 1 198 22 164 189 250 11 185 0 0 0 0 0 0 0 0 0 0 11 30 1 10 81 69 37 11 46 6 3 1 63 2 43 0 0 0 0 0 0 7 33 1 9 68 2 54 5 3 1 19 2 46 0 0 0 0 0 0 0 0 235 294 116 26 29 0 0 0 0 0 0 0 0 0 0 0 0 0 0 0 0 7 33 1 12 68 15 25 22 51 5 3 95 2 48 0 0 0 0 0 0 0 27 160 146 303 197 22 164 189 15 186 0 0 0 0 0 0 0 0 0 0 0 99 124 4 77 4 74 6 4 78 0 0 0 0 0 0 0 0 0 0 0 0 29 1 8 92 2 54 5 3 1 8 65 26 11 24 0 0 0 0 0 0 0 62 1 65 2 51 6 3 1 58 69 2 50 0 0 0 0 0 0 0 0 0 11 30 1 9 104 26 98 6 3 1 9 66 2 51 0 0 0 0 0 0 0 101 1 9 59 37 11 46 6 3 157 2 52 0 0 0 0 0 0 0 0 0 7 36 1 10 81 69 37 11 46 5 3 1 58 2 49 0 0 0 0 0 0 61 13 14 16 1 7 86 5 39 13 14 1 7 89 0 0 0 0 0 0 0 11 30 1 9 60 2 48 6 3 95 9 2 44 0 0 0 0 0 0 0 0 11 30 1 8 137 15 25 79 56 6 3 1 12 21 2 49 0 0 0 0 0 36 1 9 58 37 11 44 6 3 1 63 26 11 24 0 0 0 0 0 0 0 10 38 1 64 16 13 14 5 7 90 27 1 13 14 0 0 0 0 0 0 0 33 1 67 15 42 5 3 1 12 19 2 54 0 0 0 0 0 0 0 0 0 10 38 1 20 16 10 23 14 5 7 90 27 1 10 23 14 0 0 0 0 0 27 55 10 38 4 78 6 4 28 0 0 0 0 0 0 0 0 0 0 0 0 27 145 120 151 97 150 0 0 0 0 0 0 0 0 0 0 0 0 0 0 0 3 55 4 70 4 77 6 10 38 0 0 0 0 0 0 0 0 0 0 0 0 11 30 1 8 18 2 45 6 3 1 9 63 2 50 0 0 0 0 0 0 0 129 96 10 23 14 1 10 38 5 40 23 14 1 7 90 0 0 0 0 0 0 61 16 17 1 13 10 85 5 64 13 93 1 7 90 0 0 0 0 0 0 0 36 1 21 15 25 22 45 6 3 1 9 57 2 49 0 0 0 0 0 0 0 29 1 8 92 2 50 5 3 1 12 68 2 48 0 0 0 0 0 0 0 0 20 16 17 13 1 7 90 5 39 17 13 1 7 80 0 0 0 0 0 0 0 27 55 4 70 4 78 6 4 28 0 0 0 0 0 0 0 0 0 0 0 0 35 34 1 9 117 2 52 5 3 1 59 15 42 0 0 0 0 0 0 0 0 36 1 21 15 25 22 45 5 3 1 9 21 2 43 0 0 0 0 0 0 0 7 33 1 9 58 37 11 44 5 3 1 12 18 2 54 0 0 0 0 0 0 40 16 17 1 10 85 5 64 93 1 7 80 0 0 0 0 0 0 0 0 0 4 32 31 1 9 21 2 52 5 3 1 65 2 44 0 0 0 0 0 0 0 152 96 10 23 14 1 10 85 5 39 23 14 1 7 86 0 0 0 0 0 0 27 94 4 70 6 4 78 0 0 0 0 0 0 0 0 0 0 0 0 0 0 35 34 1 12 67 2 48 5 3 1 18 15 42 0 0 0 0 0 0 0 0 7 86 1 20 13 14 108 96 5 7 90 1 64 13 14 0 0 0 0 0 0 11 30 1 8 57 15 25 22 45 5 3 1 9 125 2 52 0 0 0 0 0 4 257 131 170 141 4 13 175 0 0 0 0 0 0 0 0 0 0 0 0 0 7 90 1 39 13 14 108 96 5 7 83 1 20 13 14 0 0 0 0 0 0 10 85 1 7 13 14 108 96 5 7 90 1 40 13 14 0 0 0 0 0 0 4 32 31 1 58 8 2 53 6 3 1 12 67 2 52 0 0 0 0 0 0 7 33 1 12 18 15 42 6 3 1 12 92 26 11 24 0 0 0 0 0 0 116 160 146 7 194 161 10 187 6 10 186 1 196 0 0 0 0 0 0 0 0 99 127 4 71 28 76 6 4 77 0 0 0 0 0 0 0 0 0 0 0 0 115 217 122 40 109 10 23 14 0 0 0 0 0 0 0 0 0 0 0 0 0 27 94 10 110 133 169 0 0 0 0 0 0 0 0 0 0 0 0 0 0 0 36 1 9 10 81 37 11 44 6 3 1 69 21 2 51 0 0 0 0 0 0 20 16 17 1 7 89 0 0 0 0 0 0 0 0 0 0 0 0 0 0 0 10 82 1 39 16 17 13 5 7 89 1 61 13 17 0 0 0 0 0 0 0 29 1 8 18 2 49 5 3 1 8 65 2 53 0 0 0 0 0 0 0 0 29 1 12 65 2 52 5 3 1 12 19 2 47 0 0 0 0 0 0 0 0 20 16 17 1 7 87 5 40 93 1 7 89 0 0 0 0 0 0 0 0 0 61 16 17 1 7 90 5 20 17 1 7 80 0 0 0 0 0 0 0 0 0 36 1 8 67 2 49 5 3 1 12 60 15 42 0 0 0 0 0 0 0 0 7 33 1 60 2 53 5 3 1 8 19 2 43 0 0 0 0 0 0 0 0 29 1 9 10 81 2 53 6 3 1 8 18 2 48 0 0 0 0 0 0 0 35 34 1 9 63 2 52 6 3 1 9 68 2 53 0 0 0 0 0 0 0 27 55 120 147 97 162 0 0 0 0 0 0 0 0 0 0 0 0 0 0 0 3 100 4 72 4 74 6 4 28 76 0 0 0 0 0 0 0 0 0 0 0 4 32 31 1 249 26 98 5 3 1 8 66 2 47 0 0 0 0 0 0 0 11 30 1 249 15 25 22 48 5 3 1 12 63 26 11 24 0 0 0 0 0 7 80 1 20 16 17 13 5 7 89 1 39 17 13 0 0 0 0 0 0 0 36 1 9 22 225 26 98 6 3 1 8 21 15 42 0 0 0 0 0 0 0 29 1 63 37 11 46 6 3 1 21 26 11 24 0 0 0 0 0 0 0 0 20 16 17 1 13 10 82 5 20 13 17 1 7 83 0 0 0 0 0 0 0 11 30 1 69 65 15 25 22 47 6 3 1 9 60 2 53 0 0 0 0 0 29 1 8 57 2 53 5 3 1 9 26 63 2 54 0 0 0 0 0 0 0 27 94 4 28 28 76 6 4 77 0 0 0 0 0 0 0 0 0 0 0 0 3 55 4 28 4 71 6 4 75 0 0 0 0 0 0 0 0 0 0 0 0 11 30 1 9 67 37 11 46 5 3 1 8 57 2 54 0 0 0 0 0 0 4 32 31 1 12 59 26 98 5 3 1 8 67 2 54 0 0 0 0 0 0 62 1 8 63 2 50 6 3 1 9 18 15 42 0 0 0 0 0 0 0 0 27 55 91 28 76 4 75 6 4 78 0 0 0 0 0 0 0 0 0 0 0 35 34 1 57 2 54 6 3 1 9 22 102 2 53 0 0 0 0 0 0 0 4 32 31 105 131 9 190 2 49 6 3 1 9 19 2 44 0 0 0 0 0 99 124 4 28 4 78 6 4 70 0 0 0 0 0 0 0 0 0 0 0 0 3 55 91 120 168 97 150 0 0 0 0 0 0 0 0 0 0 0 0 0 0 62 1 8 68 2 41 5 3 1 8 65 2 51 0 0 0 0 0 0 0 0 27 94 4 28 38 6 4 70 0 0 0 0 0 0 0 0 0 0 0 0 0 27 94 4 78 4 72 6 10 38 0 0 0 0 0 0 0 0 0 0 0 0 29 1 9 21 15 25 22 51 6 3 1 57 9 2 44 0 0 0 0 0 0 35 34 1 104 2 48 6 3 1 65 2 52 0 0 0 0 0 0 0 0 0 7 87 1 40 16 10 23 14 5 10 85 27 1 10 23 14 0 0 0 0 0 39 13 14 108 96 1 7 87 5 61 13 14 1 7 90 0 0 0 0 0 0 27 55 7 168 97 155 0 0 0 0 0 0 0 0 0 0 0 0 0 0 0 20 16 1 13 14 10 82 5 27 1 13 14 7 86 0 0 0 0 0 0 0 101 1 9 60 2 53 5 3 1 9 19 15 42 0 0 0 0 0 0 0 0 35 34 1 12 57 2 41 5 3 1 8 58 2 53 0 0 0 0 0 0 0 4 32 31 1 12 18 26 98 6 3 1 8 10 81 2 48 0 0 0 0 0 7 89 1 64 16 17 5 10 38 1 40 93 0 0 0 0 0 0 0 0 0 106 130 10 38 6 4 74 0 0 0 0 0 0 0 0 0 0 0 0 0 0 27 180 173 32 31 2 43 114 0 0 0 0 0 0 0 0 0 0 0 0 0 205 131 99 91 123 2 33 0 0 0 0 0 0 0 0 0 0 0 0 0 0 35 34 1 8 65 2 53 5 3 1 67 15 42 0 0 0 0 0 0 0 0 7 36 1 8 19 37 11 44 5 3 1 9 57 2 51 0 0 0 0 0 0 101 1 60 15 25 22 45 5 3 1 8 65 15 42 0 0 0 0 0 0 0 29 1 8 65 37 11 44 6 3 1 9 21 26 11 24 0 0 0 0 0 0 33 1 66 37 11 44 6 3 1 9 63 2 48 0 0 0 0 0 0 0 0 29 1 8 18 2 45 6 3 1 67 2 52 0 0 0 0 0 0 0 0 0 20 16 17 13 1 7 80 5 20 13 17 1 10 82 0 0 0 0 0 0 0 255 122 40 254 26 29 2 51 142 0 0 0 0 0 0 0 0 0 0 0 0 101 1 8 67 15 25 22 47 5 3 1 12 18 2 45 0 0 0 0 0 0 29 1 12 19 15 111 285 42 6 3 1 8 21 2 48 0 0 0 0 0 0 11 30 1 9 66 37 11 44 6 3 1 12 57 2 51 0 0 0 0 0 0 7 33 1 8 63 37 11 24 6 3 1 8 10 81 2 52 0 0 0 0 0 27 143 120 148 97 150 0 0 0 0 0 0 0 0 0 0 0 0 0 0 0 36 1 9 66 15 25 22 51 5 3 1 12 92 26 11 24 0 0 0 0 0 20 16 17 13 1 7 80 5 39 17 13 1 7 87 0 0 0 0 0 0 0 27 94 4 71 4 73 6 4 77 0 0 0 0 0 0 0 0 0 0 0 0 116 100 91 4 77 10 38 6 4 70 0 0 0 0 0 0 0 0 0 0 0 7 33 1 8 92 26 98 6 3 1 8 10 81 2 50 0 0 0 0 0 0 3 94 4 71 4 78 6 4 70 0 0 0 0 0 0 0 0 0 0 0 0 35 34 1 12 18 2 24 5 3 1 58 69 2 46 0 0 0 0 0 0 0 35 34 1 19 15 25 22 47 6 3 1 9 58 2 54 0 0 0 0 0 0 4 32 31 1 58 8 2 50 5 3 1 9 60 26 11 24 0 0 0 0 0 3 143 115 184 110 182 0 0 0 0 0 0 0 0 0 0 0 0 0 0 0 106 130 4 70 4 77 6 4 28 0 0 0 0 0 0 0 0 0 0 0 0 11 30 1 9 117 2 53 6 3 1 8 19 2 43 0 0 0 0 0 0 0 62 1 63 37 11 46 5 3 1 9 18 2 49 0 0 0 0 0 0 0 0 3 94 4 28 4 74 6 4 72 0 0 0 0 0 0 0 0 0 0 0 0 106 128 91 4 72 4 73 6 10 38 0 0 0 0 0 0 0 0 0 0 0 4 32 31 1 12 63 37 11 24 5 3 1 12 18 2 51 0 0 0 0 0 84 1 64 16 17 5 7 83 1 39 17 0 0 0 0 0 0 0 0 0 0 7 80 1 20 16 17 13 5 7 90 1 64 13 140 0 0 0 0 0 0 0 11 30 1 9 7 102 2 50 5 3 1 8 19 2 46 0 0 0 0 0 0 7 86 1 64 16 17 13 5 7 89 1 40 17 13 0 0 0 0 0 0 0 27 55 4 71 4 73 6 4 74 0 0 0 0 0 0 0 0 0 0 0 0 3 55 91 10 200 110 176 0 0 0 0 0 0 0 0 0 0 0 0 0 0 4 32 31 1 12 66 2 49 6 3 1 9 68 2 45 0 0 0 0 0 0 36 1 9 60 2 45 6 3 1 18 2 46 0 0 0 0 0 0 0 0 0 10 82 1 40 16 10 23 14 5 7 87 1 64 23 14 0 0 0 0 0 0 10 82 1 39 13 14 108 96 5 10 38 1 20 13 14 0 0 0 0 0 0 29 1 12 18 15 25 79 56 6 3 1 12 18 2 45 0 0 0 0 0 0 106 130 10 38 4 73 6 4 74 0 0 0 0 0 0 0 0 0 0 0 0 11 30 1 58 2 24 6 3 1 9 66 2 56 0 0 0 0 0 0 0 0 99 124 4 73 10 38 6 4 70 0 0 0 0 0 0 0 0 0 0 0 0 7 83 1 7 13 14 108 96 5 7 80 1 39 13 14 0 0 0 0 0 0 35 34 1 9 63 15 111 22 11 24 5 3 1 8 66 2 46 0 0 0 0 29 1 8 18 2 50 6 3 1 60 2 54 0 0 0 0 0 0 0 0 0 11 30 1 12 57 2 45 6 3 1 8 67 2 48 0 0 0 0 0 0 0 20 16 10 23 14 1 10 85 5 64 23 14 1 84 0 0 0 0 0 0 0 35 34 1 8 18 2 46 5 3 1 12 19 2 45 0 0 0 0 0 0 0 7 80 1 39 13 14 108 96 5 7 88 1 64 13 14 0 0 0 0 0 0 7 33 1 9 104 26 98 6 3 1 69 21 2 50 0 0 0 0 0 0 0 11 30 1 8 18 2 51 6 3 1 8 60 2 56 0 0 0 0 0 0 0 3 143 121 147 97 153 0 0 0 0 0 0 0 0 0 0 0 0 0 0 0 3 100 4 74 4 72 6 10 38 0 0 0 0 0 0 0 0 0 0 0 0 11 30 1 12 19 2 53 5 3 1 9 125 2 41 0 0 0 0 0 0 0 7 86 1 61 16 17 5 7 83 1 39 17 0 0 0 0 0 0 0 0 0 61 16 17 1 7 90 5 39 17 1 84 0 0 0 0 0 0 0 0 0 0 36 1 8 18 2 52 5 3 1 9 63 2 51 0 0 0 0 0 0 0 0 7 33 1 8 137 2 52 5 3 1 19 15 42 0 0 0 0 0 0 0 0 3 55 4 74 4 77 6 4 70 0 0 0 0 0 0 0 0 0 0 0 0 4 32 31 1 8 19 37 11 24 5 3 1 8 18 26 11 24 0 0 0 0 3 145 120 97 134 174 0 0 0 0 0 0 0 0 0 0 0 0 0 0 0 7 36 1 58 12 15 25 22 47 5 3 1 12 59 2 56 0 0 0 0 0 35 34 1 8 19 15 25 79 56 5 3 1 18 2 54 0 0 0 0 0 0 27 94 4 28 4 74 6 4 73 0 0 0 0 0 0 0 0 0 0 0 0 7 89 1 20 16 17 5 10 85 1 61 17 0 0 0 0 0 0 0 0 0 39 16 10 23 14 1 10 82 5 40 23 14 1 7 90 0 0 0 0 0 0 38 131 191 96 4 23 206 0 0 0 0 0 0 0 0 0 0 0 0 0 0 27 247 121 147 97 153 0 0 0 0 0 0 0 0 0 0 0 0 0 0 0 4 32 31 1 8 104 15 111 22 11 24 6 3 95 9 2 46 0 0 0 0 27 94 4 75 4 74 6 4 78 0 0 0 0 0 0 0 0 0 0 0 0 62 1 21 2 49 6 3 1 8 67 2 46 0 0 0 0 0 0 0 0 0 36 1 8 66 2 48 5 9 22 102 2 56 0 0 0 0 0 0 0 0 0 35 34 1 12 92 2 50 6 3 95 69 15 42 0 0 0 0 0 0 0 0 39 16 17 1 7 86 5 20 93 1 84 0 0 0 0 0 0 0 0 0 0 11 30 1 9 104 37 11 44 6 3 1 12 60 2 50 0 0 0 0 0 0 27 55 4 74 4 73 6 4 72 0 0 0 0 0 0 0 0 0 0 0 0 4 32 31 1 60 15 25 22 47 6 3 1 8 65 2 45 0 0 0 0 0 36 1 9 22 102 2 45 6 3 1 9 68 26 11 24 0 0 0 0 0 0 27 55 4 77 6 4 74 0 0 0 0 0 0 0 0 0 0 0 0 0 0 3 55 4 78 4 74 6 4 71 0 0 0 0 0 0 0 0 0 0 0 0 3 55 4 77 4 75 6 4 28 76 0 0 0 0 0 0 0 0 0 0 0 7 36 1 8 10 81 37 11 24 5 3 1 8 68 15 42 0 0 0 0 0 11 30 1 67 2 52 5 3 1 8 19 2 49 0 0 0 0 0 0 0 0 35 34 1 9 58 2 49 6 3 1 65 2 52 0 0 0 0 0 0 0 0 129 96 10 23 14 1 10 82 5 39 23 14 1 7 83 0 0 0 0 0 0 4 32 31 1 58 15 25 22 48 5 3 1 12 65 2 46 0 0 0 0 0 20 16 17 13 1 7 90 5 61 13 17 1 84 0 0 0 0 0 0 0 0 106 128 91 4 78 4 70 6 10 38 0 0 0 0 0 0 0 0 0 0 0 84 1 40 16 13 14 5 7 86 27 1 13 14 0 0 0 0 0 0 0 0 3 100 4 73 4 159 6 4 75 0 0 0 0 0 0 0 0 0 0 0 0 3 1 198 22 164 2 186 187 0 0 0 0 0 0 0 0 0 0 0 0 0 4 32 31 1 9 22 102 15 25 22 47 5 3 1 8 66 15 42 0 0 0\n\t [[node sparse_categorical_crossentropy/SparseSoftmaxCrossEntropyWithLogits/SparseSoftmaxCrossEntropyWithLogits (defined at <ipython-input-11-7412ccff5269>:35) ]] [Op:__inference_test_function_4479]\n\nFunction call stack:\ntest_function\n"
     ]
    }
   ],
   "source": [
    "\n",
    "def simple_model(input_shape, output_sequence_length, english_vocab_size, french_vocab_size):\n",
    "    \"\"\"\n",
    "    Build and train a basic RNN on x and y\n",
    "    :param input_shape: Tuple of input shape\n",
    "    :param output_sequence_length: Length of output sequence\n",
    "    :param english_vocab_size: Number of unique English words in the dataset\n",
    "    :param french_vocab_size: Number of unique French words in the dataset\n",
    "    :return: Keras model built, but not trained\n",
    "    \"\"\"\n",
    "    num_units=100\n",
    "    learning_rate=1e-2\n",
    "    # TODO: Build the layers\n",
    "    model = Sequential()\n",
    "    model.add(GRU(num_units, return_sequences=True, input_shape=input_shape[1:]))\n",
    "    model.add(Dense(french_vocab_size))\n",
    "    model.add(Activation('softmax'))\n",
    "    model.compile(loss=sparse_categorical_crossentropy,\n",
    "                  optimizer=Adam(learning_rate),\n",
    "                  metrics=['accuracy'])\n",
    "    return model\n",
    "tests.test_simple_model(simple_model)\n",
    "\n",
    "# Reshaping the input to work with a basic RNN\n",
    "tmp_x = pad(preproc_english_sentences, max_french_sequence_length)\n",
    "tmp_x = tmp_x.reshape((-1, preproc_french_sentences.shape[-2], 1))\n",
    "\n",
    "# Train the neural network\n",
    "simple_rnn_model = simple_model(\n",
    "    tmp_x.shape,\n",
    "    max_french_sequence_length,\n",
    "    english_vocab_size,\n",
    "    french_vocab_size)\n",
    "simple_rnn_model.fit(\n",
    "    tmp_x, preproc_french_sentences, batch_size=1024, \n",
    "    epochs=30, validation_split=0.2)\n",
    "\n",
    "# Print prediction(s)\n",
    "print(logits_to_text(\n",
    "    simple_rnn_model.predict(tmp_x[:1])[0], \n",
    "    french_tokenizer))"
   ]
  },
  {
   "cell_type": "markdown",
   "metadata": {},
   "source": [
    "### Model 2: Embedding (IMPLEMENTATION)\n",
    "![RNN](images/embedding.png)\n",
    "You've turned the words into ids, but there's a better representation of a word.  This is called word embeddings.  An embedding is a vector representation of the word that is close to similar words in n-dimensional space, where the n represents the size of the embedding vectors.\n",
    "\n",
    "In this model, you'll create a RNN model using embedding."
   ]
  },
  {
   "cell_type": "code",
   "execution_count": null,
   "metadata": {},
   "outputs": [],
   "source": [
    "tmp_x.shape"
   ]
  },
  {
   "cell_type": "code",
   "execution_count": null,
   "metadata": {},
   "outputs": [],
   "source": [
    "def embed_model(input_shape, output_sequence_length, \n",
    "                english_vocab_size, french_vocab_size):\n",
    "    \"\"\"\n",
    "    Build and train a RNN model using word embedding on x and y\n",
    "    :param input_shape: Tuple of input shape\n",
    "    :param output_sequence_length: Length of output sequence\n",
    "    :param english_vocab_size: Number of unique English words in the dataset\n",
    "    :param french_vocab_size: Number of unique French words in the dataset\n",
    "    :return: Keras model built, but not trained\n",
    "    \"\"\"\n",
    "    # TODO: Implement\n",
    "    num_units=64\n",
    "    learning_rate=1e-2\n",
    "    embedding_size=10\n",
    "    model = Sequential()\n",
    "    model.add(Embedding(\n",
    "        input_dim=english_vocab_size+1,output_dim=embedding_size,\n",
    "        input_shape=input_shape[1:]\n",
    "    ))\n",
    "    model.add(GRU(\n",
    "        num_units, return_sequences=True\n",
    "        ))\n",
    "    model.add(Dense(french_vocab_size))\n",
    "    model.add(Activation('softmax'))\n",
    "    model.compile(loss=sparse_categorical_crossentropy,\n",
    "                  optimizer=Adam(learning_rate),\n",
    "                  metrics=['accuracy'])\n",
    "    \n",
    "    return model\n",
    "tests.test_embed_model(embed_model)\n",
    "\n",
    "# TODO: Reshape the input\n",
    "tmp_x = pad(preproc_english_sentences, max_french_sequence_length)\n",
    "# tmp_x = tmp_x.reshape((-1, preproc_french_sentences.shape[-2]))\n",
    "print(tmp_x.shape)\n",
    "\n",
    "# TODO: Train the neural network\n",
    "embed_rnn_model = embed_model(\n",
    "    tmp_x.shape,\n",
    "    max_french_sequence_length,\n",
    "    english_vocab_size,\n",
    "    french_vocab_size)\n",
    "\n",
    "embed_rnn_model.fit(\n",
    "    tmp_x, preproc_french_sentences, batch_size=1024, epochs=15,\n",
    "    validation_split=0.2)\n",
    "\n",
    "# TODO: Print prediction(s)\n",
    "print(logits_to_text(\n",
    "    embed_rnn_model.predict(tmp_x[:1])[0], french_tokenizer))"
   ]
  },
  {
   "cell_type": "code",
   "execution_count": null,
   "metadata": {},
   "outputs": [],
   "source": [
    "print(french_sentences[0])"
   ]
  },
  {
   "cell_type": "markdown",
   "metadata": {},
   "source": [
    "### Model 3: Bidirectional RNNs (IMPLEMENTATION)\n",
    "![RNN](images/bidirectional.png)\n",
    "One restriction of a RNN is that it can't see the future input, only the past.  This is where bidirectional recurrent neural networks come in.  They are able to see the future data."
   ]
  },
  {
   "cell_type": "code",
   "execution_count": null,
   "metadata": {},
   "outputs": [],
   "source": [
    "def bd_model(input_shape, output_sequence_length, \n",
    "             english_vocab_size, french_vocab_size):\n",
    "    \"\"\"\n",
    "    Build and train a bidirectional RNN model on x and y\n",
    "    :param input_shape: Tuple of input shape\n",
    "    :param output_sequence_length: Length of output sequence\n",
    "    :param english_vocab_size: Number of unique English words in the dataset\n",
    "    :param french_vocab_size: Number of unique French words in the dataset\n",
    "    :return: Keras model built, but not trained\n",
    "    \"\"\"\n",
    "    # TODO: Implement\n",
    "    num_units=100\n",
    "    learning_rate=1e-2\n",
    "    # TODO: Build the layers\n",
    "    model = Sequential()\n",
    "    model.add(\n",
    "        Bidirectional(GRU(num_units, return_sequences=True),\n",
    "                      input_shape=input_shape[1:])\n",
    "    )\n",
    "    model.add(Dense(french_vocab_size))\n",
    "    model.add(Activation('softmax'))\n",
    "    model.compile(loss=sparse_categorical_crossentropy,\n",
    "                  optimizer=Adam(learning_rate),\n",
    "                  metrics=['accuracy'])\n",
    "    \n",
    "    return model\n",
    "\n",
    "tests.test_bd_model(bd_model)\n",
    "\n",
    "# TODO: Reshape the input\n",
    "tmp_x = pad(preproc_english_sentences, max_french_sequence_length)\n",
    "tmp_x = tmp_x.reshape((-1, preproc_french_sentences.shape[-2], 1))\n",
    "\n",
    "# TODO: Train the neural network\n",
    "bd_rnn_model = bd_model(\n",
    "    tmp_x.shape,\n",
    "    max_french_sequence_length,\n",
    "    english_vocab_size,\n",
    "    french_vocab_size)\n",
    "\n",
    "bd_rnn_model.fit(\n",
    "    tmp_x, preproc_french_sentences, batch_size=1024, epochs=30,\n",
    "    validation_split=0.2)\n",
    "\n",
    "# TODO: Train and Print prediction(s)\n",
    "print(logits_to_text(\n",
    "    bd_rnn_model.predict(tmp_x[:1])[0], french_tokenizer))"
   ]
  },
  {
   "cell_type": "markdown",
   "metadata": {},
   "source": [
    "### Model 4: Encoder-Decoder (OPTIONAL)\n",
    "Time to look at encoder-decoder models.  This model is made up of an encoder and decoder. The encoder creates a matrix representation of the sentence.  The decoder takes this matrix as input and predicts the translation as output.\n",
    "\n",
    "Create an encoder-decoder model in the cell below."
   ]
  },
  {
   "cell_type": "code",
   "execution_count": null,
   "metadata": {},
   "outputs": [],
   "source": [
    "def encdec_model(input_shape, output_sequence_length, \n",
    "                 english_vocab_size, french_vocab_size):\n",
    "    \"\"\"\n",
    "    Build and train an encoder-decoder model on x and y\n",
    "    :param input_shape: Tuple of input shape\n",
    "    :param output_sequence_length: Length of output sequence\n",
    "    :param english_vocab_size: Number of unique English words in the dataset\n",
    "    :param french_vocab_size: Number of unique French words in the dataset\n",
    "    :return: Keras model built, but not trained\n",
    "    \"\"\"\n",
    "    # OPTIONAL: Implement\n",
    "    # \n",
    "\n",
    "    \n",
    "\n",
    "    return None\n",
    "tests.test_encdec_model(encdec_model)\n",
    "\n",
    "\n",
    "# OPTIONAL: Train and Print prediction(s)"
   ]
  },
  {
   "cell_type": "markdown",
   "metadata": {},
   "source": [
    "### Model 5: Custom (IMPLEMENTATION)\n",
    "Use everything you learned from the previous models to create a model that incorporates embedding and a bidirectional rnn into one model."
   ]
  },
  {
   "cell_type": "code",
   "execution_count": null,
   "metadata": {},
   "outputs": [],
   "source": [
    "def model_final(input_shape, output_sequence_length, english_vocab_size, french_vocab_size):\n",
    "    \"\"\"\n",
    "    Build and train a model that incorporates embedding, encoder-decoder, and bidirectional RNN on x and y\n",
    "    :param input_shape: Tuple of input shape\n",
    "    :param output_sequence_length: Length of output sequence\n",
    "    :param english_vocab_size: Number of unique English words in the dataset\n",
    "    :param french_vocab_size: Number of unique French words in the dataset\n",
    "    :return: Keras model built, but not trained\n",
    "    \"\"\"\n",
    "    # TODO: Implement\n",
    "    num_units=128\n",
    "    learning_rate=5e-3\n",
    "    embedding_size=8\n",
    "    \n",
    "    # Create a layer to pad zeros to the input sequences\n",
    "    zero_length=output_sequence_length-input_shape[1]\n",
    "    def concatenate_zeros(x):\n",
    "        zeros_tensor = tf.zeros_like(x)[:,:zero_length]\n",
    "        return tf.concat([x,zeros_tensor],axis=len(input_shape)-1)\n",
    "    concat_layer = Lambda(concatenate_zeros,input_shape=input_shape[1:])\n",
    "\n",
    "    model = Sequential()\n",
    "    model.add(concat_layer)\n",
    "    model.add(Embedding(\n",
    "        input_dim=english_vocab_size+1,output_dim=embedding_size,\n",
    "        input_shape=input_shape[1:]\n",
    "    ))\n",
    "    model.add(Bidirectional(\n",
    "        GRU(num_units, return_sequences=True)))\n",
    "    model.add(Dense(french_vocab_size))\n",
    "    model.add(Activation('softmax'))\n",
    "\n",
    "    model.compile(loss=sparse_categorical_crossentropy,\n",
    "                  optimizer=Adam(lr=learning_rate),\n",
    "                  metrics=['accuracy'])\n",
    "    \n",
    "    return model\n",
    "\n",
    "tests.test_model_final(model_final)\n",
    "\n",
    "\n",
    "print('Final Model Loaded')\n",
    "# TODO: Train the final model\n",
    "#final_rnn_model = model_final(\n",
    "#    preproc_english_sentences.shape,\n",
    "#    max_french_sequence_length,\n",
    "#    english_vocab_size,\n",
    "#    french_vocab_size)\n",
    "\n",
    "# final_rnn_model.fit(\n",
    "#    preproc_english_sentences, preproc_french_sentences, batch_size=1024, epochs=20,\n",
    "#    validation_split=0.2)"
   ]
  },
  {
   "cell_type": "markdown",
   "metadata": {},
   "source": [
    "## Prediction (IMPLEMENTATION)"
   ]
  },
  {
   "cell_type": "code",
   "execution_count": null,
   "metadata": {},
   "outputs": [],
   "source": [
    "def final_predictions(x, y, x_tk, y_tk):\n",
    "    \"\"\"\n",
    "    Gets predictions using the final model\n",
    "    :param x: Preprocessed English data\n",
    "    :param y: Preprocessed French data\n",
    "    :param x_tk: English tokenizer\n",
    "    :param y_tk: French tokenizer\n",
    "    \"\"\"\n",
    "    # TODO: Train neural network using model_final\n",
    "    x_vocab_size = len(x_tk.word_index)\n",
    "    y_vocab_size = len(y_tk.word_index)\n",
    "    print(x_vocab_size,y_vocab_size,x.shape,y.shape[1])\n",
    "    model = model_final(\n",
    "        x.shape,\n",
    "        y.shape[1],\n",
    "        x_vocab_size,\n",
    "        y_vocab_size\n",
    "    )\n",
    "    model.fit(x,y,batch_size=1024, epochs=20,validation_split=0.2)\n",
    "\n",
    "    \n",
    "    ## DON'T EDIT ANYTHING BELOW THIS LINE\n",
    "    y_id_to_word = {value: key for key, value in y_tk.word_index.items()}\n",
    "    y_id_to_word[0] = '<PAD>'\n",
    "\n",
    "    sentence = 'he saw a old yellow truck'\n",
    "    sentence = [x_tk.word_index[word] for word in sentence.split()]\n",
    "    sentence = pad_sequences([sentence], maxlen=x.shape[-1], padding='post')\n",
    "    sentences = np.array([sentence[0], x[0]])\n",
    "    predictions = model.predict(sentences, len(sentences))\n",
    "\n",
    "    print('Sample 1:')\n",
    "    print(' '.join([y_id_to_word[np.argmax(x)] for x in predictions[0]]))\n",
    "    print('Il a vu un vieux camion jaune')\n",
    "    print('Sample 2:')\n",
    "    print(' '.join([y_id_to_word[np.argmax(x)] for x in predictions[1]]))\n",
    "    print(' '.join([y_id_to_word[np.max(x)] for x in y[0]]))\n",
    "\n",
    "\n",
    "final_predictions(preproc_english_sentences, preproc_french_sentences, english_tokenizer, french_tokenizer)"
   ]
  },
  {
   "cell_type": "markdown",
   "metadata": {},
   "source": [
    "## Optional Enhancements\n",
    "\n",
    "This project focuses on learning various network architectures for machine translation, but we don't evaluate the models according to best practices by splitting the data into separate test & training sets -- so the model accuracy is overstated. Use the [`sklearn.model_selection.train_test_split()`](http://scikit-learn.org/stable/modules/generated/sklearn.model_selection.train_test_split.html) function to create separate training & test datasets, then retrain each of the models using only the training set and evaluate the prediction accuracy using the hold out test set. Does the \"best\" model change?"
   ]
  }
 ],
 "metadata": {
  "kernelspec": {
   "display_name": "venv",
   "language": "python",
   "name": "venv"
  },
  "language_info": {
   "codemirror_mode": {
    "name": "ipython",
    "version": 3
   },
   "file_extension": ".py",
   "mimetype": "text/x-python",
   "name": "python",
   "nbconvert_exporter": "python",
   "pygments_lexer": "ipython3",
   "version": "3.7.4"
  }
 },
 "nbformat": 4,
 "nbformat_minor": 1
}
